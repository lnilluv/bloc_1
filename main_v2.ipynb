{
 "cells": [
  {
   "cell_type": "code",
   "execution_count": 7,
   "metadata": {
    "collapsed": false,
    "pycharm": {
     "name": "#%%\n"
    }
   },
   "outputs": [],
   "source": [
    "import os\n",
    "import requests\n",
    "import json\n",
    "import pandas as pd"
   ]
  },
  {
   "cell_type": "code",
   "execution_count": 8,
   "metadata": {
    "collapsed": false,
    "pycharm": {
     "name": "#%%\n"
    }
   },
   "outputs": [],
   "source": [
    "# Cities list to gather data from\n",
    "cities = [\"Mont Saint Michel\", \"St Malo\", \"Bayeux\", \"Le Havre\", \"Rouen\", \"Paris\", \"Amiens\", \"Lille\", \"Strasbourg\",\n",
    "          \"Chateau du Haut Koenigsbourg\",\n",
    "          \"Colmar\", \"Eguisheim\", \"Besancon\", \"Dijon\", \"Annecy\", \"Grenoble\", \"Lyon\", \"Gorges du Verdon\",\n",
    "          \"Bormes les Mimosas\", \"Cassis\", \"Marseille\", \"Aix en Provence\",\n",
    "          \"Avignon\", \"Uzes\", \"Nimes\", \"Aigues Mortes\", \"Saintes Maries de la mer\", \"Collioure\", \"Carcassonne\", \"Ariege\",\n",
    "          \"Toulouse\", \"Montauban\", \"Biarritz\", \"Bayonne\",\n",
    "          \"La Rochelle\"]"
   ]
  },
  {
   "cell_type": "code",
   "execution_count": null,
   "metadata": {
    "collapsed": false,
    "pycharm": {
     "is_executing": true,
     "name": "#%%\n"
    }
   },
   "outputs": [],
   "source": [
    "api_data = {}\n",
    "API_KEY_2 = '822e12878a17f19f31b1638759f12e0c' # API key for weathermap.org\n",
    "\n",
    "for city in cities: # Get latitude and longitude for each city in cities list\n",
    "    # API call\n",
    "    response = requests.get(f\"https://nominatim.openstreetmap.org/search?q={city}&format=json\")\n",
    "    print(f\"Loading API details for: {city}\")\n",
    "    data = json.loads(response.text)\n",
    "    api_data[city] = {\"lat\": data[0][\"lat\"], \"lon\": data[0][\"lon\"]}  # Store latitude and longitude in api_data dict\n",
    "\n",
    "    for key in api_data:  # Get weather data for each city in api_data dict\n",
    "        lon = api_data[city][\"lon\"]\n",
    "        lat = api_data[city][\"lat\"]\n",
    "        \n",
    "        # API call to weathermap.org \n",
    "        params = {\n",
    "            \"lat\": lat,\n",
    "            \"lon\": lon,\n",
    "            \"appid\": API_KEY_2,\n",
    "            \"units\": \"metric\",\n",
    "            \"exclude\": \"current,minutely,hourly\"\n",
    "        }\n",
    "        response = requests.get(\"https://api.openweathermap.org/data/2.5/onecall?\", params=params)\n",
    "        data_weather = json.loads(response.text)\n",
    "\n",
    "        # Store weather data in api_data dict\n",
    "        api_data[city] = {\n",
    "            \"lat\": lat,\n",
    "            \"lon\": lon,\n",
    "            \"avg_temp\": sum(day[\"temp\"][\"day\"] for day in data_weather[\"daily\"]) / len(data_weather[\"daily\"]), # Average temp\n",
    "            \"avg_wind\": sum(day[\"wind_speed\"] for day in data_weather[\"daily\"]) / len(data_weather[\"daily\"]), # Average wind speed\n",
    "            \"avg_clouds\": sum(day[\"clouds\"] for day in data_weather[\"daily\"]) / len(data_weather[\"daily\"]), # Average cloud cover\n",
    "            \"avg_humidity\": sum(day[\"humidity\"] for day in data_weather[\"daily\"]) / len(data_weather[\"daily\"]) # Average humidity\n",
    "        }\n",
    "\n",
    "# Save api_data dict in a json file\n",
    "with open(\"/Users/pryda/Documents/Projets_Jedha/1_Kayak/cities_weather_v2.json\", \"w\") as f:\n",
    "    json.dump(api_data, f)"
   ]
  },
  {
   "cell_type": "code",
   "execution_count": 9,
   "metadata": {
    "collapsed": false,
    "pycharm": {
     "name": "#%%\n"
    }
   },
   "outputs": [
    {
     "data": {
      "text/html": [
       "<div>\n",
       "<style scoped>\n",
       "    .dataframe tbody tr th:only-of-type {\n",
       "        vertical-align: middle;\n",
       "    }\n",
       "\n",
       "    .dataframe tbody tr th {\n",
       "        vertical-align: top;\n",
       "    }\n",
       "\n",
       "    .dataframe thead th {\n",
       "        text-align: right;\n",
       "    }\n",
       "</style>\n",
       "<table border=\"1\" class=\"dataframe\">\n",
       "  <thead>\n",
       "    <tr style=\"text-align: right;\">\n",
       "      <th></th>\n",
       "      <th>lat</th>\n",
       "      <th>lon</th>\n",
       "      <th>avg_temp</th>\n",
       "      <th>avg_wind</th>\n",
       "      <th>avg_clouds</th>\n",
       "      <th>avg_humidity</th>\n",
       "    </tr>\n",
       "  </thead>\n",
       "  <tbody>\n",
       "    <tr>\n",
       "      <th>Mont Saint Michel</th>\n",
       "      <td>48.635954</td>\n",
       "      <td>-1.511460</td>\n",
       "      <td>5.76625</td>\n",
       "      <td>4.22375</td>\n",
       "      <td>58.125</td>\n",
       "      <td>67.125</td>\n",
       "    </tr>\n",
       "    <tr>\n",
       "      <th>St Malo</th>\n",
       "      <td>48.649518</td>\n",
       "      <td>-2.026041</td>\n",
       "      <td>6.16875</td>\n",
       "      <td>5.91625</td>\n",
       "      <td>68.750</td>\n",
       "      <td>68.500</td>\n",
       "    </tr>\n",
       "    <tr>\n",
       "      <th>Bayeux</th>\n",
       "      <td>49.276462</td>\n",
       "      <td>-0.702474</td>\n",
       "      <td>5.20625</td>\n",
       "      <td>4.64500</td>\n",
       "      <td>75.125</td>\n",
       "      <td>73.000</td>\n",
       "    </tr>\n",
       "    <tr>\n",
       "      <th>Le Havre</th>\n",
       "      <td>49.493898</td>\n",
       "      <td>0.107973</td>\n",
       "      <td>5.29750</td>\n",
       "      <td>5.47250</td>\n",
       "      <td>79.125</td>\n",
       "      <td>72.500</td>\n",
       "    </tr>\n",
       "    <tr>\n",
       "      <th>Rouen</th>\n",
       "      <td>49.440459</td>\n",
       "      <td>1.093966</td>\n",
       "      <td>4.79750</td>\n",
       "      <td>3.92375</td>\n",
       "      <td>68.750</td>\n",
       "      <td>73.125</td>\n",
       "    </tr>\n",
       "  </tbody>\n",
       "</table>\n",
       "</div>"
      ],
      "text/plain": [
       "                         lat       lon  avg_temp  avg_wind  avg_clouds  \\\n",
       "Mont Saint Michel  48.635954 -1.511460   5.76625   4.22375      58.125   \n",
       "St Malo            48.649518 -2.026041   6.16875   5.91625      68.750   \n",
       "Bayeux             49.276462 -0.702474   5.20625   4.64500      75.125   \n",
       "Le Havre           49.493898  0.107973   5.29750   5.47250      79.125   \n",
       "Rouen              49.440459  1.093966   4.79750   3.92375      68.750   \n",
       "\n",
       "                   avg_humidity  \n",
       "Mont Saint Michel        67.125  \n",
       "St Malo                  68.500  \n",
       "Bayeux                   73.000  \n",
       "Le Havre                 72.500  \n",
       "Rouen                    73.125  "
      ]
     },
     "execution_count": 9,
     "metadata": {},
     "output_type": "execute_result"
    }
   ],
   "source": [
    "# create dataframe from cities_weather.json\n",
    "df = pd.read_json(\"/Users/pryda/Documents/Projets_Jedha/1_Kayak/cities_weather.json\", orient=\"index\")\n",
    "df.head()"
   ]
  },
  {
   "cell_type": "code",
   "execution_count": 10,
   "metadata": {
    "collapsed": false,
    "pycharm": {
     "name": "#%%\n"
    }
   },
   "outputs": [
    {
     "data": {
      "text/html": [
       "<div>\n",
       "<style scoped>\n",
       "    .dataframe tbody tr th:only-of-type {\n",
       "        vertical-align: middle;\n",
       "    }\n",
       "\n",
       "    .dataframe tbody tr th {\n",
       "        vertical-align: top;\n",
       "    }\n",
       "\n",
       "    .dataframe thead th {\n",
       "        text-align: right;\n",
       "    }\n",
       "</style>\n",
       "<table border=\"1\" class=\"dataframe\">\n",
       "  <thead>\n",
       "    <tr style=\"text-align: right;\">\n",
       "      <th></th>\n",
       "      <th>lat</th>\n",
       "      <th>lon</th>\n",
       "      <th>avg_temp</th>\n",
       "      <th>avg_wind</th>\n",
       "      <th>avg_clouds</th>\n",
       "      <th>avg_humidity</th>\n",
       "      <th>avg_temp_rank</th>\n",
       "      <th>avg_wind_rank</th>\n",
       "      <th>avg_clouds_rank</th>\n",
       "      <th>avg_humidity_rank</th>\n",
       "      <th>total_score</th>\n",
       "    </tr>\n",
       "  </thead>\n",
       "  <tbody>\n",
       "    <tr>\n",
       "      <th>Eguisheim</th>\n",
       "      <td>48.044797</td>\n",
       "      <td>7.307962</td>\n",
       "      <td>4.5450</td>\n",
       "      <td>1.84000</td>\n",
       "      <td>86.625</td>\n",
       "      <td>84.750</td>\n",
       "      <td>60.0</td>\n",
       "      <td>6.0</td>\n",
       "      <td>17.5</td>\n",
       "      <td>35.0</td>\n",
       "      <td>147.5</td>\n",
       "    </tr>\n",
       "    <tr>\n",
       "      <th>Chateau du Haut Koenigsbourg</th>\n",
       "      <td>48.249490</td>\n",
       "      <td>7.344296</td>\n",
       "      <td>1.6850</td>\n",
       "      <td>1.69625</td>\n",
       "      <td>80.625</td>\n",
       "      <td>82.125</td>\n",
       "      <td>70.0</td>\n",
       "      <td>2.0</td>\n",
       "      <td>13.0</td>\n",
       "      <td>31.0</td>\n",
       "      <td>145.0</td>\n",
       "    </tr>\n",
       "    <tr>\n",
       "      <th>Colmar</th>\n",
       "      <td>48.077752</td>\n",
       "      <td>7.357964</td>\n",
       "      <td>4.5100</td>\n",
       "      <td>2.00375</td>\n",
       "      <td>85.500</td>\n",
       "      <td>83.875</td>\n",
       "      <td>62.0</td>\n",
       "      <td>8.0</td>\n",
       "      <td>17.0</td>\n",
       "      <td>33.0</td>\n",
       "      <td>145.0</td>\n",
       "    </tr>\n",
       "    <tr>\n",
       "      <th>Dijon</th>\n",
       "      <td>47.321581</td>\n",
       "      <td>5.041470</td>\n",
       "      <td>4.6275</td>\n",
       "      <td>3.39375</td>\n",
       "      <td>82.500</td>\n",
       "      <td>83.750</td>\n",
       "      <td>58.0</td>\n",
       "      <td>24.0</td>\n",
       "      <td>15.0</td>\n",
       "      <td>32.0</td>\n",
       "      <td>137.0</td>\n",
       "    </tr>\n",
       "    <tr>\n",
       "      <th>Strasbourg</th>\n",
       "      <td>48.584614</td>\n",
       "      <td>7.750713</td>\n",
       "      <td>4.3625</td>\n",
       "      <td>2.55500</td>\n",
       "      <td>76.875</td>\n",
       "      <td>78.875</td>\n",
       "      <td>66.0</td>\n",
       "      <td>16.0</td>\n",
       "      <td>9.0</td>\n",
       "      <td>27.0</td>\n",
       "      <td>129.0</td>\n",
       "    </tr>\n",
       "  </tbody>\n",
       "</table>\n",
       "</div>"
      ],
      "text/plain": [
       "                                    lat       lon  avg_temp  avg_wind  \\\n",
       "Eguisheim                     48.044797  7.307962    4.5450   1.84000   \n",
       "Chateau du Haut Koenigsbourg  48.249490  7.344296    1.6850   1.69625   \n",
       "Colmar                        48.077752  7.357964    4.5100   2.00375   \n",
       "Dijon                         47.321581  5.041470    4.6275   3.39375   \n",
       "Strasbourg                    48.584614  7.750713    4.3625   2.55500   \n",
       "\n",
       "                              avg_clouds  avg_humidity  avg_temp_rank  \\\n",
       "Eguisheim                         86.625        84.750           60.0   \n",
       "Chateau du Haut Koenigsbourg      80.625        82.125           70.0   \n",
       "Colmar                            85.500        83.875           62.0   \n",
       "Dijon                             82.500        83.750           58.0   \n",
       "Strasbourg                        76.875        78.875           66.0   \n",
       "\n",
       "                              avg_wind_rank  avg_clouds_rank  \\\n",
       "Eguisheim                               6.0             17.5   \n",
       "Chateau du Haut Koenigsbourg            2.0             13.0   \n",
       "Colmar                                  8.0             17.0   \n",
       "Dijon                                  24.0             15.0   \n",
       "Strasbourg                             16.0              9.0   \n",
       "\n",
       "                              avg_humidity_rank  total_score  \n",
       "Eguisheim                                  35.0        147.5  \n",
       "Chateau du Haut Koenigsbourg               31.0        145.0  \n",
       "Colmar                                     33.0        145.0  \n",
       "Dijon                                      32.0        137.0  \n",
       "Strasbourg                                 27.0        129.0  "
      ]
     },
     "execution_count": 10,
     "metadata": {},
     "output_type": "execute_result"
    }
   ],
   "source": [
    "# Adding ranks for cities variables\n",
    "# Our best cities will have the worst weather conditions\n",
    "df[\"avg_temp_rank\"] = df.rank(method=\"first\", ascending=False)[\"avg_temp\"]*2 # Rank cities by average temperature (lower is better)\n",
    "df[\"avg_wind_rank\"] = df.rank(method=\"first\", ascending=True)[\"avg_wind\"]*2 # Rank cities by average wind speed (higher is better)\n",
    "df[\"avg_clouds_rank\"] = df.rank(method=\"first\", ascending=True)[\"avg_clouds\"]*0.5 # Rank cities by average cloudiness (higher is better)\n",
    "df[\"avg_humidity_rank\"] = df.rank(method=\"first\", ascending=True)[\"avg_humidity\"]# Rank cities by average humidity (higher is better)\n",
    "df[\"total_score\"] = df.avg_temp_rank + df.avg_humidity_rank + df.avg_clouds_rank + df.avg_humidity_rank # Total score for each city\n",
    "df.sort_values(by=\"total_score\", inplace=True, ascending=False) # Sort cities by total score\n",
    "df.head()"
   ]
  },
  {
   "cell_type": "code",
   "execution_count": 25,
   "metadata": {
    "pycharm": {
     "name": "#%%\n"
    }
   },
   "outputs": [
    {
     "data": {
      "application/vnd.plotly.v1+json": {
       "config": {
        "plotlyServerURL": "https://plot.ly"
       },
       "data": [
        {
         "customdata": [
          [
           147.5
          ],
          [
           145
          ],
          [
           145
          ],
          [
           137
          ],
          [
           129
          ],
          [
           128
          ],
          [
           116.5
          ],
          [
           100
          ],
          [
           100
          ],
          [
           99.5
          ],
          [
           96.5
          ],
          [
           90
          ],
          [
           90
          ],
          [
           89.5
          ],
          [
           88.5
          ],
          [
           88
          ],
          [
           86.5
          ],
          [
           85.5
          ],
          [
           85.5
          ],
          [
           85
          ],
          [
           67.5
          ],
          [
           63.5
          ],
          [
           59
          ],
          [
           58.5
          ],
          [
           57.5
          ],
          [
           54
          ],
          [
           52
          ],
          [
           48.5
          ],
          [
           44.5
          ],
          [
           44.5
          ],
          [
           43
          ],
          [
           41.5
          ],
          [
           31
          ],
          [
           27
          ],
          [
           10.5
          ]
         ],
         "hovertemplate": "<b>%{hovertext}</b><br><br>total_score=%{marker.color}<br>lat=%{lat}<br>lon=%{lon}<extra></extra>",
         "hovertext": [
          "Eguisheim",
          "Chateau du Haut Koenigsbourg",
          "Colmar",
          "Dijon",
          "Strasbourg",
          "Besancon",
          "Annecy",
          "Gorges du Verdon",
          "Lille",
          "Lyon",
          "Amiens",
          "Rouen",
          "Grenoble",
          "Biarritz",
          "Bayonne",
          "Bayeux",
          "La Rochelle",
          "Ariege",
          "Uzes",
          "Le Havre",
          "Avignon",
          "Nimes",
          "Paris",
          "Bormes les Mimosas",
          "St Malo",
          "Montauban",
          "Aigues Mortes",
          "Mont Saint Michel",
          "Carcassonne",
          "Aix en Provence",
          "Toulouse",
          "Saintes Maries de la mer",
          "Cassis",
          "Marseille",
          "Collioure"
         ],
         "lat": [
          48.0447968,
          48.249489800000006,
          48.0777517,
          47.3215806,
          48.584614,
          47.2380222,
          45.8992348,
          43.7496562,
          50.6365654,
          45.7578137,
          49.8941708,
          49.4404591,
          45.1875602,
          43.471143749999996,
          43.4945144,
          49.2764624,
          46.1591126,
          42.9455368,
          44.0121279,
          49.4938975,
          43.9492493,
          43.8374249,
          48.8588897,
          43.1506968,
          48.649518,
          44.0175835,
          43.5658225,
          48.6359541,
          43.2130358,
          43.5298424,
          43.6044622,
          43.4522771,
          43.2140359,
          43.2961743,
          42.52505
         ],
         "legendgroup": "",
         "lon": [
          7.3079618,
          7.34429620253195,
          7.3579641,
          5.0414701,
          7.7507127,
          6.0243622,
          6.1288847,
          6.3285616,
          3.0635282,
          4.8320114,
          2.2956951,
          1.0939658,
          5.7357819,
          -1.552726590666314,
          -1.4736657,
          -0.7024738,
          -1.1520434,
          1.4065544156065486,
          4.4196718,
          0.1079732,
          4.8059012,
          4.3600687,
          2.3200410217200766,
          6.3419285,
          -2.0260409,
          1.3549991,
          4.1912837,
          -1.511459954959514,
          2.3491069,
          5.4474738,
          1.4442469,
          4.4287172,
          5.5396318,
          5.3699525,
          3.0831554
         ],
         "marker": {
          "color": [
           147.5,
           145,
           145,
           137,
           129,
           128,
           116.5,
           100,
           100,
           99.5,
           96.5,
           90,
           90,
           89.5,
           88.5,
           88,
           86.5,
           85.5,
           85.5,
           85,
           67.5,
           63.5,
           59,
           58.5,
           57.5,
           54,
           52,
           48.5,
           44.5,
           44.5,
           43,
           41.5,
           31,
           27,
           10.5
          ],
          "coloraxis": "coloraxis",
          "size": [
           147.5,
           145,
           145,
           137,
           129,
           128,
           116.5,
           100,
           100,
           99.5,
           96.5,
           90,
           90,
           89.5,
           88.5,
           88,
           86.5,
           85.5,
           85.5,
           85,
           67.5,
           63.5,
           59,
           58.5,
           57.5,
           54,
           52,
           48.5,
           44.5,
           44.5,
           43,
           41.5,
           31,
           27,
           10.5
          ],
          "sizemode": "area",
          "sizeref": 0.36875
         },
         "mode": "markers",
         "name": "",
         "showlegend": false,
         "subplot": "mapbox",
         "type": "scattermapbox"
        }
       ],
       "layout": {
        "coloraxis": {
         "colorbar": {
          "title": {
           "text": "total_score"
          }
         },
         "colorscale": [
          [
           0,
           "#0d0887"
          ],
          [
           0.1111111111111111,
           "#46039f"
          ],
          [
           0.2222222222222222,
           "#7201a8"
          ],
          [
           0.3333333333333333,
           "#9c179e"
          ],
          [
           0.4444444444444444,
           "#bd3786"
          ],
          [
           0.5555555555555556,
           "#d8576b"
          ],
          [
           0.6666666666666666,
           "#ed7953"
          ],
          [
           0.7777777777777778,
           "#fb9f3a"
          ],
          [
           0.8888888888888888,
           "#fdca26"
          ],
          [
           1,
           "#f0f921"
          ]
         ]
        },
        "height": 600,
        "legend": {
         "itemsizing": "constant",
         "tracegroupgap": 0
        },
        "mapbox": {
         "center": {
          "lat": 45.84098649,
          "lon": 3.395928331263792
         },
         "domain": {
          "x": [
           0,
           1
          ],
          "y": [
           0,
           1
          ]
         },
         "style": "open-street-map",
         "zoom": 4
        },
        "margin": {
         "t": 60
        },
        "template": {
         "data": {
          "bar": [
           {
            "error_x": {
             "color": "#2a3f5f"
            },
            "error_y": {
             "color": "#2a3f5f"
            },
            "marker": {
             "line": {
              "color": "#E5ECF6",
              "width": 0.5
             },
             "pattern": {
              "fillmode": "overlay",
              "size": 10,
              "solidity": 0.2
             }
            },
            "type": "bar"
           }
          ],
          "barpolar": [
           {
            "marker": {
             "line": {
              "color": "#E5ECF6",
              "width": 0.5
             },
             "pattern": {
              "fillmode": "overlay",
              "size": 10,
              "solidity": 0.2
             }
            },
            "type": "barpolar"
           }
          ],
          "carpet": [
           {
            "aaxis": {
             "endlinecolor": "#2a3f5f",
             "gridcolor": "white",
             "linecolor": "white",
             "minorgridcolor": "white",
             "startlinecolor": "#2a3f5f"
            },
            "baxis": {
             "endlinecolor": "#2a3f5f",
             "gridcolor": "white",
             "linecolor": "white",
             "minorgridcolor": "white",
             "startlinecolor": "#2a3f5f"
            },
            "type": "carpet"
           }
          ],
          "choropleth": [
           {
            "colorbar": {
             "outlinewidth": 0,
             "ticks": ""
            },
            "type": "choropleth"
           }
          ],
          "contour": [
           {
            "colorbar": {
             "outlinewidth": 0,
             "ticks": ""
            },
            "colorscale": [
             [
              0,
              "#0d0887"
             ],
             [
              0.1111111111111111,
              "#46039f"
             ],
             [
              0.2222222222222222,
              "#7201a8"
             ],
             [
              0.3333333333333333,
              "#9c179e"
             ],
             [
              0.4444444444444444,
              "#bd3786"
             ],
             [
              0.5555555555555556,
              "#d8576b"
             ],
             [
              0.6666666666666666,
              "#ed7953"
             ],
             [
              0.7777777777777778,
              "#fb9f3a"
             ],
             [
              0.8888888888888888,
              "#fdca26"
             ],
             [
              1,
              "#f0f921"
             ]
            ],
            "type": "contour"
           }
          ],
          "contourcarpet": [
           {
            "colorbar": {
             "outlinewidth": 0,
             "ticks": ""
            },
            "type": "contourcarpet"
           }
          ],
          "heatmap": [
           {
            "colorbar": {
             "outlinewidth": 0,
             "ticks": ""
            },
            "colorscale": [
             [
              0,
              "#0d0887"
             ],
             [
              0.1111111111111111,
              "#46039f"
             ],
             [
              0.2222222222222222,
              "#7201a8"
             ],
             [
              0.3333333333333333,
              "#9c179e"
             ],
             [
              0.4444444444444444,
              "#bd3786"
             ],
             [
              0.5555555555555556,
              "#d8576b"
             ],
             [
              0.6666666666666666,
              "#ed7953"
             ],
             [
              0.7777777777777778,
              "#fb9f3a"
             ],
             [
              0.8888888888888888,
              "#fdca26"
             ],
             [
              1,
              "#f0f921"
             ]
            ],
            "type": "heatmap"
           }
          ],
          "heatmapgl": [
           {
            "colorbar": {
             "outlinewidth": 0,
             "ticks": ""
            },
            "colorscale": [
             [
              0,
              "#0d0887"
             ],
             [
              0.1111111111111111,
              "#46039f"
             ],
             [
              0.2222222222222222,
              "#7201a8"
             ],
             [
              0.3333333333333333,
              "#9c179e"
             ],
             [
              0.4444444444444444,
              "#bd3786"
             ],
             [
              0.5555555555555556,
              "#d8576b"
             ],
             [
              0.6666666666666666,
              "#ed7953"
             ],
             [
              0.7777777777777778,
              "#fb9f3a"
             ],
             [
              0.8888888888888888,
              "#fdca26"
             ],
             [
              1,
              "#f0f921"
             ]
            ],
            "type": "heatmapgl"
           }
          ],
          "histogram": [
           {
            "marker": {
             "pattern": {
              "fillmode": "overlay",
              "size": 10,
              "solidity": 0.2
             }
            },
            "type": "histogram"
           }
          ],
          "histogram2d": [
           {
            "colorbar": {
             "outlinewidth": 0,
             "ticks": ""
            },
            "colorscale": [
             [
              0,
              "#0d0887"
             ],
             [
              0.1111111111111111,
              "#46039f"
             ],
             [
              0.2222222222222222,
              "#7201a8"
             ],
             [
              0.3333333333333333,
              "#9c179e"
             ],
             [
              0.4444444444444444,
              "#bd3786"
             ],
             [
              0.5555555555555556,
              "#d8576b"
             ],
             [
              0.6666666666666666,
              "#ed7953"
             ],
             [
              0.7777777777777778,
              "#fb9f3a"
             ],
             [
              0.8888888888888888,
              "#fdca26"
             ],
             [
              1,
              "#f0f921"
             ]
            ],
            "type": "histogram2d"
           }
          ],
          "histogram2dcontour": [
           {
            "colorbar": {
             "outlinewidth": 0,
             "ticks": ""
            },
            "colorscale": [
             [
              0,
              "#0d0887"
             ],
             [
              0.1111111111111111,
              "#46039f"
             ],
             [
              0.2222222222222222,
              "#7201a8"
             ],
             [
              0.3333333333333333,
              "#9c179e"
             ],
             [
              0.4444444444444444,
              "#bd3786"
             ],
             [
              0.5555555555555556,
              "#d8576b"
             ],
             [
              0.6666666666666666,
              "#ed7953"
             ],
             [
              0.7777777777777778,
              "#fb9f3a"
             ],
             [
              0.8888888888888888,
              "#fdca26"
             ],
             [
              1,
              "#f0f921"
             ]
            ],
            "type": "histogram2dcontour"
           }
          ],
          "mesh3d": [
           {
            "colorbar": {
             "outlinewidth": 0,
             "ticks": ""
            },
            "type": "mesh3d"
           }
          ],
          "parcoords": [
           {
            "line": {
             "colorbar": {
              "outlinewidth": 0,
              "ticks": ""
             }
            },
            "type": "parcoords"
           }
          ],
          "pie": [
           {
            "automargin": true,
            "type": "pie"
           }
          ],
          "scatter": [
           {
            "fillpattern": {
             "fillmode": "overlay",
             "size": 10,
             "solidity": 0.2
            },
            "type": "scatter"
           }
          ],
          "scatter3d": [
           {
            "line": {
             "colorbar": {
              "outlinewidth": 0,
              "ticks": ""
             }
            },
            "marker": {
             "colorbar": {
              "outlinewidth": 0,
              "ticks": ""
             }
            },
            "type": "scatter3d"
           }
          ],
          "scattercarpet": [
           {
            "marker": {
             "colorbar": {
              "outlinewidth": 0,
              "ticks": ""
             }
            },
            "type": "scattercarpet"
           }
          ],
          "scattergeo": [
           {
            "marker": {
             "colorbar": {
              "outlinewidth": 0,
              "ticks": ""
             }
            },
            "type": "scattergeo"
           }
          ],
          "scattergl": [
           {
            "marker": {
             "colorbar": {
              "outlinewidth": 0,
              "ticks": ""
             }
            },
            "type": "scattergl"
           }
          ],
          "scattermapbox": [
           {
            "marker": {
             "colorbar": {
              "outlinewidth": 0,
              "ticks": ""
             }
            },
            "type": "scattermapbox"
           }
          ],
          "scatterpolar": [
           {
            "marker": {
             "colorbar": {
              "outlinewidth": 0,
              "ticks": ""
             }
            },
            "type": "scatterpolar"
           }
          ],
          "scatterpolargl": [
           {
            "marker": {
             "colorbar": {
              "outlinewidth": 0,
              "ticks": ""
             }
            },
            "type": "scatterpolargl"
           }
          ],
          "scatterternary": [
           {
            "marker": {
             "colorbar": {
              "outlinewidth": 0,
              "ticks": ""
             }
            },
            "type": "scatterternary"
           }
          ],
          "surface": [
           {
            "colorbar": {
             "outlinewidth": 0,
             "ticks": ""
            },
            "colorscale": [
             [
              0,
              "#0d0887"
             ],
             [
              0.1111111111111111,
              "#46039f"
             ],
             [
              0.2222222222222222,
              "#7201a8"
             ],
             [
              0.3333333333333333,
              "#9c179e"
             ],
             [
              0.4444444444444444,
              "#bd3786"
             ],
             [
              0.5555555555555556,
              "#d8576b"
             ],
             [
              0.6666666666666666,
              "#ed7953"
             ],
             [
              0.7777777777777778,
              "#fb9f3a"
             ],
             [
              0.8888888888888888,
              "#fdca26"
             ],
             [
              1,
              "#f0f921"
             ]
            ],
            "type": "surface"
           }
          ],
          "table": [
           {
            "cells": {
             "fill": {
              "color": "#EBF0F8"
             },
             "line": {
              "color": "white"
             }
            },
            "header": {
             "fill": {
              "color": "#C8D4E3"
             },
             "line": {
              "color": "white"
             }
            },
            "type": "table"
           }
          ]
         },
         "layout": {
          "annotationdefaults": {
           "arrowcolor": "#2a3f5f",
           "arrowhead": 0,
           "arrowwidth": 1
          },
          "autotypenumbers": "strict",
          "coloraxis": {
           "colorbar": {
            "outlinewidth": 0,
            "ticks": ""
           }
          },
          "colorscale": {
           "diverging": [
            [
             0,
             "#8e0152"
            ],
            [
             0.1,
             "#c51b7d"
            ],
            [
             0.2,
             "#de77ae"
            ],
            [
             0.3,
             "#f1b6da"
            ],
            [
             0.4,
             "#fde0ef"
            ],
            [
             0.5,
             "#f7f7f7"
            ],
            [
             0.6,
             "#e6f5d0"
            ],
            [
             0.7,
             "#b8e186"
            ],
            [
             0.8,
             "#7fbc41"
            ],
            [
             0.9,
             "#4d9221"
            ],
            [
             1,
             "#276419"
            ]
           ],
           "sequential": [
            [
             0,
             "#0d0887"
            ],
            [
             0.1111111111111111,
             "#46039f"
            ],
            [
             0.2222222222222222,
             "#7201a8"
            ],
            [
             0.3333333333333333,
             "#9c179e"
            ],
            [
             0.4444444444444444,
             "#bd3786"
            ],
            [
             0.5555555555555556,
             "#d8576b"
            ],
            [
             0.6666666666666666,
             "#ed7953"
            ],
            [
             0.7777777777777778,
             "#fb9f3a"
            ],
            [
             0.8888888888888888,
             "#fdca26"
            ],
            [
             1,
             "#f0f921"
            ]
           ],
           "sequentialminus": [
            [
             0,
             "#0d0887"
            ],
            [
             0.1111111111111111,
             "#46039f"
            ],
            [
             0.2222222222222222,
             "#7201a8"
            ],
            [
             0.3333333333333333,
             "#9c179e"
            ],
            [
             0.4444444444444444,
             "#bd3786"
            ],
            [
             0.5555555555555556,
             "#d8576b"
            ],
            [
             0.6666666666666666,
             "#ed7953"
            ],
            [
             0.7777777777777778,
             "#fb9f3a"
            ],
            [
             0.8888888888888888,
             "#fdca26"
            ],
            [
             1,
             "#f0f921"
            ]
           ]
          },
          "colorway": [
           "#636efa",
           "#EF553B",
           "#00cc96",
           "#ab63fa",
           "#FFA15A",
           "#19d3f3",
           "#FF6692",
           "#B6E880",
           "#FF97FF",
           "#FECB52"
          ],
          "font": {
           "color": "#2a3f5f"
          },
          "geo": {
           "bgcolor": "white",
           "lakecolor": "white",
           "landcolor": "#E5ECF6",
           "showlakes": true,
           "showland": true,
           "subunitcolor": "white"
          },
          "hoverlabel": {
           "align": "left"
          },
          "hovermode": "closest",
          "mapbox": {
           "style": "light"
          },
          "paper_bgcolor": "white",
          "plot_bgcolor": "#E5ECF6",
          "polar": {
           "angularaxis": {
            "gridcolor": "white",
            "linecolor": "white",
            "ticks": ""
           },
           "bgcolor": "#E5ECF6",
           "radialaxis": {
            "gridcolor": "white",
            "linecolor": "white",
            "ticks": ""
           }
          },
          "scene": {
           "xaxis": {
            "backgroundcolor": "#E5ECF6",
            "gridcolor": "white",
            "gridwidth": 2,
            "linecolor": "white",
            "showbackground": true,
            "ticks": "",
            "zerolinecolor": "white"
           },
           "yaxis": {
            "backgroundcolor": "#E5ECF6",
            "gridcolor": "white",
            "gridwidth": 2,
            "linecolor": "white",
            "showbackground": true,
            "ticks": "",
            "zerolinecolor": "white"
           },
           "zaxis": {
            "backgroundcolor": "#E5ECF6",
            "gridcolor": "white",
            "gridwidth": 2,
            "linecolor": "white",
            "showbackground": true,
            "ticks": "",
            "zerolinecolor": "white"
           }
          },
          "shapedefaults": {
           "line": {
            "color": "#2a3f5f"
           }
          },
          "ternary": {
           "aaxis": {
            "gridcolor": "white",
            "linecolor": "white",
            "ticks": ""
           },
           "baxis": {
            "gridcolor": "white",
            "linecolor": "white",
            "ticks": ""
           },
           "bgcolor": "#E5ECF6",
           "caxis": {
            "gridcolor": "white",
            "linecolor": "white",
            "ticks": ""
           }
          },
          "title": {
           "x": 0.05
          },
          "xaxis": {
           "automargin": true,
           "gridcolor": "white",
           "linecolor": "white",
           "ticks": "",
           "title": {
            "standoff": 15
           },
           "zerolinecolor": "white",
           "zerolinewidth": 2
          },
          "yaxis": {
           "automargin": true,
           "gridcolor": "white",
           "linecolor": "white",
           "ticks": "",
           "title": {
            "standoff": 15
           },
           "zerolinecolor": "white",
           "zerolinewidth": 2
          }
         }
        },
        "width": 800
       }
      }
     },
     "metadata": {},
     "output_type": "display_data"
    }
   ],
   "source": [
    "import plotly.express as px\n",
    "\n",
    "# create a mapbox of France with cities and their total score\n",
    "fig = px.scatter_mapbox(df, lat=\"lat\", lon=\"lon\", hover_name=df.index, hover_data=[\"total_score\"],\n",
    "                        color=df.total_score, zoom=4, height=600, width=800, size=df.total_score, size_max=20)\n",
    "fig.update_layout(mapbox_style=\"open-street-map\")\n",
    "# fig.update_layout(margin={\"r\":0,\"t\":0,\"l\":0,\"b\":0})\n",
    "fig.show()"
   ]
  },
  {
   "cell_type": "code",
   "execution_count": null,
   "metadata": {
    "pycharm": {
     "name": "#%%\n"
    }
   },
   "outputs": [],
   "source": [
    "import boto3\n",
    "session = boto3.Session(profile_name='pryda')\n",
    "s3 = session.resource('s3')"
   ]
  },
  {
   "cell_type": "code",
   "execution_count": 38,
   "metadata": {
    "pycharm": {
     "name": "#%%\n"
    }
   },
   "outputs": [],
   "source": [
    "try:\n",
    "    bucket = s3.create_bucket(Bucket='projetkayak-dataupload-prod-euwest3', CreateBucketConfiguration={'LocationConstraint': 'eu-west-3'})\n",
    "except Exception as e:\n",
    "    bucket = s3.Bucket('projetkayak-dataupload-prod-euwest3')"
   ]
  },
  {
   "cell_type": "code",
   "execution_count": 53,
   "metadata": {
    "pycharm": {
     "name": "#%%\n"
    }
   },
   "outputs": [
    {
     "data": {
      "text/plain": [
       "{'ResponseMetadata': {'RequestId': 'W79TRSCFCXCM8W6Z',\n",
       "  'HostId': 'upYNRLMEm4PkgnwzequpE97S2dnfv23ap9URUId1bzJXmaVabmc9P9TdRgaipVlDq/rRXAHhC+w=',\n",
       "  'HTTPStatusCode': 200,\n",
       "  'HTTPHeaders': {'x-amz-id-2': 'upYNRLMEm4PkgnwzequpE97S2dnfv23ap9URUId1bzJXmaVabmc9P9TdRgaipVlDq/rRXAHhC+w=',\n",
       "   'x-amz-request-id': 'W79TRSCFCXCM8W6Z',\n",
       "   'date': 'Sat, 03 Dec 2022 16:58:14 GMT',\n",
       "   'etag': '\"c1b17bea15605166c274b15c990d8361\"',\n",
       "   'server': 'AmazonS3',\n",
       "   'content-length': '0'},\n",
       "  'RetryAttempts': 0},\n",
       " 'ETag': '\"c1b17bea15605166c274b15c990d8361\"'}"
      ]
     },
     "execution_count": 53,
     "metadata": {},
     "output_type": "execute_result"
    }
   ],
   "source": [
    "# store df in csv file in the bucket\n",
    "bucket.Object(key='cities_weather.csv').put(Body=df.to_csv())\n",
    "# transform hotels.json as csv file and save in the bucket\n",
    "bucket.Object(key='hotels.csv').put(Body=pd.read_json(\"/Users/pryda/Documents/Projets_Jedha/1_Kayak/Scrapping/hotelsbooking/hotels.json\").to_csv())\n"
   ]
  },
  {
   "cell_type": "markdown",
   "metadata": {
    "pycharm": {
     "name": "#%% md\n"
    }
   },
   "source": [
    "# ETL Process"
   ]
  },
  {
   "cell_type": "code",
   "execution_count": 172,
   "metadata": {
    "pycharm": {
     "name": "#%%\n"
    }
   },
   "outputs": [],
   "source": [
    "df_hotels = pd.read_csv(\"s3://projetkayak-dataupload-prod-euwest3/hotels.csv\", index_col=0)\n",
    "df_cities = pd.read_csv(\"s3://projetkayak-dataupload-prod-euwest3/cities_weather.csv\", index_col=0)"
   ]
  },
  {
   "cell_type": "code",
   "execution_count": 173,
   "metadata": {
    "pycharm": {
     "name": "#%%\n"
    }
   },
   "outputs": [],
   "source": [
    "df_hotels.hotel_score = df_hotels.hotel_score.str.replace(\",\", \".\") # Replace \",\" by \".\" in hotel_score column\n",
    "df_hotels.hotel_score = df_hotels.hotel_score.astype(float) # Convert hotel_score column to float\n",
    "df_hotels = df_hotels.groupby(\"city\").apply(lambda x: x.nlargest(35, \"hotel_score\")).reset_index(drop=True) # Keep only 25 best hotels per city"
   ]
  },
  {
   "cell_type": "code",
   "execution_count": 186,
   "metadata": {
    "pycharm": {
     "name": "#%%\n"
    }
   },
   "outputs": [
    {
     "data": {
      "text/html": [
       "<div>\n",
       "<style scoped>\n",
       "    .dataframe tbody tr th:only-of-type {\n",
       "        vertical-align: middle;\n",
       "    }\n",
       "\n",
       "    .dataframe tbody tr th {\n",
       "        vertical-align: top;\n",
       "    }\n",
       "\n",
       "    .dataframe thead th {\n",
       "        text-align: right;\n",
       "    }\n",
       "</style>\n",
       "<table border=\"1\" class=\"dataframe\">\n",
       "  <thead>\n",
       "    <tr style=\"text-align: right;\">\n",
       "      <th></th>\n",
       "      <th>city</th>\n",
       "      <th>hotel_name</th>\n",
       "      <th>hotel_score</th>\n",
       "      <th>hotel_description</th>\n",
       "      <th>hotel_url</th>\n",
       "    </tr>\n",
       "  </thead>\n",
       "  <tbody>\n",
       "    <tr>\n",
       "      <th>0</th>\n",
       "      <td>Aigues Mortes</td>\n",
       "      <td>Nouveau! Magnifique appartement climatisé</td>\n",
       "      <td>10.0</td>\n",
       "      <td>NaN</td>\n",
       "      <td>https://www.booking.com/hotel/fr/nouveau-magni...</td>\n",
       "    </tr>\n",
       "    <tr>\n",
       "      <th>1</th>\n",
       "      <td>Aigues Mortes</td>\n",
       "      <td>Au Cœur des Remparts</td>\n",
       "      <td>9.9</td>\n",
       "      <td>NaN</td>\n",
       "      <td>https://www.booking.com/hotel/fr/au-coeur-des-...</td>\n",
       "    </tr>\n",
       "    <tr>\n",
       "      <th>2</th>\n",
       "      <td>Aigues Mortes</td>\n",
       "      <td>Marcelle en Camargue</td>\n",
       "      <td>9.9</td>\n",
       "      <td>NaN</td>\n",
       "      <td>https://www.booking.com/hotel/fr/marcelle-en-c...</td>\n",
       "    </tr>\n",
       "    <tr>\n",
       "      <th>3</th>\n",
       "      <td>Aigues Mortes</td>\n",
       "      <td>App design au centre des remparts d’Aigues-Mor...</td>\n",
       "      <td>9.9</td>\n",
       "      <td>NaN</td>\n",
       "      <td>https://www.booking.com/hotel/fr/app-design-au...</td>\n",
       "    </tr>\n",
       "    <tr>\n",
       "      <th>4</th>\n",
       "      <td>Aigues Mortes</td>\n",
       "      <td>séjour insolite et écologique dans une Tiny house</td>\n",
       "      <td>9.8</td>\n",
       "      <td>NaN</td>\n",
       "      <td>https://www.booking.com/hotel/fr/sejour-insoli...</td>\n",
       "    </tr>\n",
       "  </tbody>\n",
       "</table>\n",
       "</div>"
      ],
      "text/plain": [
       "            city                                         hotel_name  \\\n",
       "0  Aigues Mortes          Nouveau! Magnifique appartement climatisé   \n",
       "1  Aigues Mortes                               Au Cœur des Remparts   \n",
       "2  Aigues Mortes                               Marcelle en Camargue   \n",
       "3  Aigues Mortes  App design au centre des remparts d’Aigues-Mor...   \n",
       "4  Aigues Mortes  séjour insolite et écologique dans une Tiny house   \n",
       "\n",
       "   hotel_score  hotel_description  \\\n",
       "0         10.0                NaN   \n",
       "1          9.9                NaN   \n",
       "2          9.9                NaN   \n",
       "3          9.9                NaN   \n",
       "4          9.8                NaN   \n",
       "\n",
       "                                           hotel_url  \n",
       "0  https://www.booking.com/hotel/fr/nouveau-magni...  \n",
       "1  https://www.booking.com/hotel/fr/au-coeur-des-...  \n",
       "2  https://www.booking.com/hotel/fr/marcelle-en-c...  \n",
       "3  https://www.booking.com/hotel/fr/app-design-au...  \n",
       "4  https://www.booking.com/hotel/fr/sejour-insoli...  "
      ]
     },
     "execution_count": 186,
     "metadata": {},
     "output_type": "execute_result"
    }
   ],
   "source": [
    "df_hotels.head()"
   ]
  },
  {
   "cell_type": "code",
   "execution_count": 175,
   "metadata": {
    "pycharm": {
     "name": "#%%\n"
    }
   },
   "outputs": [
    {
     "data": {
      "text/html": [
       "<div>\n",
       "<style scoped>\n",
       "    .dataframe tbody tr th:only-of-type {\n",
       "        vertical-align: middle;\n",
       "    }\n",
       "\n",
       "    .dataframe tbody tr th {\n",
       "        vertical-align: top;\n",
       "    }\n",
       "\n",
       "    .dataframe thead th {\n",
       "        text-align: right;\n",
       "    }\n",
       "</style>\n",
       "<table border=\"1\" class=\"dataframe\">\n",
       "  <thead>\n",
       "    <tr style=\"text-align: right;\">\n",
       "      <th></th>\n",
       "      <th>lat</th>\n",
       "      <th>lon</th>\n",
       "      <th>avg_temp</th>\n",
       "      <th>avg_wind</th>\n",
       "      <th>avg_clouds</th>\n",
       "      <th>avg_humidity</th>\n",
       "      <th>avg_temp_rank</th>\n",
       "      <th>avg_wind_rank</th>\n",
       "      <th>avg_clouds_rank</th>\n",
       "      <th>avg_humidity_rank</th>\n",
       "      <th>total_score</th>\n",
       "    </tr>\n",
       "  </thead>\n",
       "  <tbody>\n",
       "    <tr>\n",
       "      <th>Eguisheim</th>\n",
       "      <td>48.044797</td>\n",
       "      <td>7.307962</td>\n",
       "      <td>4.54500</td>\n",
       "      <td>1.84000</td>\n",
       "      <td>86.625</td>\n",
       "      <td>84.750</td>\n",
       "      <td>60.0</td>\n",
       "      <td>6.0</td>\n",
       "      <td>17.5</td>\n",
       "      <td>35.0</td>\n",
       "      <td>147.5</td>\n",
       "    </tr>\n",
       "    <tr>\n",
       "      <th>Chateau du Haut Koenigsbourg</th>\n",
       "      <td>48.249490</td>\n",
       "      <td>7.344296</td>\n",
       "      <td>1.68500</td>\n",
       "      <td>1.69625</td>\n",
       "      <td>80.625</td>\n",
       "      <td>82.125</td>\n",
       "      <td>70.0</td>\n",
       "      <td>2.0</td>\n",
       "      <td>13.0</td>\n",
       "      <td>31.0</td>\n",
       "      <td>145.0</td>\n",
       "    </tr>\n",
       "    <tr>\n",
       "      <th>Colmar</th>\n",
       "      <td>48.077752</td>\n",
       "      <td>7.357964</td>\n",
       "      <td>4.51000</td>\n",
       "      <td>2.00375</td>\n",
       "      <td>85.500</td>\n",
       "      <td>83.875</td>\n",
       "      <td>62.0</td>\n",
       "      <td>8.0</td>\n",
       "      <td>17.0</td>\n",
       "      <td>33.0</td>\n",
       "      <td>145.0</td>\n",
       "    </tr>\n",
       "    <tr>\n",
       "      <th>Dijon</th>\n",
       "      <td>47.321581</td>\n",
       "      <td>5.041470</td>\n",
       "      <td>4.62750</td>\n",
       "      <td>3.39375</td>\n",
       "      <td>82.500</td>\n",
       "      <td>83.750</td>\n",
       "      <td>58.0</td>\n",
       "      <td>24.0</td>\n",
       "      <td>15.0</td>\n",
       "      <td>32.0</td>\n",
       "      <td>137.0</td>\n",
       "    </tr>\n",
       "    <tr>\n",
       "      <th>Strasbourg</th>\n",
       "      <td>48.584614</td>\n",
       "      <td>7.750713</td>\n",
       "      <td>4.36250</td>\n",
       "      <td>2.55500</td>\n",
       "      <td>76.875</td>\n",
       "      <td>78.875</td>\n",
       "      <td>66.0</td>\n",
       "      <td>16.0</td>\n",
       "      <td>9.0</td>\n",
       "      <td>27.0</td>\n",
       "      <td>129.0</td>\n",
       "    </tr>\n",
       "    <tr>\n",
       "      <th>Besancon</th>\n",
       "      <td>47.238022</td>\n",
       "      <td>6.024362</td>\n",
       "      <td>5.58500</td>\n",
       "      <td>2.67500</td>\n",
       "      <td>81.750</td>\n",
       "      <td>84.125</td>\n",
       "      <td>46.0</td>\n",
       "      <td>18.0</td>\n",
       "      <td>14.0</td>\n",
       "      <td>34.0</td>\n",
       "      <td>128.0</td>\n",
       "    </tr>\n",
       "    <tr>\n",
       "      <th>Annecy</th>\n",
       "      <td>45.899235</td>\n",
       "      <td>6.128885</td>\n",
       "      <td>6.34625</td>\n",
       "      <td>1.70875</td>\n",
       "      <td>85.125</td>\n",
       "      <td>81.250</td>\n",
       "      <td>40.0</td>\n",
       "      <td>4.0</td>\n",
       "      <td>16.5</td>\n",
       "      <td>30.0</td>\n",
       "      <td>116.5</td>\n",
       "    </tr>\n",
       "    <tr>\n",
       "      <th>Gorges du Verdon</th>\n",
       "      <td>43.749656</td>\n",
       "      <td>6.328562</td>\n",
       "      <td>7.19125</td>\n",
       "      <td>2.54000</td>\n",
       "      <td>83.375</td>\n",
       "      <td>77.875</td>\n",
       "      <td>34.0</td>\n",
       "      <td>14.0</td>\n",
       "      <td>16.0</td>\n",
       "      <td>25.0</td>\n",
       "      <td>100.0</td>\n",
       "    </tr>\n",
       "    <tr>\n",
       "      <th>Lille</th>\n",
       "      <td>50.636565</td>\n",
       "      <td>3.063528</td>\n",
       "      <td>4.26000</td>\n",
       "      <td>3.78000</td>\n",
       "      <td>74.500</td>\n",
       "      <td>72.500</td>\n",
       "      <td>68.0</td>\n",
       "      <td>28.0</td>\n",
       "      <td>4.0</td>\n",
       "      <td>14.0</td>\n",
       "      <td>100.0</td>\n",
       "    </tr>\n",
       "    <tr>\n",
       "      <th>Lyon</th>\n",
       "      <td>45.757814</td>\n",
       "      <td>4.832011</td>\n",
       "      <td>6.64875</td>\n",
       "      <td>2.92500</td>\n",
       "      <td>83.000</td>\n",
       "      <td>76.125</td>\n",
       "      <td>38.0</td>\n",
       "      <td>20.0</td>\n",
       "      <td>15.5</td>\n",
       "      <td>23.0</td>\n",
       "      <td>99.5</td>\n",
       "    </tr>\n",
       "    <tr>\n",
       "      <th>Amiens</th>\n",
       "      <td>49.894171</td>\n",
       "      <td>2.295695</td>\n",
       "      <td>4.67125</td>\n",
       "      <td>4.24875</td>\n",
       "      <td>74.750</td>\n",
       "      <td>73.625</td>\n",
       "      <td>56.0</td>\n",
       "      <td>40.0</td>\n",
       "      <td>4.5</td>\n",
       "      <td>18.0</td>\n",
       "      <td>96.5</td>\n",
       "    </tr>\n",
       "    <tr>\n",
       "      <th>Rouen</th>\n",
       "      <td>49.440459</td>\n",
       "      <td>1.093966</td>\n",
       "      <td>4.79750</td>\n",
       "      <td>3.92375</td>\n",
       "      <td>68.750</td>\n",
       "      <td>73.125</td>\n",
       "      <td>54.0</td>\n",
       "      <td>32.0</td>\n",
       "      <td>2.0</td>\n",
       "      <td>17.0</td>\n",
       "      <td>90.0</td>\n",
       "    </tr>\n",
       "    <tr>\n",
       "      <th>Grenoble</th>\n",
       "      <td>45.187560</td>\n",
       "      <td>5.735782</td>\n",
       "      <td>9.00625</td>\n",
       "      <td>2.10750</td>\n",
       "      <td>79.750</td>\n",
       "      <td>78.000</td>\n",
       "      <td>26.0</td>\n",
       "      <td>10.0</td>\n",
       "      <td>12.0</td>\n",
       "      <td>26.0</td>\n",
       "      <td>90.0</td>\n",
       "    </tr>\n",
       "    <tr>\n",
       "      <th>Biarritz</th>\n",
       "      <td>43.471144</td>\n",
       "      <td>-1.552727</td>\n",
       "      <td>9.77000</td>\n",
       "      <td>3.97875</td>\n",
       "      <td>81.125</td>\n",
       "      <td>80.000</td>\n",
       "      <td>20.0</td>\n",
       "      <td>34.0</td>\n",
       "      <td>13.5</td>\n",
       "      <td>28.0</td>\n",
       "      <td>89.5</td>\n",
       "    </tr>\n",
       "    <tr>\n",
       "      <th>Bayonne</th>\n",
       "      <td>43.494514</td>\n",
       "      <td>-1.473666</td>\n",
       "      <td>9.95875</td>\n",
       "      <td>3.79125</td>\n",
       "      <td>81.875</td>\n",
       "      <td>81.125</td>\n",
       "      <td>16.0</td>\n",
       "      <td>30.0</td>\n",
       "      <td>14.5</td>\n",
       "      <td>29.0</td>\n",
       "      <td>88.5</td>\n",
       "    </tr>\n",
       "    <tr>\n",
       "      <th>Bayeux</th>\n",
       "      <td>49.276462</td>\n",
       "      <td>-0.702474</td>\n",
       "      <td>5.20625</td>\n",
       "      <td>4.64500</td>\n",
       "      <td>75.125</td>\n",
       "      <td>73.000</td>\n",
       "      <td>50.0</td>\n",
       "      <td>46.0</td>\n",
       "      <td>6.0</td>\n",
       "      <td>16.0</td>\n",
       "      <td>88.0</td>\n",
       "    </tr>\n",
       "    <tr>\n",
       "      <th>La Rochelle</th>\n",
       "      <td>46.159113</td>\n",
       "      <td>-1.152043</td>\n",
       "      <td>6.72000</td>\n",
       "      <td>6.23875</td>\n",
       "      <td>75.375</td>\n",
       "      <td>74.750</td>\n",
       "      <td>36.0</td>\n",
       "      <td>62.0</td>\n",
       "      <td>6.5</td>\n",
       "      <td>22.0</td>\n",
       "      <td>86.5</td>\n",
       "    </tr>\n",
       "    <tr>\n",
       "      <th>Ariege</th>\n",
       "      <td>42.945537</td>\n",
       "      <td>1.406554</td>\n",
       "      <td>4.40375</td>\n",
       "      <td>2.15375</td>\n",
       "      <td>79.125</td>\n",
       "      <td>68.250</td>\n",
       "      <td>64.0</td>\n",
       "      <td>12.0</td>\n",
       "      <td>11.5</td>\n",
       "      <td>5.0</td>\n",
       "      <td>85.5</td>\n",
       "    </tr>\n",
       "    <tr>\n",
       "      <th>Uzes</th>\n",
       "      <td>44.012128</td>\n",
       "      <td>4.419672</td>\n",
       "      <td>8.62000</td>\n",
       "      <td>6.11375</td>\n",
       "      <td>77.000</td>\n",
       "      <td>77.625</td>\n",
       "      <td>28.0</td>\n",
       "      <td>60.0</td>\n",
       "      <td>9.5</td>\n",
       "      <td>24.0</td>\n",
       "      <td>85.5</td>\n",
       "    </tr>\n",
       "    <tr>\n",
       "      <th>Le Havre</th>\n",
       "      <td>49.493898</td>\n",
       "      <td>0.107973</td>\n",
       "      <td>5.29750</td>\n",
       "      <td>5.47250</td>\n",
       "      <td>79.125</td>\n",
       "      <td>72.500</td>\n",
       "      <td>48.0</td>\n",
       "      <td>50.0</td>\n",
       "      <td>11.0</td>\n",
       "      <td>13.0</td>\n",
       "      <td>85.0</td>\n",
       "    </tr>\n",
       "    <tr>\n",
       "      <th>Avignon</th>\n",
       "      <td>43.949249</td>\n",
       "      <td>4.805901</td>\n",
       "      <td>9.53875</td>\n",
       "      <td>5.99625</td>\n",
       "      <td>75.000</td>\n",
       "      <td>74.000</td>\n",
       "      <td>22.0</td>\n",
       "      <td>58.0</td>\n",
       "      <td>5.5</td>\n",
       "      <td>20.0</td>\n",
       "      <td>67.5</td>\n",
       "    </tr>\n",
       "    <tr>\n",
       "      <th>Nimes</th>\n",
       "      <td>43.837425</td>\n",
       "      <td>4.360069</td>\n",
       "      <td>9.80375</td>\n",
       "      <td>5.69625</td>\n",
       "      <td>73.500</td>\n",
       "      <td>74.250</td>\n",
       "      <td>18.0</td>\n",
       "      <td>52.0</td>\n",
       "      <td>3.5</td>\n",
       "      <td>21.0</td>\n",
       "      <td>63.5</td>\n",
       "    </tr>\n",
       "    <tr>\n",
       "      <th>Paris</th>\n",
       "      <td>48.858890</td>\n",
       "      <td>2.320041</td>\n",
       "      <td>4.91000</td>\n",
       "      <td>3.26750</td>\n",
       "      <td>59.000</td>\n",
       "      <td>67.625</td>\n",
       "      <td>52.0</td>\n",
       "      <td>22.0</td>\n",
       "      <td>1.0</td>\n",
       "      <td>3.0</td>\n",
       "      <td>59.0</td>\n",
       "    </tr>\n",
       "    <tr>\n",
       "      <th>Bormes les Mimosas</th>\n",
       "      <td>43.150697</td>\n",
       "      <td>6.341928</td>\n",
       "      <td>12.18500</td>\n",
       "      <td>5.83125</td>\n",
       "      <td>80.000</td>\n",
       "      <td>74.000</td>\n",
       "      <td>8.0</td>\n",
       "      <td>54.0</td>\n",
       "      <td>12.5</td>\n",
       "      <td>19.0</td>\n",
       "      <td>58.5</td>\n",
       "    </tr>\n",
       "    <tr>\n",
       "      <th>St Malo</th>\n",
       "      <td>48.649518</td>\n",
       "      <td>-2.026041</td>\n",
       "      <td>6.16875</td>\n",
       "      <td>5.91625</td>\n",
       "      <td>68.750</td>\n",
       "      <td>68.500</td>\n",
       "      <td>42.0</td>\n",
       "      <td>56.0</td>\n",
       "      <td>1.5</td>\n",
       "      <td>7.0</td>\n",
       "      <td>57.5</td>\n",
       "    </tr>\n",
       "    <tr>\n",
       "      <th>Montauban</th>\n",
       "      <td>44.017584</td>\n",
       "      <td>1.354999</td>\n",
       "      <td>8.56000</td>\n",
       "      <td>3.62750</td>\n",
       "      <td>76.625</td>\n",
       "      <td>69.625</td>\n",
       "      <td>30.0</td>\n",
       "      <td>26.0</td>\n",
       "      <td>8.0</td>\n",
       "      <td>8.0</td>\n",
       "      <td>54.0</td>\n",
       "    </tr>\n",
       "    <tr>\n",
       "      <th>Aigues Mortes</th>\n",
       "      <td>43.565823</td>\n",
       "      <td>4.191284</td>\n",
       "      <td>10.87250</td>\n",
       "      <td>7.06125</td>\n",
       "      <td>77.125</td>\n",
       "      <td>72.625</td>\n",
       "      <td>12.0</td>\n",
       "      <td>68.0</td>\n",
       "      <td>10.0</td>\n",
       "      <td>15.0</td>\n",
       "      <td>52.0</td>\n",
       "    </tr>\n",
       "    <tr>\n",
       "      <th>Mont Saint Michel</th>\n",
       "      <td>48.635954</td>\n",
       "      <td>-1.511460</td>\n",
       "      <td>5.76625</td>\n",
       "      <td>4.22375</td>\n",
       "      <td>58.125</td>\n",
       "      <td>67.125</td>\n",
       "      <td>44.0</td>\n",
       "      <td>38.0</td>\n",
       "      <td>0.5</td>\n",
       "      <td>2.0</td>\n",
       "      <td>48.5</td>\n",
       "    </tr>\n",
       "    <tr>\n",
       "      <th>Carcassonne</th>\n",
       "      <td>43.213036</td>\n",
       "      <td>2.349107</td>\n",
       "      <td>9.29375</td>\n",
       "      <td>4.33875</td>\n",
       "      <td>76.750</td>\n",
       "      <td>68.375</td>\n",
       "      <td>24.0</td>\n",
       "      <td>44.0</td>\n",
       "      <td>8.5</td>\n",
       "      <td>6.0</td>\n",
       "      <td>44.5</td>\n",
       "    </tr>\n",
       "    <tr>\n",
       "      <th>Aix en Provence</th>\n",
       "      <td>43.529842</td>\n",
       "      <td>5.447474</td>\n",
       "      <td>10.76125</td>\n",
       "      <td>4.19000</td>\n",
       "      <td>78.125</td>\n",
       "      <td>70.625</td>\n",
       "      <td>14.0</td>\n",
       "      <td>36.0</td>\n",
       "      <td>10.5</td>\n",
       "      <td>10.0</td>\n",
       "      <td>44.5</td>\n",
       "    </tr>\n",
       "    <tr>\n",
       "      <th>Toulouse</th>\n",
       "      <td>43.604462</td>\n",
       "      <td>1.444247</td>\n",
       "      <td>8.49250</td>\n",
       "      <td>4.28125</td>\n",
       "      <td>73.250</td>\n",
       "      <td>68.000</td>\n",
       "      <td>32.0</td>\n",
       "      <td>42.0</td>\n",
       "      <td>3.0</td>\n",
       "      <td>4.0</td>\n",
       "      <td>43.0</td>\n",
       "    </tr>\n",
       "    <tr>\n",
       "      <th>Saintes Maries de la mer</th>\n",
       "      <td>43.452277</td>\n",
       "      <td>4.428717</td>\n",
       "      <td>11.10625</td>\n",
       "      <td>7.92000</td>\n",
       "      <td>76.000</td>\n",
       "      <td>72.250</td>\n",
       "      <td>10.0</td>\n",
       "      <td>70.0</td>\n",
       "      <td>7.5</td>\n",
       "      <td>12.0</td>\n",
       "      <td>41.5</td>\n",
       "    </tr>\n",
       "    <tr>\n",
       "      <th>Cassis</th>\n",
       "      <td>43.214036</td>\n",
       "      <td>5.539632</td>\n",
       "      <td>12.55375</td>\n",
       "      <td>6.60625</td>\n",
       "      <td>76.000</td>\n",
       "      <td>70.750</td>\n",
       "      <td>2.0</td>\n",
       "      <td>64.0</td>\n",
       "      <td>7.0</td>\n",
       "      <td>11.0</td>\n",
       "      <td>31.0</td>\n",
       "    </tr>\n",
       "    <tr>\n",
       "      <th>Marseille</th>\n",
       "      <td>43.296174</td>\n",
       "      <td>5.369953</td>\n",
       "      <td>12.36500</td>\n",
       "      <td>6.97000</td>\n",
       "      <td>75.000</td>\n",
       "      <td>70.125</td>\n",
       "      <td>4.0</td>\n",
       "      <td>66.0</td>\n",
       "      <td>5.0</td>\n",
       "      <td>9.0</td>\n",
       "      <td>27.0</td>\n",
       "    </tr>\n",
       "    <tr>\n",
       "      <th>Collioure</th>\n",
       "      <td>42.525050</td>\n",
       "      <td>3.083155</td>\n",
       "      <td>12.31125</td>\n",
       "      <td>5.12875</td>\n",
       "      <td>70.500</td>\n",
       "      <td>65.125</td>\n",
       "      <td>6.0</td>\n",
       "      <td>48.0</td>\n",
       "      <td>2.5</td>\n",
       "      <td>1.0</td>\n",
       "      <td>10.5</td>\n",
       "    </tr>\n",
       "  </tbody>\n",
       "</table>\n",
       "</div>"
      ],
      "text/plain": [
       "                                    lat       lon  avg_temp  avg_wind  \\\n",
       "Eguisheim                     48.044797  7.307962   4.54500   1.84000   \n",
       "Chateau du Haut Koenigsbourg  48.249490  7.344296   1.68500   1.69625   \n",
       "Colmar                        48.077752  7.357964   4.51000   2.00375   \n",
       "Dijon                         47.321581  5.041470   4.62750   3.39375   \n",
       "Strasbourg                    48.584614  7.750713   4.36250   2.55500   \n",
       "Besancon                      47.238022  6.024362   5.58500   2.67500   \n",
       "Annecy                        45.899235  6.128885   6.34625   1.70875   \n",
       "Gorges du Verdon              43.749656  6.328562   7.19125   2.54000   \n",
       "Lille                         50.636565  3.063528   4.26000   3.78000   \n",
       "Lyon                          45.757814  4.832011   6.64875   2.92500   \n",
       "Amiens                        49.894171  2.295695   4.67125   4.24875   \n",
       "Rouen                         49.440459  1.093966   4.79750   3.92375   \n",
       "Grenoble                      45.187560  5.735782   9.00625   2.10750   \n",
       "Biarritz                      43.471144 -1.552727   9.77000   3.97875   \n",
       "Bayonne                       43.494514 -1.473666   9.95875   3.79125   \n",
       "Bayeux                        49.276462 -0.702474   5.20625   4.64500   \n",
       "La Rochelle                   46.159113 -1.152043   6.72000   6.23875   \n",
       "Ariege                        42.945537  1.406554   4.40375   2.15375   \n",
       "Uzes                          44.012128  4.419672   8.62000   6.11375   \n",
       "Le Havre                      49.493898  0.107973   5.29750   5.47250   \n",
       "Avignon                       43.949249  4.805901   9.53875   5.99625   \n",
       "Nimes                         43.837425  4.360069   9.80375   5.69625   \n",
       "Paris                         48.858890  2.320041   4.91000   3.26750   \n",
       "Bormes les Mimosas            43.150697  6.341928  12.18500   5.83125   \n",
       "St Malo                       48.649518 -2.026041   6.16875   5.91625   \n",
       "Montauban                     44.017584  1.354999   8.56000   3.62750   \n",
       "Aigues Mortes                 43.565823  4.191284  10.87250   7.06125   \n",
       "Mont Saint Michel             48.635954 -1.511460   5.76625   4.22375   \n",
       "Carcassonne                   43.213036  2.349107   9.29375   4.33875   \n",
       "Aix en Provence               43.529842  5.447474  10.76125   4.19000   \n",
       "Toulouse                      43.604462  1.444247   8.49250   4.28125   \n",
       "Saintes Maries de la mer      43.452277  4.428717  11.10625   7.92000   \n",
       "Cassis                        43.214036  5.539632  12.55375   6.60625   \n",
       "Marseille                     43.296174  5.369953  12.36500   6.97000   \n",
       "Collioure                     42.525050  3.083155  12.31125   5.12875   \n",
       "\n",
       "                              avg_clouds  avg_humidity  avg_temp_rank  \\\n",
       "Eguisheim                         86.625        84.750           60.0   \n",
       "Chateau du Haut Koenigsbourg      80.625        82.125           70.0   \n",
       "Colmar                            85.500        83.875           62.0   \n",
       "Dijon                             82.500        83.750           58.0   \n",
       "Strasbourg                        76.875        78.875           66.0   \n",
       "Besancon                          81.750        84.125           46.0   \n",
       "Annecy                            85.125        81.250           40.0   \n",
       "Gorges du Verdon                  83.375        77.875           34.0   \n",
       "Lille                             74.500        72.500           68.0   \n",
       "Lyon                              83.000        76.125           38.0   \n",
       "Amiens                            74.750        73.625           56.0   \n",
       "Rouen                             68.750        73.125           54.0   \n",
       "Grenoble                          79.750        78.000           26.0   \n",
       "Biarritz                          81.125        80.000           20.0   \n",
       "Bayonne                           81.875        81.125           16.0   \n",
       "Bayeux                            75.125        73.000           50.0   \n",
       "La Rochelle                       75.375        74.750           36.0   \n",
       "Ariege                            79.125        68.250           64.0   \n",
       "Uzes                              77.000        77.625           28.0   \n",
       "Le Havre                          79.125        72.500           48.0   \n",
       "Avignon                           75.000        74.000           22.0   \n",
       "Nimes                             73.500        74.250           18.0   \n",
       "Paris                             59.000        67.625           52.0   \n",
       "Bormes les Mimosas                80.000        74.000            8.0   \n",
       "St Malo                           68.750        68.500           42.0   \n",
       "Montauban                         76.625        69.625           30.0   \n",
       "Aigues Mortes                     77.125        72.625           12.0   \n",
       "Mont Saint Michel                 58.125        67.125           44.0   \n",
       "Carcassonne                       76.750        68.375           24.0   \n",
       "Aix en Provence                   78.125        70.625           14.0   \n",
       "Toulouse                          73.250        68.000           32.0   \n",
       "Saintes Maries de la mer          76.000        72.250           10.0   \n",
       "Cassis                            76.000        70.750            2.0   \n",
       "Marseille                         75.000        70.125            4.0   \n",
       "Collioure                         70.500        65.125            6.0   \n",
       "\n",
       "                              avg_wind_rank  avg_clouds_rank  \\\n",
       "Eguisheim                               6.0             17.5   \n",
       "Chateau du Haut Koenigsbourg            2.0             13.0   \n",
       "Colmar                                  8.0             17.0   \n",
       "Dijon                                  24.0             15.0   \n",
       "Strasbourg                             16.0              9.0   \n",
       "Besancon                               18.0             14.0   \n",
       "Annecy                                  4.0             16.5   \n",
       "Gorges du Verdon                       14.0             16.0   \n",
       "Lille                                  28.0              4.0   \n",
       "Lyon                                   20.0             15.5   \n",
       "Amiens                                 40.0              4.5   \n",
       "Rouen                                  32.0              2.0   \n",
       "Grenoble                               10.0             12.0   \n",
       "Biarritz                               34.0             13.5   \n",
       "Bayonne                                30.0             14.5   \n",
       "Bayeux                                 46.0              6.0   \n",
       "La Rochelle                            62.0              6.5   \n",
       "Ariege                                 12.0             11.5   \n",
       "Uzes                                   60.0              9.5   \n",
       "Le Havre                               50.0             11.0   \n",
       "Avignon                                58.0              5.5   \n",
       "Nimes                                  52.0              3.5   \n",
       "Paris                                  22.0              1.0   \n",
       "Bormes les Mimosas                     54.0             12.5   \n",
       "St Malo                                56.0              1.5   \n",
       "Montauban                              26.0              8.0   \n",
       "Aigues Mortes                          68.0             10.0   \n",
       "Mont Saint Michel                      38.0              0.5   \n",
       "Carcassonne                            44.0              8.5   \n",
       "Aix en Provence                        36.0             10.5   \n",
       "Toulouse                               42.0              3.0   \n",
       "Saintes Maries de la mer               70.0              7.5   \n",
       "Cassis                                 64.0              7.0   \n",
       "Marseille                              66.0              5.0   \n",
       "Collioure                              48.0              2.5   \n",
       "\n",
       "                              avg_humidity_rank  total_score  \n",
       "Eguisheim                                  35.0        147.5  \n",
       "Chateau du Haut Koenigsbourg               31.0        145.0  \n",
       "Colmar                                     33.0        145.0  \n",
       "Dijon                                      32.0        137.0  \n",
       "Strasbourg                                 27.0        129.0  \n",
       "Besancon                                   34.0        128.0  \n",
       "Annecy                                     30.0        116.5  \n",
       "Gorges du Verdon                           25.0        100.0  \n",
       "Lille                                      14.0        100.0  \n",
       "Lyon                                       23.0         99.5  \n",
       "Amiens                                     18.0         96.5  \n",
       "Rouen                                      17.0         90.0  \n",
       "Grenoble                                   26.0         90.0  \n",
       "Biarritz                                   28.0         89.5  \n",
       "Bayonne                                    29.0         88.5  \n",
       "Bayeux                                     16.0         88.0  \n",
       "La Rochelle                                22.0         86.5  \n",
       "Ariege                                      5.0         85.5  \n",
       "Uzes                                       24.0         85.5  \n",
       "Le Havre                                   13.0         85.0  \n",
       "Avignon                                    20.0         67.5  \n",
       "Nimes                                      21.0         63.5  \n",
       "Paris                                       3.0         59.0  \n",
       "Bormes les Mimosas                         19.0         58.5  \n",
       "St Malo                                     7.0         57.5  \n",
       "Montauban                                   8.0         54.0  \n",
       "Aigues Mortes                              15.0         52.0  \n",
       "Mont Saint Michel                           2.0         48.5  \n",
       "Carcassonne                                 6.0         44.5  \n",
       "Aix en Provence                            10.0         44.5  \n",
       "Toulouse                                    4.0         43.0  \n",
       "Saintes Maries de la mer                   12.0         41.5  \n",
       "Cassis                                     11.0         31.0  \n",
       "Marseille                                   9.0         27.0  \n",
       "Collioure                                   1.0         10.5  "
      ]
     },
     "execution_count": 175,
     "metadata": {},
     "output_type": "execute_result"
    }
   ],
   "source": [
    "df_cities.head()"
   ]
  },
  {
   "cell_type": "code",
   "execution_count": 176,
   "metadata": {
    "pycharm": {
     "name": "#%%\n"
    }
   },
   "outputs": [],
   "source": [
    "# keep the 5 best cities in df_cities dataframe based on the column total_score\n",
    "df_cities = df_cities.nlargest(5, \"total_score\")"
   ]
  },
  {
   "cell_type": "code",
   "execution_count": 177,
   "metadata": {
    "pycharm": {
     "name": "#%%\n"
    }
   },
   "outputs": [],
   "source": [
    "df_cities.rename(columns={\"lat\": \"city_lat\", \"lon\": \"city_lon\"}, inplace=True)"
   ]
  },
  {
   "cell_type": "code",
   "execution_count": 178,
   "metadata": {
    "pycharm": {
     "name": "#%%\n"
    }
   },
   "outputs": [
    {
     "data": {
      "text/html": [
       "<div>\n",
       "<style scoped>\n",
       "    .dataframe tbody tr th:only-of-type {\n",
       "        vertical-align: middle;\n",
       "    }\n",
       "\n",
       "    .dataframe tbody tr th {\n",
       "        vertical-align: top;\n",
       "    }\n",
       "\n",
       "    .dataframe thead th {\n",
       "        text-align: right;\n",
       "    }\n",
       "</style>\n",
       "<table border=\"1\" class=\"dataframe\">\n",
       "  <thead>\n",
       "    <tr style=\"text-align: right;\">\n",
       "      <th></th>\n",
       "      <th>city_lat</th>\n",
       "      <th>city_lon</th>\n",
       "      <th>avg_temp</th>\n",
       "      <th>avg_wind</th>\n",
       "      <th>avg_clouds</th>\n",
       "      <th>avg_humidity</th>\n",
       "      <th>avg_temp_rank</th>\n",
       "      <th>avg_wind_rank</th>\n",
       "      <th>avg_clouds_rank</th>\n",
       "      <th>avg_humidity_rank</th>\n",
       "      <th>total_score</th>\n",
       "    </tr>\n",
       "  </thead>\n",
       "  <tbody>\n",
       "    <tr>\n",
       "      <th>Eguisheim</th>\n",
       "      <td>48.044797</td>\n",
       "      <td>7.307962</td>\n",
       "      <td>4.5450</td>\n",
       "      <td>1.84000</td>\n",
       "      <td>86.625</td>\n",
       "      <td>84.750</td>\n",
       "      <td>60.0</td>\n",
       "      <td>6.0</td>\n",
       "      <td>17.5</td>\n",
       "      <td>35.0</td>\n",
       "      <td>147.5</td>\n",
       "    </tr>\n",
       "    <tr>\n",
       "      <th>Chateau du Haut Koenigsbourg</th>\n",
       "      <td>48.249490</td>\n",
       "      <td>7.344296</td>\n",
       "      <td>1.6850</td>\n",
       "      <td>1.69625</td>\n",
       "      <td>80.625</td>\n",
       "      <td>82.125</td>\n",
       "      <td>70.0</td>\n",
       "      <td>2.0</td>\n",
       "      <td>13.0</td>\n",
       "      <td>31.0</td>\n",
       "      <td>145.0</td>\n",
       "    </tr>\n",
       "    <tr>\n",
       "      <th>Colmar</th>\n",
       "      <td>48.077752</td>\n",
       "      <td>7.357964</td>\n",
       "      <td>4.5100</td>\n",
       "      <td>2.00375</td>\n",
       "      <td>85.500</td>\n",
       "      <td>83.875</td>\n",
       "      <td>62.0</td>\n",
       "      <td>8.0</td>\n",
       "      <td>17.0</td>\n",
       "      <td>33.0</td>\n",
       "      <td>145.0</td>\n",
       "    </tr>\n",
       "    <tr>\n",
       "      <th>Dijon</th>\n",
       "      <td>47.321581</td>\n",
       "      <td>5.041470</td>\n",
       "      <td>4.6275</td>\n",
       "      <td>3.39375</td>\n",
       "      <td>82.500</td>\n",
       "      <td>83.750</td>\n",
       "      <td>58.0</td>\n",
       "      <td>24.0</td>\n",
       "      <td>15.0</td>\n",
       "      <td>32.0</td>\n",
       "      <td>137.0</td>\n",
       "    </tr>\n",
       "    <tr>\n",
       "      <th>Strasbourg</th>\n",
       "      <td>48.584614</td>\n",
       "      <td>7.750713</td>\n",
       "      <td>4.3625</td>\n",
       "      <td>2.55500</td>\n",
       "      <td>76.875</td>\n",
       "      <td>78.875</td>\n",
       "      <td>66.0</td>\n",
       "      <td>16.0</td>\n",
       "      <td>9.0</td>\n",
       "      <td>27.0</td>\n",
       "      <td>129.0</td>\n",
       "    </tr>\n",
       "  </tbody>\n",
       "</table>\n",
       "</div>"
      ],
      "text/plain": [
       "                               city_lat  city_lon  avg_temp  avg_wind  \\\n",
       "Eguisheim                     48.044797  7.307962    4.5450   1.84000   \n",
       "Chateau du Haut Koenigsbourg  48.249490  7.344296    1.6850   1.69625   \n",
       "Colmar                        48.077752  7.357964    4.5100   2.00375   \n",
       "Dijon                         47.321581  5.041470    4.6275   3.39375   \n",
       "Strasbourg                    48.584614  7.750713    4.3625   2.55500   \n",
       "\n",
       "                              avg_clouds  avg_humidity  avg_temp_rank  \\\n",
       "Eguisheim                         86.625        84.750           60.0   \n",
       "Chateau du Haut Koenigsbourg      80.625        82.125           70.0   \n",
       "Colmar                            85.500        83.875           62.0   \n",
       "Dijon                             82.500        83.750           58.0   \n",
       "Strasbourg                        76.875        78.875           66.0   \n",
       "\n",
       "                              avg_wind_rank  avg_clouds_rank  \\\n",
       "Eguisheim                               6.0             17.5   \n",
       "Chateau du Haut Koenigsbourg            2.0             13.0   \n",
       "Colmar                                  8.0             17.0   \n",
       "Dijon                                  24.0             15.0   \n",
       "Strasbourg                             16.0              9.0   \n",
       "\n",
       "                              avg_humidity_rank  total_score  \n",
       "Eguisheim                                  35.0        147.5  \n",
       "Chateau du Haut Koenigsbourg               31.0        145.0  \n",
       "Colmar                                     33.0        145.0  \n",
       "Dijon                                      32.0        137.0  \n",
       "Strasbourg                                 27.0        129.0  "
      ]
     },
     "execution_count": 178,
     "metadata": {},
     "output_type": "execute_result"
    }
   ],
   "source": [
    "df_cities"
   ]
  },
  {
   "cell_type": "code",
   "execution_count": 183,
   "metadata": {
    "pycharm": {
     "name": "#%%\n"
    }
   },
   "outputs": [],
   "source": [
    "merged_df = pd.merge(df_cities, df_hotels, left_index=True, right_on=\"city\").reset_index(drop=True)"
   ]
  },
  {
   "cell_type": "code",
   "execution_count": 184,
   "metadata": {
    "pycharm": {
     "name": "#%%\n"
    }
   },
   "outputs": [
    {
     "data": {
      "text/html": [
       "<div>\n",
       "<style scoped>\n",
       "    .dataframe tbody tr th:only-of-type {\n",
       "        vertical-align: middle;\n",
       "    }\n",
       "\n",
       "    .dataframe tbody tr th {\n",
       "        vertical-align: top;\n",
       "    }\n",
       "\n",
       "    .dataframe thead th {\n",
       "        text-align: right;\n",
       "    }\n",
       "</style>\n",
       "<table border=\"1\" class=\"dataframe\">\n",
       "  <thead>\n",
       "    <tr style=\"text-align: right;\">\n",
       "      <th></th>\n",
       "      <th>city_lat</th>\n",
       "      <th>city_lon</th>\n",
       "      <th>avg_temp</th>\n",
       "      <th>avg_wind</th>\n",
       "      <th>avg_clouds</th>\n",
       "      <th>avg_humidity</th>\n",
       "      <th>avg_temp_rank</th>\n",
       "      <th>avg_wind_rank</th>\n",
       "      <th>avg_clouds_rank</th>\n",
       "      <th>avg_humidity_rank</th>\n",
       "      <th>total_score</th>\n",
       "      <th>city</th>\n",
       "      <th>hotel_name</th>\n",
       "      <th>hotel_score</th>\n",
       "      <th>hotel_description</th>\n",
       "      <th>hotel_url</th>\n",
       "    </tr>\n",
       "  </thead>\n",
       "  <tbody>\n",
       "    <tr>\n",
       "      <th>0</th>\n",
       "      <td>48.044797</td>\n",
       "      <td>7.307962</td>\n",
       "      <td>4.5450</td>\n",
       "      <td>1.840</td>\n",
       "      <td>86.625</td>\n",
       "      <td>84.750</td>\n",
       "      <td>60.0</td>\n",
       "      <td>6.0</td>\n",
       "      <td>17.5</td>\n",
       "      <td>35.0</td>\n",
       "      <td>147.5</td>\n",
       "      <td>Eguisheim</td>\n",
       "      <td>GITE LE COQ ROUGE</td>\n",
       "      <td>9.8</td>\n",
       "      <td>NaN</td>\n",
       "      <td>https://www.booking.com/hotel/fr/gite-le-coq-r...</td>\n",
       "    </tr>\n",
       "    <tr>\n",
       "      <th>1</th>\n",
       "      <td>48.044797</td>\n",
       "      <td>7.307962</td>\n",
       "      <td>4.5450</td>\n",
       "      <td>1.840</td>\n",
       "      <td>86.625</td>\n",
       "      <td>84.750</td>\n",
       "      <td>60.0</td>\n",
       "      <td>6.0</td>\n",
       "      <td>17.5</td>\n",
       "      <td>35.0</td>\n",
       "      <td>147.5</td>\n",
       "      <td>Eguisheim</td>\n",
       "      <td>Fleur de Vigne</td>\n",
       "      <td>9.7</td>\n",
       "      <td>NaN</td>\n",
       "      <td>https://www.booking.com/hotel/fr/fleur-de-vign...</td>\n",
       "    </tr>\n",
       "    <tr>\n",
       "      <th>2</th>\n",
       "      <td>48.044797</td>\n",
       "      <td>7.307962</td>\n",
       "      <td>4.5450</td>\n",
       "      <td>1.840</td>\n",
       "      <td>86.625</td>\n",
       "      <td>84.750</td>\n",
       "      <td>60.0</td>\n",
       "      <td>6.0</td>\n",
       "      <td>17.5</td>\n",
       "      <td>35.0</td>\n",
       "      <td>147.5</td>\n",
       "      <td>Eguisheim</td>\n",
       "      <td>La Grange de Madeleine</td>\n",
       "      <td>9.7</td>\n",
       "      <td>NaN</td>\n",
       "      <td>https://www.booking.com/hotel/fr/la-grange-de-...</td>\n",
       "    </tr>\n",
       "    <tr>\n",
       "      <th>3</th>\n",
       "      <td>48.044797</td>\n",
       "      <td>7.307962</td>\n",
       "      <td>4.5450</td>\n",
       "      <td>1.840</td>\n",
       "      <td>86.625</td>\n",
       "      <td>84.750</td>\n",
       "      <td>60.0</td>\n",
       "      <td>6.0</td>\n",
       "      <td>17.5</td>\n",
       "      <td>35.0</td>\n",
       "      <td>147.5</td>\n",
       "      <td>Eguisheim</td>\n",
       "      <td>Le Victoria, Eguisheim, 4-6 p., 4etoiles, réno...</td>\n",
       "      <td>9.7</td>\n",
       "      <td>NaN</td>\n",
       "      <td>https://www.booking.com/hotel/fr/le-victoria-e...</td>\n",
       "    </tr>\n",
       "    <tr>\n",
       "      <th>4</th>\n",
       "      <td>48.044797</td>\n",
       "      <td>7.307962</td>\n",
       "      <td>4.5450</td>\n",
       "      <td>1.840</td>\n",
       "      <td>86.625</td>\n",
       "      <td>84.750</td>\n",
       "      <td>60.0</td>\n",
       "      <td>6.0</td>\n",
       "      <td>17.5</td>\n",
       "      <td>35.0</td>\n",
       "      <td>147.5</td>\n",
       "      <td>Eguisheim</td>\n",
       "      <td>La Maison du Rempart</td>\n",
       "      <td>9.6</td>\n",
       "      <td>NaN</td>\n",
       "      <td>https://www.booking.com/hotel/fr/la-maison-du-...</td>\n",
       "    </tr>\n",
       "    <tr>\n",
       "      <th>...</th>\n",
       "      <td>...</td>\n",
       "      <td>...</td>\n",
       "      <td>...</td>\n",
       "      <td>...</td>\n",
       "      <td>...</td>\n",
       "      <td>...</td>\n",
       "      <td>...</td>\n",
       "      <td>...</td>\n",
       "      <td>...</td>\n",
       "      <td>...</td>\n",
       "      <td>...</td>\n",
       "      <td>...</td>\n",
       "      <td>...</td>\n",
       "      <td>...</td>\n",
       "      <td>...</td>\n",
       "      <td>...</td>\n",
       "    </tr>\n",
       "    <tr>\n",
       "      <th>170</th>\n",
       "      <td>48.584614</td>\n",
       "      <td>7.750713</td>\n",
       "      <td>4.3625</td>\n",
       "      <td>2.555</td>\n",
       "      <td>76.875</td>\n",
       "      <td>78.875</td>\n",
       "      <td>66.0</td>\n",
       "      <td>16.0</td>\n",
       "      <td>9.0</td>\n",
       "      <td>27.0</td>\n",
       "      <td>129.0</td>\n",
       "      <td>Strasbourg</td>\n",
       "      <td>Appartement Arcade en hyper centre avec parking</td>\n",
       "      <td>9.3</td>\n",
       "      <td>NaN</td>\n",
       "      <td>https://www.booking.com/hotel/fr/appartement-m...</td>\n",
       "    </tr>\n",
       "    <tr>\n",
       "      <th>171</th>\n",
       "      <td>48.584614</td>\n",
       "      <td>7.750713</td>\n",
       "      <td>4.3625</td>\n",
       "      <td>2.555</td>\n",
       "      <td>76.875</td>\n",
       "      <td>78.875</td>\n",
       "      <td>66.0</td>\n",
       "      <td>16.0</td>\n",
       "      <td>9.0</td>\n",
       "      <td>27.0</td>\n",
       "      <td>129.0</td>\n",
       "      <td>Strasbourg</td>\n",
       "      <td>Bienvenue à Strasbourg - Krutenau</td>\n",
       "      <td>9.3</td>\n",
       "      <td>NaN</td>\n",
       "      <td>https://www.booking.com/hotel/fr/bienvenue-a-s...</td>\n",
       "    </tr>\n",
       "    <tr>\n",
       "      <th>172</th>\n",
       "      <td>48.584614</td>\n",
       "      <td>7.750713</td>\n",
       "      <td>4.3625</td>\n",
       "      <td>2.555</td>\n",
       "      <td>76.875</td>\n",
       "      <td>78.875</td>\n",
       "      <td>66.0</td>\n",
       "      <td>16.0</td>\n",
       "      <td>9.0</td>\n",
       "      <td>27.0</td>\n",
       "      <td>129.0</td>\n",
       "      <td>Strasbourg</td>\n",
       "      <td>Studio de l'Hôtel de Ville</td>\n",
       "      <td>9.3</td>\n",
       "      <td>NaN</td>\n",
       "      <td>https://www.booking.com/hotel/fr/studio-de-l-h...</td>\n",
       "    </tr>\n",
       "    <tr>\n",
       "      <th>173</th>\n",
       "      <td>48.584614</td>\n",
       "      <td>7.750713</td>\n",
       "      <td>4.3625</td>\n",
       "      <td>2.555</td>\n",
       "      <td>76.875</td>\n",
       "      <td>78.875</td>\n",
       "      <td>66.0</td>\n",
       "      <td>16.0</td>\n",
       "      <td>9.0</td>\n",
       "      <td>27.0</td>\n",
       "      <td>129.0</td>\n",
       "      <td>Strasbourg</td>\n",
       "      <td>The Little Studio</td>\n",
       "      <td>9.3</td>\n",
       "      <td>NaN</td>\n",
       "      <td>https://www.booking.com/hotel/fr/the-little-st...</td>\n",
       "    </tr>\n",
       "    <tr>\n",
       "      <th>174</th>\n",
       "      <td>48.584614</td>\n",
       "      <td>7.750713</td>\n",
       "      <td>4.3625</td>\n",
       "      <td>2.555</td>\n",
       "      <td>76.875</td>\n",
       "      <td>78.875</td>\n",
       "      <td>66.0</td>\n",
       "      <td>16.0</td>\n",
       "      <td>9.0</td>\n",
       "      <td>27.0</td>\n",
       "      <td>129.0</td>\n",
       "      <td>Strasbourg</td>\n",
       "      <td>Le Carré Confidentiel</td>\n",
       "      <td>9.3</td>\n",
       "      <td>NaN</td>\n",
       "      <td>https://www.booking.com/hotel/fr/le-carre-conf...</td>\n",
       "    </tr>\n",
       "  </tbody>\n",
       "</table>\n",
       "<p>175 rows × 16 columns</p>\n",
       "</div>"
      ],
      "text/plain": [
       "      city_lat  city_lon  avg_temp  avg_wind  avg_clouds  avg_humidity  \\\n",
       "0    48.044797  7.307962    4.5450     1.840      86.625        84.750   \n",
       "1    48.044797  7.307962    4.5450     1.840      86.625        84.750   \n",
       "2    48.044797  7.307962    4.5450     1.840      86.625        84.750   \n",
       "3    48.044797  7.307962    4.5450     1.840      86.625        84.750   \n",
       "4    48.044797  7.307962    4.5450     1.840      86.625        84.750   \n",
       "..         ...       ...       ...       ...         ...           ...   \n",
       "170  48.584614  7.750713    4.3625     2.555      76.875        78.875   \n",
       "171  48.584614  7.750713    4.3625     2.555      76.875        78.875   \n",
       "172  48.584614  7.750713    4.3625     2.555      76.875        78.875   \n",
       "173  48.584614  7.750713    4.3625     2.555      76.875        78.875   \n",
       "174  48.584614  7.750713    4.3625     2.555      76.875        78.875   \n",
       "\n",
       "     avg_temp_rank  avg_wind_rank  avg_clouds_rank  avg_humidity_rank  \\\n",
       "0             60.0            6.0             17.5               35.0   \n",
       "1             60.0            6.0             17.5               35.0   \n",
       "2             60.0            6.0             17.5               35.0   \n",
       "3             60.0            6.0             17.5               35.0   \n",
       "4             60.0            6.0             17.5               35.0   \n",
       "..             ...            ...              ...                ...   \n",
       "170           66.0           16.0              9.0               27.0   \n",
       "171           66.0           16.0              9.0               27.0   \n",
       "172           66.0           16.0              9.0               27.0   \n",
       "173           66.0           16.0              9.0               27.0   \n",
       "174           66.0           16.0              9.0               27.0   \n",
       "\n",
       "     total_score        city  \\\n",
       "0          147.5   Eguisheim   \n",
       "1          147.5   Eguisheim   \n",
       "2          147.5   Eguisheim   \n",
       "3          147.5   Eguisheim   \n",
       "4          147.5   Eguisheim   \n",
       "..           ...         ...   \n",
       "170        129.0  Strasbourg   \n",
       "171        129.0  Strasbourg   \n",
       "172        129.0  Strasbourg   \n",
       "173        129.0  Strasbourg   \n",
       "174        129.0  Strasbourg   \n",
       "\n",
       "                                            hotel_name  hotel_score  \\\n",
       "0                                    GITE LE COQ ROUGE          9.8   \n",
       "1                                       Fleur de Vigne          9.7   \n",
       "2                               La Grange de Madeleine          9.7   \n",
       "3    Le Victoria, Eguisheim, 4-6 p., 4etoiles, réno...          9.7   \n",
       "4                                 La Maison du Rempart          9.6   \n",
       "..                                                 ...          ...   \n",
       "170    Appartement Arcade en hyper centre avec parking          9.3   \n",
       "171                  Bienvenue à Strasbourg - Krutenau          9.3   \n",
       "172                         Studio de l'Hôtel de Ville          9.3   \n",
       "173                                  The Little Studio          9.3   \n",
       "174                              Le Carré Confidentiel          9.3   \n",
       "\n",
       "     hotel_description                                          hotel_url  \n",
       "0                  NaN  https://www.booking.com/hotel/fr/gite-le-coq-r...  \n",
       "1                  NaN  https://www.booking.com/hotel/fr/fleur-de-vign...  \n",
       "2                  NaN  https://www.booking.com/hotel/fr/la-grange-de-...  \n",
       "3                  NaN  https://www.booking.com/hotel/fr/le-victoria-e...  \n",
       "4                  NaN  https://www.booking.com/hotel/fr/la-maison-du-...  \n",
       "..                 ...                                                ...  \n",
       "170                NaN  https://www.booking.com/hotel/fr/appartement-m...  \n",
       "171                NaN  https://www.booking.com/hotel/fr/bienvenue-a-s...  \n",
       "172                NaN  https://www.booking.com/hotel/fr/studio-de-l-h...  \n",
       "173                NaN  https://www.booking.com/hotel/fr/the-little-st...  \n",
       "174                NaN  https://www.booking.com/hotel/fr/le-carre-conf...  \n",
       "\n",
       "[175 rows x 16 columns]"
      ]
     },
     "execution_count": 184,
     "metadata": {},
     "output_type": "execute_result"
    }
   ],
   "source": [
    "merged_df.head()"
   ]
  },
  {
   "cell_type": "code",
   "execution_count": null,
   "metadata": {
    "pycharm": {
     "name": "#%%\n"
    }
   },
   "outputs": [],
   "source": [
    "from bs4 import BeautifulSoup as BS\n",
    "import requests  \n",
    "import pandas as pd  \n",
    "from time import sleep\n",
    "from random import randint\n",
    "\n",
    "for url in merged_df.iterrows():\n",
    "    sleep(2)\n",
    "    headers = {'User-Agent': 'Mozilla/5.0 (Windows NT 6.1) AppleWebKit/537.36 (KHTML, like Gecko) Chrome/41.0.2228.0 Safari/537.36',}\n",
    "    r = requests.get(url[1][\"hotel_url\"], headers = headers)\n",
    "    soup = BS(r.content, 'lxml')\n",
    "    # get latitude and longitude\n",
    "    try:\n",
    "        latlong = soup.find(id=\"hotel_address\").get(\"data-atlas-latlng\").split(\",\")\n",
    "    except AttributeError:\n",
    "        lat, lon = None, None\n",
    "    hotel_description = soup.find(id=\"property_description_content\").get_text()\n",
    "    \n",
    "    lat = latlong[0]\n",
    "    lon = latlong[1]\n",
    "       \n",
    "    merged_df.loc[url[0], \"latitude\"] = lat\n",
    "    merged_df.loc[url[0], \"longitude\"] = lon\n",
    "    merged_df.loc[url[0], \"hotel_description\"] = hotel_description\n",
    "    merged_df.loc[url[0], \"hotel_url_check\"] = url[1][\"hotel_url\"]"
   ]
  },
  {
   "cell_type": "code",
   "execution_count": 187,
   "metadata": {
    "pycharm": {
     "name": "#%%\n"
    }
   },
   "outputs": [
    {
     "data": {
      "text/html": [
       "<div>\n",
       "<style scoped>\n",
       "    .dataframe tbody tr th:only-of-type {\n",
       "        vertical-align: middle;\n",
       "    }\n",
       "\n",
       "    .dataframe tbody tr th {\n",
       "        vertical-align: top;\n",
       "    }\n",
       "\n",
       "    .dataframe thead th {\n",
       "        text-align: right;\n",
       "    }\n",
       "</style>\n",
       "<table border=\"1\" class=\"dataframe\">\n",
       "  <thead>\n",
       "    <tr style=\"text-align: right;\">\n",
       "      <th></th>\n",
       "      <th>city_lat</th>\n",
       "      <th>city_lon</th>\n",
       "      <th>avg_temp</th>\n",
       "      <th>avg_wind</th>\n",
       "      <th>avg_clouds</th>\n",
       "      <th>avg_humidity</th>\n",
       "      <th>avg_temp_rank</th>\n",
       "      <th>avg_wind_rank</th>\n",
       "      <th>avg_clouds_rank</th>\n",
       "      <th>avg_humidity_rank</th>\n",
       "      <th>total_score</th>\n",
       "      <th>city</th>\n",
       "      <th>hotel_name</th>\n",
       "      <th>hotel_score</th>\n",
       "      <th>hotel_description</th>\n",
       "      <th>hotel_url</th>\n",
       "      <th>latitude</th>\n",
       "      <th>longitude</th>\n",
       "      <th>hotel_url_check</th>\n",
       "    </tr>\n",
       "  </thead>\n",
       "  <tbody>\n",
       "    <tr>\n",
       "      <th>0</th>\n",
       "      <td>48.044797</td>\n",
       "      <td>7.307962</td>\n",
       "      <td>4.5450</td>\n",
       "      <td>1.840</td>\n",
       "      <td>86.625</td>\n",
       "      <td>84.750</td>\n",
       "      <td>60.0</td>\n",
       "      <td>6.0</td>\n",
       "      <td>17.5</td>\n",
       "      <td>35.0</td>\n",
       "      <td>147.5</td>\n",
       "      <td>Eguisheim</td>\n",
       "      <td>GITE LE COQ ROUGE</td>\n",
       "      <td>9.8</td>\n",
       "      <td>\\nDoté d'un jardin, d'un barbecue et d'une ter...</td>\n",
       "      <td>https://www.booking.com/hotel/fr/gite-le-coq-r...</td>\n",
       "      <td>48.04170911</td>\n",
       "      <td>7.30569280</td>\n",
       "      <td>https://www.booking.com/hotel/fr/gite-le-coq-r...</td>\n",
       "    </tr>\n",
       "    <tr>\n",
       "      <th>1</th>\n",
       "      <td>48.044797</td>\n",
       "      <td>7.307962</td>\n",
       "      <td>4.5450</td>\n",
       "      <td>1.840</td>\n",
       "      <td>86.625</td>\n",
       "      <td>84.750</td>\n",
       "      <td>60.0</td>\n",
       "      <td>6.0</td>\n",
       "      <td>17.5</td>\n",
       "      <td>35.0</td>\n",
       "      <td>147.5</td>\n",
       "      <td>Eguisheim</td>\n",
       "      <td>Fleur de Vigne</td>\n",
       "      <td>9.7</td>\n",
       "      <td>\\nVous pouvez bénéficier d'une réduction Geniu...</td>\n",
       "      <td>https://www.booking.com/hotel/fr/fleur-de-vign...</td>\n",
       "      <td>48.04611340</td>\n",
       "      <td>7.30516320</td>\n",
       "      <td>https://www.booking.com/hotel/fr/fleur-de-vign...</td>\n",
       "    </tr>\n",
       "    <tr>\n",
       "      <th>2</th>\n",
       "      <td>48.044797</td>\n",
       "      <td>7.307962</td>\n",
       "      <td>4.5450</td>\n",
       "      <td>1.840</td>\n",
       "      <td>86.625</td>\n",
       "      <td>84.750</td>\n",
       "      <td>60.0</td>\n",
       "      <td>6.0</td>\n",
       "      <td>17.5</td>\n",
       "      <td>35.0</td>\n",
       "      <td>147.5</td>\n",
       "      <td>Eguisheim</td>\n",
       "      <td>La Grange de Madeleine</td>\n",
       "      <td>9.7</td>\n",
       "      <td>\\nOffrant une vue sur la ville, La Grange de M...</td>\n",
       "      <td>https://www.booking.com/hotel/fr/la-grange-de-...</td>\n",
       "      <td>48.04178290</td>\n",
       "      <td>7.30654670</td>\n",
       "      <td>https://www.booking.com/hotel/fr/la-grange-de-...</td>\n",
       "    </tr>\n",
       "    <tr>\n",
       "      <th>3</th>\n",
       "      <td>48.044797</td>\n",
       "      <td>7.307962</td>\n",
       "      <td>4.5450</td>\n",
       "      <td>1.840</td>\n",
       "      <td>86.625</td>\n",
       "      <td>84.750</td>\n",
       "      <td>60.0</td>\n",
       "      <td>6.0</td>\n",
       "      <td>17.5</td>\n",
       "      <td>35.0</td>\n",
       "      <td>147.5</td>\n",
       "      <td>Eguisheim</td>\n",
       "      <td>Le Victoria, Eguisheim, 4-6 p., 4etoiles, réno...</td>\n",
       "      <td>9.7</td>\n",
       "      <td>\\nSitué à Eguisheim, à 5,5 km de la gare de Co...</td>\n",
       "      <td>https://www.booking.com/hotel/fr/le-victoria-e...</td>\n",
       "      <td>48.04254270</td>\n",
       "      <td>7.30744990</td>\n",
       "      <td>https://www.booking.com/hotel/fr/le-victoria-e...</td>\n",
       "    </tr>\n",
       "    <tr>\n",
       "      <th>4</th>\n",
       "      <td>48.044797</td>\n",
       "      <td>7.307962</td>\n",
       "      <td>4.5450</td>\n",
       "      <td>1.840</td>\n",
       "      <td>86.625</td>\n",
       "      <td>84.750</td>\n",
       "      <td>60.0</td>\n",
       "      <td>6.0</td>\n",
       "      <td>17.5</td>\n",
       "      <td>35.0</td>\n",
       "      <td>147.5</td>\n",
       "      <td>Eguisheim</td>\n",
       "      <td>La Maison du Rempart</td>\n",
       "      <td>9.6</td>\n",
       "      <td>\\nSituée à Eguisheim, à 6 km de la gare de Col...</td>\n",
       "      <td>https://www.booking.com/hotel/fr/la-maison-du-...</td>\n",
       "      <td>48.04172203</td>\n",
       "      <td>7.30560370</td>\n",
       "      <td>https://www.booking.com/hotel/fr/la-maison-du-...</td>\n",
       "    </tr>\n",
       "    <tr>\n",
       "      <th>...</th>\n",
       "      <td>...</td>\n",
       "      <td>...</td>\n",
       "      <td>...</td>\n",
       "      <td>...</td>\n",
       "      <td>...</td>\n",
       "      <td>...</td>\n",
       "      <td>...</td>\n",
       "      <td>...</td>\n",
       "      <td>...</td>\n",
       "      <td>...</td>\n",
       "      <td>...</td>\n",
       "      <td>...</td>\n",
       "      <td>...</td>\n",
       "      <td>...</td>\n",
       "      <td>...</td>\n",
       "      <td>...</td>\n",
       "      <td>...</td>\n",
       "      <td>...</td>\n",
       "      <td>...</td>\n",
       "    </tr>\n",
       "    <tr>\n",
       "      <th>170</th>\n",
       "      <td>48.584614</td>\n",
       "      <td>7.750713</td>\n",
       "      <td>4.3625</td>\n",
       "      <td>2.555</td>\n",
       "      <td>76.875</td>\n",
       "      <td>78.875</td>\n",
       "      <td>66.0</td>\n",
       "      <td>16.0</td>\n",
       "      <td>9.0</td>\n",
       "      <td>27.0</td>\n",
       "      <td>129.0</td>\n",
       "      <td>Strasbourg</td>\n",
       "      <td>Appartement Arcade en hyper centre avec parking</td>\n",
       "      <td>9.3</td>\n",
       "      <td>\\nDoté d'une connexion Wi-Fi et d'un parking p...</td>\n",
       "      <td>https://www.booking.com/hotel/fr/appartement-m...</td>\n",
       "      <td>48.58302680</td>\n",
       "      <td>7.75272710</td>\n",
       "      <td>https://www.booking.com/hotel/fr/appartement-m...</td>\n",
       "    </tr>\n",
       "    <tr>\n",
       "      <th>171</th>\n",
       "      <td>48.584614</td>\n",
       "      <td>7.750713</td>\n",
       "      <td>4.3625</td>\n",
       "      <td>2.555</td>\n",
       "      <td>76.875</td>\n",
       "      <td>78.875</td>\n",
       "      <td>66.0</td>\n",
       "      <td>16.0</td>\n",
       "      <td>9.0</td>\n",
       "      <td>27.0</td>\n",
       "      <td>129.0</td>\n",
       "      <td>Strasbourg</td>\n",
       "      <td>Bienvenue à Strasbourg - Krutenau</td>\n",
       "      <td>9.3</td>\n",
       "      <td>\\nLe Bienvenue à Strasbourg - Krutenau propose...</td>\n",
       "      <td>https://www.booking.com/hotel/fr/bienvenue-a-s...</td>\n",
       "      <td>48.57992486</td>\n",
       "      <td>7.76147202</td>\n",
       "      <td>https://www.booking.com/hotel/fr/bienvenue-a-s...</td>\n",
       "    </tr>\n",
       "    <tr>\n",
       "      <th>172</th>\n",
       "      <td>48.584614</td>\n",
       "      <td>7.750713</td>\n",
       "      <td>4.3625</td>\n",
       "      <td>2.555</td>\n",
       "      <td>76.875</td>\n",
       "      <td>78.875</td>\n",
       "      <td>66.0</td>\n",
       "      <td>16.0</td>\n",
       "      <td>9.0</td>\n",
       "      <td>27.0</td>\n",
       "      <td>129.0</td>\n",
       "      <td>Strasbourg</td>\n",
       "      <td>Studio de l'Hôtel de Ville</td>\n",
       "      <td>9.3</td>\n",
       "      <td>\\nLe Studio de l'Hôtel de Ville est situé à St...</td>\n",
       "      <td>https://www.booking.com/hotel/fr/studio-de-l-h...</td>\n",
       "      <td>48.58402875</td>\n",
       "      <td>7.74983145</td>\n",
       "      <td>https://www.booking.com/hotel/fr/studio-de-l-h...</td>\n",
       "    </tr>\n",
       "    <tr>\n",
       "      <th>173</th>\n",
       "      <td>48.584614</td>\n",
       "      <td>7.750713</td>\n",
       "      <td>4.3625</td>\n",
       "      <td>2.555</td>\n",
       "      <td>76.875</td>\n",
       "      <td>78.875</td>\n",
       "      <td>66.0</td>\n",
       "      <td>16.0</td>\n",
       "      <td>9.0</td>\n",
       "      <td>27.0</td>\n",
       "      <td>129.0</td>\n",
       "      <td>Strasbourg</td>\n",
       "      <td>The Little Studio</td>\n",
       "      <td>9.3</td>\n",
       "      <td>\\nVous pouvez bénéficier d'une réduction Geniu...</td>\n",
       "      <td>https://www.booking.com/hotel/fr/the-little-st...</td>\n",
       "      <td>48.57019100</td>\n",
       "      <td>7.75086300</td>\n",
       "      <td>https://www.booking.com/hotel/fr/the-little-st...</td>\n",
       "    </tr>\n",
       "    <tr>\n",
       "      <th>174</th>\n",
       "      <td>48.584614</td>\n",
       "      <td>7.750713</td>\n",
       "      <td>4.3625</td>\n",
       "      <td>2.555</td>\n",
       "      <td>76.875</td>\n",
       "      <td>78.875</td>\n",
       "      <td>66.0</td>\n",
       "      <td>16.0</td>\n",
       "      <td>9.0</td>\n",
       "      <td>27.0</td>\n",
       "      <td>129.0</td>\n",
       "      <td>Strasbourg</td>\n",
       "      <td>Le Carré Confidentiel</td>\n",
       "      <td>9.3</td>\n",
       "      <td>\\nVous pouvez bénéficier d'une réduction Geniu...</td>\n",
       "      <td>https://www.booking.com/hotel/fr/le-carre-conf...</td>\n",
       "      <td>48.54797197</td>\n",
       "      <td>7.74042782</td>\n",
       "      <td>https://www.booking.com/hotel/fr/le-carre-conf...</td>\n",
       "    </tr>\n",
       "  </tbody>\n",
       "</table>\n",
       "<p>175 rows × 19 columns</p>\n",
       "</div>"
      ],
      "text/plain": [
       "      city_lat  city_lon  avg_temp  avg_wind  avg_clouds  avg_humidity  \\\n",
       "0    48.044797  7.307962    4.5450     1.840      86.625        84.750   \n",
       "1    48.044797  7.307962    4.5450     1.840      86.625        84.750   \n",
       "2    48.044797  7.307962    4.5450     1.840      86.625        84.750   \n",
       "3    48.044797  7.307962    4.5450     1.840      86.625        84.750   \n",
       "4    48.044797  7.307962    4.5450     1.840      86.625        84.750   \n",
       "..         ...       ...       ...       ...         ...           ...   \n",
       "170  48.584614  7.750713    4.3625     2.555      76.875        78.875   \n",
       "171  48.584614  7.750713    4.3625     2.555      76.875        78.875   \n",
       "172  48.584614  7.750713    4.3625     2.555      76.875        78.875   \n",
       "173  48.584614  7.750713    4.3625     2.555      76.875        78.875   \n",
       "174  48.584614  7.750713    4.3625     2.555      76.875        78.875   \n",
       "\n",
       "     avg_temp_rank  avg_wind_rank  avg_clouds_rank  avg_humidity_rank  \\\n",
       "0             60.0            6.0             17.5               35.0   \n",
       "1             60.0            6.0             17.5               35.0   \n",
       "2             60.0            6.0             17.5               35.0   \n",
       "3             60.0            6.0             17.5               35.0   \n",
       "4             60.0            6.0             17.5               35.0   \n",
       "..             ...            ...              ...                ...   \n",
       "170           66.0           16.0              9.0               27.0   \n",
       "171           66.0           16.0              9.0               27.0   \n",
       "172           66.0           16.0              9.0               27.0   \n",
       "173           66.0           16.0              9.0               27.0   \n",
       "174           66.0           16.0              9.0               27.0   \n",
       "\n",
       "     total_score        city  \\\n",
       "0          147.5   Eguisheim   \n",
       "1          147.5   Eguisheim   \n",
       "2          147.5   Eguisheim   \n",
       "3          147.5   Eguisheim   \n",
       "4          147.5   Eguisheim   \n",
       "..           ...         ...   \n",
       "170        129.0  Strasbourg   \n",
       "171        129.0  Strasbourg   \n",
       "172        129.0  Strasbourg   \n",
       "173        129.0  Strasbourg   \n",
       "174        129.0  Strasbourg   \n",
       "\n",
       "                                            hotel_name  hotel_score  \\\n",
       "0                                    GITE LE COQ ROUGE          9.8   \n",
       "1                                       Fleur de Vigne          9.7   \n",
       "2                               La Grange de Madeleine          9.7   \n",
       "3    Le Victoria, Eguisheim, 4-6 p., 4etoiles, réno...          9.7   \n",
       "4                                 La Maison du Rempart          9.6   \n",
       "..                                                 ...          ...   \n",
       "170    Appartement Arcade en hyper centre avec parking          9.3   \n",
       "171                  Bienvenue à Strasbourg - Krutenau          9.3   \n",
       "172                         Studio de l'Hôtel de Ville          9.3   \n",
       "173                                  The Little Studio          9.3   \n",
       "174                              Le Carré Confidentiel          9.3   \n",
       "\n",
       "                                     hotel_description  \\\n",
       "0    \\nDoté d'un jardin, d'un barbecue et d'une ter...   \n",
       "1    \\nVous pouvez bénéficier d'une réduction Geniu...   \n",
       "2    \\nOffrant une vue sur la ville, La Grange de M...   \n",
       "3    \\nSitué à Eguisheim, à 5,5 km de la gare de Co...   \n",
       "4    \\nSituée à Eguisheim, à 6 km de la gare de Col...   \n",
       "..                                                 ...   \n",
       "170  \\nDoté d'une connexion Wi-Fi et d'un parking p...   \n",
       "171  \\nLe Bienvenue à Strasbourg - Krutenau propose...   \n",
       "172  \\nLe Studio de l'Hôtel de Ville est situé à St...   \n",
       "173  \\nVous pouvez bénéficier d'une réduction Geniu...   \n",
       "174  \\nVous pouvez bénéficier d'une réduction Geniu...   \n",
       "\n",
       "                                             hotel_url     latitude  \\\n",
       "0    https://www.booking.com/hotel/fr/gite-le-coq-r...  48.04170911   \n",
       "1    https://www.booking.com/hotel/fr/fleur-de-vign...  48.04611340   \n",
       "2    https://www.booking.com/hotel/fr/la-grange-de-...  48.04178290   \n",
       "3    https://www.booking.com/hotel/fr/le-victoria-e...  48.04254270   \n",
       "4    https://www.booking.com/hotel/fr/la-maison-du-...  48.04172203   \n",
       "..                                                 ...          ...   \n",
       "170  https://www.booking.com/hotel/fr/appartement-m...  48.58302680   \n",
       "171  https://www.booking.com/hotel/fr/bienvenue-a-s...  48.57992486   \n",
       "172  https://www.booking.com/hotel/fr/studio-de-l-h...  48.58402875   \n",
       "173  https://www.booking.com/hotel/fr/the-little-st...  48.57019100   \n",
       "174  https://www.booking.com/hotel/fr/le-carre-conf...  48.54797197   \n",
       "\n",
       "      longitude                                    hotel_url_check  \n",
       "0    7.30569280  https://www.booking.com/hotel/fr/gite-le-coq-r...  \n",
       "1    7.30516320  https://www.booking.com/hotel/fr/fleur-de-vign...  \n",
       "2    7.30654670  https://www.booking.com/hotel/fr/la-grange-de-...  \n",
       "3    7.30744990  https://www.booking.com/hotel/fr/le-victoria-e...  \n",
       "4    7.30560370  https://www.booking.com/hotel/fr/la-maison-du-...  \n",
       "..          ...                                                ...  \n",
       "170  7.75272710  https://www.booking.com/hotel/fr/appartement-m...  \n",
       "171  7.76147202  https://www.booking.com/hotel/fr/bienvenue-a-s...  \n",
       "172  7.74983145  https://www.booking.com/hotel/fr/studio-de-l-h...  \n",
       "173  7.75086300  https://www.booking.com/hotel/fr/the-little-st...  \n",
       "174  7.74042782  https://www.booking.com/hotel/fr/le-carre-conf...  \n",
       "\n",
       "[175 rows x 19 columns]"
      ]
     },
     "execution_count": 187,
     "metadata": {},
     "output_type": "execute_result"
    }
   ],
   "source": [
    "merged_df"
   ]
  },
  {
   "cell_type": "code",
   "execution_count": 193,
   "metadata": {
    "pycharm": {
     "name": "#%%\n"
    }
   },
   "outputs": [
    {
     "data": {
      "text/plain": [
       "(175, 19)"
      ]
     },
     "execution_count": 193,
     "metadata": {},
     "output_type": "execute_result"
    }
   ],
   "source": [
    "mask = merged_df[\"hotel_url_check\"] == merged_df[\"hotel_url\"]\n",
    "merged_df = merged_df[mask]\n",
    "merged_df.shape"
   ]
  },
  {
   "cell_type": "code",
   "execution_count": 192,
   "metadata": {
    "pycharm": {
     "name": "#%%\n"
    }
   },
   "outputs": [
    {
     "data": {
      "text/html": [
       "<div>\n",
       "<style scoped>\n",
       "    .dataframe tbody tr th:only-of-type {\n",
       "        vertical-align: middle;\n",
       "    }\n",
       "\n",
       "    .dataframe tbody tr th {\n",
       "        vertical-align: top;\n",
       "    }\n",
       "\n",
       "    .dataframe thead th {\n",
       "        text-align: right;\n",
       "    }\n",
       "</style>\n",
       "<table border=\"1\" class=\"dataframe\">\n",
       "  <thead>\n",
       "    <tr style=\"text-align: right;\">\n",
       "      <th></th>\n",
       "      <th>city_lat</th>\n",
       "      <th>city_lon</th>\n",
       "      <th>avg_temp</th>\n",
       "      <th>avg_wind</th>\n",
       "      <th>avg_clouds</th>\n",
       "      <th>avg_humidity</th>\n",
       "      <th>avg_temp_rank</th>\n",
       "      <th>avg_wind_rank</th>\n",
       "      <th>avg_clouds_rank</th>\n",
       "      <th>avg_humidity_rank</th>\n",
       "      <th>total_score</th>\n",
       "      <th>city</th>\n",
       "      <th>hotel_name</th>\n",
       "      <th>hotel_score</th>\n",
       "      <th>hotel_description</th>\n",
       "      <th>hotel_url</th>\n",
       "      <th>latitude</th>\n",
       "      <th>longitude</th>\n",
       "      <th>hotel_url_check</th>\n",
       "    </tr>\n",
       "  </thead>\n",
       "  <tbody>\n",
       "    <tr>\n",
       "      <th>0</th>\n",
       "      <td>48.044797</td>\n",
       "      <td>7.307962</td>\n",
       "      <td>4.5450</td>\n",
       "      <td>1.840</td>\n",
       "      <td>86.625</td>\n",
       "      <td>84.750</td>\n",
       "      <td>60.0</td>\n",
       "      <td>6.0</td>\n",
       "      <td>17.5</td>\n",
       "      <td>35.0</td>\n",
       "      <td>147.5</td>\n",
       "      <td>Eguisheim</td>\n",
       "      <td>GITE LE COQ ROUGE</td>\n",
       "      <td>9.8</td>\n",
       "      <td>\\nDoté d'un jardin, d'un barbecue et d'une ter...</td>\n",
       "      <td>https://www.booking.com/hotel/fr/gite-le-coq-r...</td>\n",
       "      <td>48.04170911</td>\n",
       "      <td>7.30569280</td>\n",
       "      <td>https://www.booking.com/hotel/fr/gite-le-coq-r...</td>\n",
       "    </tr>\n",
       "    <tr>\n",
       "      <th>1</th>\n",
       "      <td>48.044797</td>\n",
       "      <td>7.307962</td>\n",
       "      <td>4.5450</td>\n",
       "      <td>1.840</td>\n",
       "      <td>86.625</td>\n",
       "      <td>84.750</td>\n",
       "      <td>60.0</td>\n",
       "      <td>6.0</td>\n",
       "      <td>17.5</td>\n",
       "      <td>35.0</td>\n",
       "      <td>147.5</td>\n",
       "      <td>Eguisheim</td>\n",
       "      <td>Fleur de Vigne</td>\n",
       "      <td>9.7</td>\n",
       "      <td>\\nVous pouvez bénéficier d'une réduction Geniu...</td>\n",
       "      <td>https://www.booking.com/hotel/fr/fleur-de-vign...</td>\n",
       "      <td>48.04611340</td>\n",
       "      <td>7.30516320</td>\n",
       "      <td>https://www.booking.com/hotel/fr/fleur-de-vign...</td>\n",
       "    </tr>\n",
       "    <tr>\n",
       "      <th>2</th>\n",
       "      <td>48.044797</td>\n",
       "      <td>7.307962</td>\n",
       "      <td>4.5450</td>\n",
       "      <td>1.840</td>\n",
       "      <td>86.625</td>\n",
       "      <td>84.750</td>\n",
       "      <td>60.0</td>\n",
       "      <td>6.0</td>\n",
       "      <td>17.5</td>\n",
       "      <td>35.0</td>\n",
       "      <td>147.5</td>\n",
       "      <td>Eguisheim</td>\n",
       "      <td>La Grange de Madeleine</td>\n",
       "      <td>9.7</td>\n",
       "      <td>\\nOffrant une vue sur la ville, La Grange de M...</td>\n",
       "      <td>https://www.booking.com/hotel/fr/la-grange-de-...</td>\n",
       "      <td>48.04178290</td>\n",
       "      <td>7.30654670</td>\n",
       "      <td>https://www.booking.com/hotel/fr/la-grange-de-...</td>\n",
       "    </tr>\n",
       "    <tr>\n",
       "      <th>3</th>\n",
       "      <td>48.044797</td>\n",
       "      <td>7.307962</td>\n",
       "      <td>4.5450</td>\n",
       "      <td>1.840</td>\n",
       "      <td>86.625</td>\n",
       "      <td>84.750</td>\n",
       "      <td>60.0</td>\n",
       "      <td>6.0</td>\n",
       "      <td>17.5</td>\n",
       "      <td>35.0</td>\n",
       "      <td>147.5</td>\n",
       "      <td>Eguisheim</td>\n",
       "      <td>Le Victoria, Eguisheim, 4-6 p., 4etoiles, réno...</td>\n",
       "      <td>9.7</td>\n",
       "      <td>\\nSitué à Eguisheim, à 5,5 km de la gare de Co...</td>\n",
       "      <td>https://www.booking.com/hotel/fr/le-victoria-e...</td>\n",
       "      <td>48.04254270</td>\n",
       "      <td>7.30744990</td>\n",
       "      <td>https://www.booking.com/hotel/fr/le-victoria-e...</td>\n",
       "    </tr>\n",
       "    <tr>\n",
       "      <th>4</th>\n",
       "      <td>48.044797</td>\n",
       "      <td>7.307962</td>\n",
       "      <td>4.5450</td>\n",
       "      <td>1.840</td>\n",
       "      <td>86.625</td>\n",
       "      <td>84.750</td>\n",
       "      <td>60.0</td>\n",
       "      <td>6.0</td>\n",
       "      <td>17.5</td>\n",
       "      <td>35.0</td>\n",
       "      <td>147.5</td>\n",
       "      <td>Eguisheim</td>\n",
       "      <td>La Maison du Rempart</td>\n",
       "      <td>9.6</td>\n",
       "      <td>\\nSituée à Eguisheim, à 6 km de la gare de Col...</td>\n",
       "      <td>https://www.booking.com/hotel/fr/la-maison-du-...</td>\n",
       "      <td>48.04172203</td>\n",
       "      <td>7.30560370</td>\n",
       "      <td>https://www.booking.com/hotel/fr/la-maison-du-...</td>\n",
       "    </tr>\n",
       "    <tr>\n",
       "      <th>...</th>\n",
       "      <td>...</td>\n",
       "      <td>...</td>\n",
       "      <td>...</td>\n",
       "      <td>...</td>\n",
       "      <td>...</td>\n",
       "      <td>...</td>\n",
       "      <td>...</td>\n",
       "      <td>...</td>\n",
       "      <td>...</td>\n",
       "      <td>...</td>\n",
       "      <td>...</td>\n",
       "      <td>...</td>\n",
       "      <td>...</td>\n",
       "      <td>...</td>\n",
       "      <td>...</td>\n",
       "      <td>...</td>\n",
       "      <td>...</td>\n",
       "      <td>...</td>\n",
       "      <td>...</td>\n",
       "    </tr>\n",
       "    <tr>\n",
       "      <th>170</th>\n",
       "      <td>48.584614</td>\n",
       "      <td>7.750713</td>\n",
       "      <td>4.3625</td>\n",
       "      <td>2.555</td>\n",
       "      <td>76.875</td>\n",
       "      <td>78.875</td>\n",
       "      <td>66.0</td>\n",
       "      <td>16.0</td>\n",
       "      <td>9.0</td>\n",
       "      <td>27.0</td>\n",
       "      <td>129.0</td>\n",
       "      <td>Strasbourg</td>\n",
       "      <td>Appartement Arcade en hyper centre avec parking</td>\n",
       "      <td>9.3</td>\n",
       "      <td>\\nDoté d'une connexion Wi-Fi et d'un parking p...</td>\n",
       "      <td>https://www.booking.com/hotel/fr/appartement-m...</td>\n",
       "      <td>48.58302680</td>\n",
       "      <td>7.75272710</td>\n",
       "      <td>https://www.booking.com/hotel/fr/appartement-m...</td>\n",
       "    </tr>\n",
       "    <tr>\n",
       "      <th>171</th>\n",
       "      <td>48.584614</td>\n",
       "      <td>7.750713</td>\n",
       "      <td>4.3625</td>\n",
       "      <td>2.555</td>\n",
       "      <td>76.875</td>\n",
       "      <td>78.875</td>\n",
       "      <td>66.0</td>\n",
       "      <td>16.0</td>\n",
       "      <td>9.0</td>\n",
       "      <td>27.0</td>\n",
       "      <td>129.0</td>\n",
       "      <td>Strasbourg</td>\n",
       "      <td>Bienvenue à Strasbourg - Krutenau</td>\n",
       "      <td>9.3</td>\n",
       "      <td>\\nLe Bienvenue à Strasbourg - Krutenau propose...</td>\n",
       "      <td>https://www.booking.com/hotel/fr/bienvenue-a-s...</td>\n",
       "      <td>48.57992486</td>\n",
       "      <td>7.76147202</td>\n",
       "      <td>https://www.booking.com/hotel/fr/bienvenue-a-s...</td>\n",
       "    </tr>\n",
       "    <tr>\n",
       "      <th>172</th>\n",
       "      <td>48.584614</td>\n",
       "      <td>7.750713</td>\n",
       "      <td>4.3625</td>\n",
       "      <td>2.555</td>\n",
       "      <td>76.875</td>\n",
       "      <td>78.875</td>\n",
       "      <td>66.0</td>\n",
       "      <td>16.0</td>\n",
       "      <td>9.0</td>\n",
       "      <td>27.0</td>\n",
       "      <td>129.0</td>\n",
       "      <td>Strasbourg</td>\n",
       "      <td>Studio de l'Hôtel de Ville</td>\n",
       "      <td>9.3</td>\n",
       "      <td>\\nLe Studio de l'Hôtel de Ville est situé à St...</td>\n",
       "      <td>https://www.booking.com/hotel/fr/studio-de-l-h...</td>\n",
       "      <td>48.58402875</td>\n",
       "      <td>7.74983145</td>\n",
       "      <td>https://www.booking.com/hotel/fr/studio-de-l-h...</td>\n",
       "    </tr>\n",
       "    <tr>\n",
       "      <th>173</th>\n",
       "      <td>48.584614</td>\n",
       "      <td>7.750713</td>\n",
       "      <td>4.3625</td>\n",
       "      <td>2.555</td>\n",
       "      <td>76.875</td>\n",
       "      <td>78.875</td>\n",
       "      <td>66.0</td>\n",
       "      <td>16.0</td>\n",
       "      <td>9.0</td>\n",
       "      <td>27.0</td>\n",
       "      <td>129.0</td>\n",
       "      <td>Strasbourg</td>\n",
       "      <td>The Little Studio</td>\n",
       "      <td>9.3</td>\n",
       "      <td>\\nVous pouvez bénéficier d'une réduction Geniu...</td>\n",
       "      <td>https://www.booking.com/hotel/fr/the-little-st...</td>\n",
       "      <td>48.57019100</td>\n",
       "      <td>7.75086300</td>\n",
       "      <td>https://www.booking.com/hotel/fr/the-little-st...</td>\n",
       "    </tr>\n",
       "    <tr>\n",
       "      <th>174</th>\n",
       "      <td>48.584614</td>\n",
       "      <td>7.750713</td>\n",
       "      <td>4.3625</td>\n",
       "      <td>2.555</td>\n",
       "      <td>76.875</td>\n",
       "      <td>78.875</td>\n",
       "      <td>66.0</td>\n",
       "      <td>16.0</td>\n",
       "      <td>9.0</td>\n",
       "      <td>27.0</td>\n",
       "      <td>129.0</td>\n",
       "      <td>Strasbourg</td>\n",
       "      <td>Le Carré Confidentiel</td>\n",
       "      <td>9.3</td>\n",
       "      <td>\\nVous pouvez bénéficier d'une réduction Geniu...</td>\n",
       "      <td>https://www.booking.com/hotel/fr/le-carre-conf...</td>\n",
       "      <td>48.54797197</td>\n",
       "      <td>7.74042782</td>\n",
       "      <td>https://www.booking.com/hotel/fr/le-carre-conf...</td>\n",
       "    </tr>\n",
       "  </tbody>\n",
       "</table>\n",
       "<p>175 rows × 19 columns</p>\n",
       "</div>"
      ],
      "text/plain": [
       "      city_lat  city_lon  avg_temp  avg_wind  avg_clouds  avg_humidity  \\\n",
       "0    48.044797  7.307962    4.5450     1.840      86.625        84.750   \n",
       "1    48.044797  7.307962    4.5450     1.840      86.625        84.750   \n",
       "2    48.044797  7.307962    4.5450     1.840      86.625        84.750   \n",
       "3    48.044797  7.307962    4.5450     1.840      86.625        84.750   \n",
       "4    48.044797  7.307962    4.5450     1.840      86.625        84.750   \n",
       "..         ...       ...       ...       ...         ...           ...   \n",
       "170  48.584614  7.750713    4.3625     2.555      76.875        78.875   \n",
       "171  48.584614  7.750713    4.3625     2.555      76.875        78.875   \n",
       "172  48.584614  7.750713    4.3625     2.555      76.875        78.875   \n",
       "173  48.584614  7.750713    4.3625     2.555      76.875        78.875   \n",
       "174  48.584614  7.750713    4.3625     2.555      76.875        78.875   \n",
       "\n",
       "     avg_temp_rank  avg_wind_rank  avg_clouds_rank  avg_humidity_rank  \\\n",
       "0             60.0            6.0             17.5               35.0   \n",
       "1             60.0            6.0             17.5               35.0   \n",
       "2             60.0            6.0             17.5               35.0   \n",
       "3             60.0            6.0             17.5               35.0   \n",
       "4             60.0            6.0             17.5               35.0   \n",
       "..             ...            ...              ...                ...   \n",
       "170           66.0           16.0              9.0               27.0   \n",
       "171           66.0           16.0              9.0               27.0   \n",
       "172           66.0           16.0              9.0               27.0   \n",
       "173           66.0           16.0              9.0               27.0   \n",
       "174           66.0           16.0              9.0               27.0   \n",
       "\n",
       "     total_score        city  \\\n",
       "0          147.5   Eguisheim   \n",
       "1          147.5   Eguisheim   \n",
       "2          147.5   Eguisheim   \n",
       "3          147.5   Eguisheim   \n",
       "4          147.5   Eguisheim   \n",
       "..           ...         ...   \n",
       "170        129.0  Strasbourg   \n",
       "171        129.0  Strasbourg   \n",
       "172        129.0  Strasbourg   \n",
       "173        129.0  Strasbourg   \n",
       "174        129.0  Strasbourg   \n",
       "\n",
       "                                            hotel_name  hotel_score  \\\n",
       "0                                    GITE LE COQ ROUGE          9.8   \n",
       "1                                       Fleur de Vigne          9.7   \n",
       "2                               La Grange de Madeleine          9.7   \n",
       "3    Le Victoria, Eguisheim, 4-6 p., 4etoiles, réno...          9.7   \n",
       "4                                 La Maison du Rempart          9.6   \n",
       "..                                                 ...          ...   \n",
       "170    Appartement Arcade en hyper centre avec parking          9.3   \n",
       "171                  Bienvenue à Strasbourg - Krutenau          9.3   \n",
       "172                         Studio de l'Hôtel de Ville          9.3   \n",
       "173                                  The Little Studio          9.3   \n",
       "174                              Le Carré Confidentiel          9.3   \n",
       "\n",
       "                                     hotel_description  \\\n",
       "0    \\nDoté d'un jardin, d'un barbecue et d'une ter...   \n",
       "1    \\nVous pouvez bénéficier d'une réduction Geniu...   \n",
       "2    \\nOffrant une vue sur la ville, La Grange de M...   \n",
       "3    \\nSitué à Eguisheim, à 5,5 km de la gare de Co...   \n",
       "4    \\nSituée à Eguisheim, à 6 km de la gare de Col...   \n",
       "..                                                 ...   \n",
       "170  \\nDoté d'une connexion Wi-Fi et d'un parking p...   \n",
       "171  \\nLe Bienvenue à Strasbourg - Krutenau propose...   \n",
       "172  \\nLe Studio de l'Hôtel de Ville est situé à St...   \n",
       "173  \\nVous pouvez bénéficier d'une réduction Geniu...   \n",
       "174  \\nVous pouvez bénéficier d'une réduction Geniu...   \n",
       "\n",
       "                                             hotel_url     latitude  \\\n",
       "0    https://www.booking.com/hotel/fr/gite-le-coq-r...  48.04170911   \n",
       "1    https://www.booking.com/hotel/fr/fleur-de-vign...  48.04611340   \n",
       "2    https://www.booking.com/hotel/fr/la-grange-de-...  48.04178290   \n",
       "3    https://www.booking.com/hotel/fr/le-victoria-e...  48.04254270   \n",
       "4    https://www.booking.com/hotel/fr/la-maison-du-...  48.04172203   \n",
       "..                                                 ...          ...   \n",
       "170  https://www.booking.com/hotel/fr/appartement-m...  48.58302680   \n",
       "171  https://www.booking.com/hotel/fr/bienvenue-a-s...  48.57992486   \n",
       "172  https://www.booking.com/hotel/fr/studio-de-l-h...  48.58402875   \n",
       "173  https://www.booking.com/hotel/fr/the-little-st...  48.57019100   \n",
       "174  https://www.booking.com/hotel/fr/le-carre-conf...  48.54797197   \n",
       "\n",
       "      longitude                                    hotel_url_check  \n",
       "0    7.30569280  https://www.booking.com/hotel/fr/gite-le-coq-r...  \n",
       "1    7.30516320  https://www.booking.com/hotel/fr/fleur-de-vign...  \n",
       "2    7.30654670  https://www.booking.com/hotel/fr/la-grange-de-...  \n",
       "3    7.30744990  https://www.booking.com/hotel/fr/le-victoria-e...  \n",
       "4    7.30560370  https://www.booking.com/hotel/fr/la-maison-du-...  \n",
       "..          ...                                                ...  \n",
       "170  7.75272710  https://www.booking.com/hotel/fr/appartement-m...  \n",
       "171  7.76147202  https://www.booking.com/hotel/fr/bienvenue-a-s...  \n",
       "172  7.74983145  https://www.booking.com/hotel/fr/studio-de-l-h...  \n",
       "173  7.75086300  https://www.booking.com/hotel/fr/the-little-st...  \n",
       "174  7.74042782  https://www.booking.com/hotel/fr/le-carre-conf...  \n",
       "\n",
       "[175 rows x 19 columns]"
      ]
     },
     "execution_count": 192,
     "metadata": {},
     "output_type": "execute_result"
    }
   ],
   "source": [
    "merged_df"
   ]
  },
  {
   "cell_type": "code",
   "execution_count": 196,
   "metadata": {
    "pycharm": {
     "name": "#%%\n"
    }
   },
   "outputs": [],
   "source": [
    "# drop rows with None values in latitude or longitude columns\n",
    "merged_df = merged_df.dropna(subset=[\"latitude\", \"longitude\"])\n",
    "merged_df = merged_df.groupby(\"city\").apply(lambda x: x.nlargest(25, \"hotel_score\")).reset_index(drop=True)"
   ]
  },
  {
   "cell_type": "code",
   "execution_count": 198,
   "metadata": {
    "pycharm": {
     "name": "#%%\n"
    }
   },
   "outputs": [
    {
     "data": {
      "text/html": [
       "<div>\n",
       "<style scoped>\n",
       "    .dataframe tbody tr th:only-of-type {\n",
       "        vertical-align: middle;\n",
       "    }\n",
       "\n",
       "    .dataframe tbody tr th {\n",
       "        vertical-align: top;\n",
       "    }\n",
       "\n",
       "    .dataframe thead th {\n",
       "        text-align: right;\n",
       "    }\n",
       "</style>\n",
       "<table border=\"1\" class=\"dataframe\">\n",
       "  <thead>\n",
       "    <tr style=\"text-align: right;\">\n",
       "      <th></th>\n",
       "      <th>city_lat</th>\n",
       "      <th>city_lon</th>\n",
       "      <th>avg_temp</th>\n",
       "      <th>avg_wind</th>\n",
       "      <th>avg_clouds</th>\n",
       "      <th>avg_humidity</th>\n",
       "      <th>avg_temp_rank</th>\n",
       "      <th>avg_wind_rank</th>\n",
       "      <th>avg_clouds_rank</th>\n",
       "      <th>avg_humidity_rank</th>\n",
       "      <th>total_score</th>\n",
       "      <th>city</th>\n",
       "      <th>hotel_name</th>\n",
       "      <th>hotel_score</th>\n",
       "      <th>hotel_description</th>\n",
       "      <th>hotel_url</th>\n",
       "      <th>latitude</th>\n",
       "      <th>longitude</th>\n",
       "      <th>hotel_url_check</th>\n",
       "    </tr>\n",
       "  </thead>\n",
       "  <tbody>\n",
       "    <tr>\n",
       "      <th>0</th>\n",
       "      <td>48.24949</td>\n",
       "      <td>7.344296</td>\n",
       "      <td>1.685</td>\n",
       "      <td>1.69625</td>\n",
       "      <td>80.625</td>\n",
       "      <td>82.125</td>\n",
       "      <td>70.0</td>\n",
       "      <td>2.0</td>\n",
       "      <td>13.0</td>\n",
       "      <td>31.0</td>\n",
       "      <td>145.0</td>\n",
       "      <td>Chateau du Haut Koenigsbourg</td>\n",
       "      <td>Villa Grimm</td>\n",
       "      <td>9.8</td>\n",
       "      <td>\\nVous pouvez bénéficier d'une réduction Geniu...</td>\n",
       "      <td>https://www.booking.com/hotel/fr/villa-grimm.f...</td>\n",
       "      <td>48.24405000</td>\n",
       "      <td>7.17724400</td>\n",
       "      <td>https://www.booking.com/hotel/fr/villa-grimm.f...</td>\n",
       "    </tr>\n",
       "    <tr>\n",
       "      <th>1</th>\n",
       "      <td>48.24949</td>\n",
       "      <td>7.344296</td>\n",
       "      <td>1.685</td>\n",
       "      <td>1.69625</td>\n",
       "      <td>80.625</td>\n",
       "      <td>82.125</td>\n",
       "      <td>70.0</td>\n",
       "      <td>2.0</td>\n",
       "      <td>13.0</td>\n",
       "      <td>31.0</td>\n",
       "      <td>145.0</td>\n",
       "      <td>Chateau du Haut Koenigsbourg</td>\n",
       "      <td>GÎTE **** L'ATELIER DU TONNELIER</td>\n",
       "      <td>9.7</td>\n",
       "      <td>\\nVous pouvez bénéficier d'une réduction Geniu...</td>\n",
       "      <td>https://www.booking.com/hotel/fr/gite-l-39-ate...</td>\n",
       "      <td>48.19447500</td>\n",
       "      <td>7.32268400</td>\n",
       "      <td>https://www.booking.com/hotel/fr/gite-l-39-ate...</td>\n",
       "    </tr>\n",
       "    <tr>\n",
       "      <th>2</th>\n",
       "      <td>48.24949</td>\n",
       "      <td>7.344296</td>\n",
       "      <td>1.685</td>\n",
       "      <td>1.69625</td>\n",
       "      <td>80.625</td>\n",
       "      <td>82.125</td>\n",
       "      <td>70.0</td>\n",
       "      <td>2.0</td>\n",
       "      <td>13.0</td>\n",
       "      <td>31.0</td>\n",
       "      <td>145.0</td>\n",
       "      <td>Chateau du Haut Koenigsbourg</td>\n",
       "      <td>La Maison de Jeanne</td>\n",
       "      <td>9.6</td>\n",
       "      <td>\\nSitué à Sélestat, à seulement 12 km du châte...</td>\n",
       "      <td>https://www.booking.com/hotel/fr/la-maison-de-...</td>\n",
       "      <td>48.25887983</td>\n",
       "      <td>7.43660423</td>\n",
       "      <td>https://www.booking.com/hotel/fr/la-maison-de-...</td>\n",
       "    </tr>\n",
       "    <tr>\n",
       "      <th>3</th>\n",
       "      <td>48.24949</td>\n",
       "      <td>7.344296</td>\n",
       "      <td>1.685</td>\n",
       "      <td>1.69625</td>\n",
       "      <td>80.625</td>\n",
       "      <td>82.125</td>\n",
       "      <td>70.0</td>\n",
       "      <td>2.0</td>\n",
       "      <td>13.0</td>\n",
       "      <td>31.0</td>\n",
       "      <td>145.0</td>\n",
       "      <td>Chateau du Haut Koenigsbourg</td>\n",
       "      <td>La Maison de Vacances</td>\n",
       "      <td>9.5</td>\n",
       "      <td>\\nVous pouvez bénéficier d'une réduction Geniu...</td>\n",
       "      <td>https://www.booking.com/hotel/fr/la-maison-de-...</td>\n",
       "      <td>48.35602535</td>\n",
       "      <td>7.41966145</td>\n",
       "      <td>https://www.booking.com/hotel/fr/la-maison-de-...</td>\n",
       "    </tr>\n",
       "    <tr>\n",
       "      <th>4</th>\n",
       "      <td>48.24949</td>\n",
       "      <td>7.344296</td>\n",
       "      <td>1.685</td>\n",
       "      <td>1.69625</td>\n",
       "      <td>80.625</td>\n",
       "      <td>82.125</td>\n",
       "      <td>70.0</td>\n",
       "      <td>2.0</td>\n",
       "      <td>13.0</td>\n",
       "      <td>31.0</td>\n",
       "      <td>145.0</td>\n",
       "      <td>Chateau du Haut Koenigsbourg</td>\n",
       "      <td>Les Gîtes d'Adelspach Gîtes &amp; Spa en Alsace</td>\n",
       "      <td>9.4</td>\n",
       "      <td>\\nOffrant une vue sur le jardin, l'établisseme...</td>\n",
       "      <td>https://www.booking.com/hotel/fr/domaine-de-ch...</td>\n",
       "      <td>48.22434218</td>\n",
       "      <td>7.21197235</td>\n",
       "      <td>https://www.booking.com/hotel/fr/domaine-de-ch...</td>\n",
       "    </tr>\n",
       "  </tbody>\n",
       "</table>\n",
       "</div>"
      ],
      "text/plain": [
       "   city_lat  city_lon  avg_temp  avg_wind  avg_clouds  avg_humidity  \\\n",
       "0  48.24949  7.344296     1.685   1.69625      80.625        82.125   \n",
       "1  48.24949  7.344296     1.685   1.69625      80.625        82.125   \n",
       "2  48.24949  7.344296     1.685   1.69625      80.625        82.125   \n",
       "3  48.24949  7.344296     1.685   1.69625      80.625        82.125   \n",
       "4  48.24949  7.344296     1.685   1.69625      80.625        82.125   \n",
       "\n",
       "   avg_temp_rank  avg_wind_rank  avg_clouds_rank  avg_humidity_rank  \\\n",
       "0           70.0            2.0             13.0               31.0   \n",
       "1           70.0            2.0             13.0               31.0   \n",
       "2           70.0            2.0             13.0               31.0   \n",
       "3           70.0            2.0             13.0               31.0   \n",
       "4           70.0            2.0             13.0               31.0   \n",
       "\n",
       "   total_score                          city  \\\n",
       "0        145.0  Chateau du Haut Koenigsbourg   \n",
       "1        145.0  Chateau du Haut Koenigsbourg   \n",
       "2        145.0  Chateau du Haut Koenigsbourg   \n",
       "3        145.0  Chateau du Haut Koenigsbourg   \n",
       "4        145.0  Chateau du Haut Koenigsbourg   \n",
       "\n",
       "                                    hotel_name  hotel_score  \\\n",
       "0                                  Villa Grimm          9.8   \n",
       "1             GÎTE **** L'ATELIER DU TONNELIER          9.7   \n",
       "2                          La Maison de Jeanne          9.6   \n",
       "3                        La Maison de Vacances          9.5   \n",
       "4  Les Gîtes d'Adelspach Gîtes & Spa en Alsace          9.4   \n",
       "\n",
       "                                   hotel_description  \\\n",
       "0  \\nVous pouvez bénéficier d'une réduction Geniu...   \n",
       "1  \\nVous pouvez bénéficier d'une réduction Geniu...   \n",
       "2  \\nSitué à Sélestat, à seulement 12 km du châte...   \n",
       "3  \\nVous pouvez bénéficier d'une réduction Geniu...   \n",
       "4  \\nOffrant une vue sur le jardin, l'établisseme...   \n",
       "\n",
       "                                           hotel_url     latitude   longitude  \\\n",
       "0  https://www.booking.com/hotel/fr/villa-grimm.f...  48.24405000  7.17724400   \n",
       "1  https://www.booking.com/hotel/fr/gite-l-39-ate...  48.19447500  7.32268400   \n",
       "2  https://www.booking.com/hotel/fr/la-maison-de-...  48.25887983  7.43660423   \n",
       "3  https://www.booking.com/hotel/fr/la-maison-de-...  48.35602535  7.41966145   \n",
       "4  https://www.booking.com/hotel/fr/domaine-de-ch...  48.22434218  7.21197235   \n",
       "\n",
       "                                     hotel_url_check  \n",
       "0  https://www.booking.com/hotel/fr/villa-grimm.f...  \n",
       "1  https://www.booking.com/hotel/fr/gite-l-39-ate...  \n",
       "2  https://www.booking.com/hotel/fr/la-maison-de-...  \n",
       "3  https://www.booking.com/hotel/fr/la-maison-de-...  \n",
       "4  https://www.booking.com/hotel/fr/domaine-de-ch...  "
      ]
     },
     "execution_count": 198,
     "metadata": {},
     "output_type": "execute_result"
    }
   ],
   "source": [
    "merged_df.head()"
   ]
  },
  {
   "cell_type": "code",
   "execution_count": 199,
   "metadata": {
    "pycharm": {
     "name": "#%%\n"
    }
   },
   "outputs": [
    {
     "data": {
      "text/plain": [
       "Chateau du Haut Koenigsbourg    25\n",
       "Colmar                          25\n",
       "Dijon                           25\n",
       "Eguisheim                       25\n",
       "Strasbourg                      25\n",
       "Name: city, dtype: int64"
      ]
     },
     "execution_count": 199,
     "metadata": {},
     "output_type": "execute_result"
    }
   ],
   "source": [
    "merged_df[\"city\"].value_counts()"
   ]
  }
 ],
 "metadata": {
  "kernelspec": {
   "display_name": "Python 3.11.0 64-bit ('bootcamp')",
   "language": "python",
   "name": "python3"
  },
  "language_info": {
   "codemirror_mode": {
    "name": "ipython",
    "version": 3
   },
   "file_extension": ".py",
   "mimetype": "text/x-python",
   "name": "python",
   "nbconvert_exporter": "python",
   "pygments_lexer": "ipython3",
   "version": "3.11.0"
  },
  "vscode": {
   "interpreter": {
    "hash": "3ddd392e38182f3ed2961dc75c773b7c71ba46868493ccb7ed39a1cd267c2f2f"
   }
  }
 },
 "nbformat": 4,
 "nbformat_minor": 0
}