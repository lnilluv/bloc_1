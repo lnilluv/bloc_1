{
 "cells": [
  {
   "cell_type": "code",
   "execution_count": 8,
   "metadata": {
    "collapsed": true,
    "pycharm": {
     "name": "#%%\n"
    }
   },
   "outputs": [
    {
     "name": "stdout",
     "output_type": "stream",
     "text": [
      "Mont Saint Michel\n",
      "St Malo\n",
      "Bayeux\n",
      "Le Havre\n",
      "Rouen\n",
      "Paris\n",
      "Amiens\n",
      "Lille\n",
      "Strasbourg\n",
      "Chateau du Haut Koenigsbourg\n",
      "Colmar\n",
      "Eguisheim\n",
      "Besancon\n",
      "Dijon\n",
      "Annecy\n",
      "Grenoble\n",
      "Lyon\n",
      "Gorges du Verdon\n",
      "Bormes les Mimosas\n",
      "Cassis\n",
      "Marseille\n",
      "Aix en Provence\n",
      "Avignon\n",
      "Uzes\n",
      "Nimes\n",
      "Aigues Mortes\n",
      "Saintes Maries de la mer\n",
      "Collioure\n",
      "Carcassonne\n",
      "Ariege\n",
      "Toulouse\n",
      "Montauban\n",
      "Biarritz\n",
      "Bayonne\n",
      "La Rochelle\n"
     ]
    }
   ],
   "source": [
    "import json\n",
    "\n",
    "with open('/Users/pryda/Documents/Projets_Jedha/1_Kayak/cities_weather.json', 'r') as f:\n",
    "    cities = json.load(f)\n",
    "    for city in cities:\n",
    "        print(city)\n",
    "    # for city in cities:\n",
    "    #     print(city, city['weather']['temp'])"
   ]
  },
  {
   "cell_type": "code",
   "execution_count": 9,
   "outputs": [],
   "source": [
    "   with open('/Users/pryda/Documents/Projets_Jedha/1_Kayak/cities_weather.json', 'r') as f:\n",
    "        cities = json.load(f)\n",
    "        # make a list of all the cities\n",
    "        cities = [city for city in cities]"
   ],
   "metadata": {
    "collapsed": false,
    "pycharm": {
     "name": "#%%\n"
    }
   }
  },
  {
   "cell_type": "code",
   "execution_count": 5,
   "outputs": [],
   "source": [
    "offset = str(0)\n",
    "offset += str(25)\n",
    "offset += str(25)"
   ],
   "metadata": {
    "collapsed": false,
    "pycharm": {
     "name": "#%%\n"
    }
   }
  },
  {
   "cell_type": "code",
   "execution_count": 7,
   "outputs": [],
   "source": [
    "offset += str(25)"
   ],
   "metadata": {
    "collapsed": false,
    "pycharm": {
     "name": "#%%\n"
    }
   }
  },
  {
   "cell_type": "code",
   "execution_count": 8,
   "outputs": [
    {
     "data": {
      "text/plain": "'02525'"
     },
     "execution_count": 8,
     "metadata": {},
     "output_type": "execute_result"
    }
   ],
   "source": [
    "offset"
   ],
   "metadata": {
    "collapsed": false,
    "pycharm": {
     "name": "#%%\n"
    }
   }
  },
  {
   "cell_type": "code",
   "execution_count": 12,
   "outputs": [
    {
     "data": {
      "text/plain": "['Mont Saint Michel',\n 'St Malo',\n 'Bayeux',\n 'Le Havre',\n 'Rouen',\n 'Paris',\n 'Amiens',\n 'Lille',\n 'Strasbourg',\n 'Chateau du Haut Koenigsbourg',\n 'Colmar',\n 'Eguisheim',\n 'Besancon',\n 'Dijon',\n 'Annecy',\n 'Grenoble',\n 'Lyon',\n 'Gorges du Verdon',\n 'Bormes les Mimosas',\n 'Cassis',\n 'Marseille',\n 'Aix en Provence',\n 'Avignon',\n 'Uzes',\n 'Nimes',\n 'Aigues Mortes',\n 'Saintes Maries de la mer',\n 'Collioure',\n 'Carcassonne',\n 'Ariege',\n 'Toulouse',\n 'Montauban',\n 'Biarritz',\n 'Bayonne',\n 'La Rochelle']"
     },
     "execution_count": 12,
     "metadata": {},
     "output_type": "execute_result"
    }
   ],
   "source": [
    "with open('/Users/pryda/Documents/Projets_Jedha/1_Kayak/cities_weather.json', 'r') as f:\n",
    "        cities = json.load(f)\n",
    "\n",
    "cities = [city for city in cities]\n",
    "cities"
   ],
   "metadata": {
    "collapsed": false,
    "pycharm": {
     "name": "#%%\n"
    }
   }
  },
  {
   "cell_type": "code",
   "execution_count": 16,
   "outputs": [
    {
     "name": "stdout",
     "output_type": "stream",
     "text": [
      "{'city': 'Le Havre', 'hotel_name': 'Le Valmer', 'hotel_score': '8,7', 'hotel_description': None, 'hotel_url': 'https://www.booking.com/hotel/fr/le-valmer.fr.html?label=gen173nr-1FCAEoggI46AdIDVgEaE2IAQGYAQ24ARfIAQzYAQHoAQH4AQKIAgGoAgO4AqHArZsGwAIB0gIkZjNmNWU2NzAtYzY4MS00YTllLTgyYTEtYzg3OWM1MjUxMzdk2AIF4AIB&sid=72db8d4c9db160b81ea15c01dadac7d8&aid=304142&ucfs=1&arphpl=1&group_adults=2&req_adults=2&no_rooms=1&group_children=0&req_children=0&hpos=5&hapos=5&sr_order=popularity&srpvid=58f63956421a000a&srepoch=1667981359&from_beach_sr=1&beach_sr_walking_distance=1511&from=searchresults#hotelTmpl'}\n",
      "{'city': 'Besancon', 'hotel_name': 'Villa duo', 'hotel_score': '8,9', 'hotel_description': None, 'hotel_url': 'https://www.booking.com/hotel/fr/villa-duo-besancon1.fr.html?label=gen173nr-1FCAEoggI46AdIDVgEaE2IAQGYAQ24ARfIAQzYAQHoAQH4AQKIAgGoAgO4AqHArZsGwAIB0gIkZjNmNWU2NzAtYzY4MS00YTllLTgyYTEtYzg3OWM1MjUxMzdk2AIF4AIB&sid=72db8d4c9db160b81ea15c01dadac7d8&aid=304142&ucfs=1&arphpl=1&group_adults=2&req_adults=2&no_rooms=1&group_children=0&req_children=0&hpos=18&hapos=18&sr_order=popularity&srpvid=3580395cd7f10009&srepoch=1667981370&from=searchresults#hotelTmpl'}\n",
      "{'city': 'Besancon', 'hotel_name': 'Villa duo', 'hotel_score': '8,9', 'hotel_description': None, 'hotel_url': 'https://www.booking.com/hotel/fr/villa-duo.fr.html?label=gen173nr-1FCAEoggI46AdIDVgEaE2IAQGYAQ24ARfIAQzYAQHoAQH4AQKIAgGoAgO4AqHArZsGwAIB0gIkZjNmNWU2NzAtYzY4MS00YTllLTgyYTEtYzg3OWM1MjUxMzdk2AIF4AIB&sid=72db8d4c9db160b81ea15c01dadac7d8&aid=304142&ucfs=1&arphpl=1&group_adults=2&req_adults=2&no_rooms=1&group_children=0&req_children=0&hpos=21&hapos=21&sr_order=popularity&srpvid=3580395cd7f10009&srepoch=1667981370&from=searchresults#hotelTmpl'}\n",
      "{'city': 'La Rochelle', 'hotel_name': 'The Appart', 'hotel_score': '9,2', 'hotel_description': None, 'hotel_url': 'https://www.booking.com/hotel/fr/the-appart-la-rochelle.fr.html?label=gen173nr-1FCAEoggI46AdIDVgEaE2IAQGYAQ24ARfIAQzYAQHoAQH4AQKIAgGoAgO4AqHArZsGwAIB0gIkZjNmNWU2NzAtYzY4MS00YTllLTgyYTEtYzg3OWM1MjUxMzdk2AIF4AIB&sid=72db8d4c9db160b81ea15c01dadac7d8&aid=304142&ucfs=1&arphpl=1&group_adults=2&req_adults=2&no_rooms=1&group_children=0&req_children=0&hpos=16&hapos=41&sr_order=popularity&srpvid=3c923964cd070003&srepoch=1667981386&from=searchresults#hotelTmpl'}\n",
      "{'city': 'St Malo', 'hotel_name': \"L'Echo des Vagues\", 'hotel_score': '8,7', 'hotel_description': None, 'hotel_url': 'https://www.booking.com/hotel/fr/echo-des-vagues.fr.html?label=gen173nr-1FCAEoggI46AdIDVgEaE2IAQGYAQ24ARfIAQzYAQHoAQH4AQKIAgGoAgO4AqHArZsGwAIB0gIkZjNmNWU2NzAtYzY4MS00YTllLTgyYTEtYzg3OWM1MjUxMzdk2AIF4AIB&sid=72db8d4c9db160b81ea15c01dadac7d8&aid=304142&ucfs=1&arphpl=1&group_adults=2&req_adults=2&no_rooms=1&group_children=0&req_children=0&hpos=24&hapos=99&sr_order=popularity&srpvid=15bb396b7fc3000d&srepoch=1667981399&from_beach_sr=1&beach_sr_walking_distance=29&from=searchresults#hotelTmpl'}\n",
      "{'city': 'Bayeux', 'hotel_name': 'Coeur de BAYEUX', 'hotel_score': '10', 'hotel_description': None, 'hotel_url': 'https://www.booking.com/hotel/fr/centre-ville-bayeux.fr.html?label=gen173nr-1FCAEoggI46AdIDVgEaE2IAQGYAQ24ARfIAQzYAQHoAQH4AQKIAgGoAgO4AqHArZsGwAIB0gIkZjNmNWU2NzAtYzY4MS00YTllLTgyYTEtYzg3OWM1MjUxMzdk2AIF4AIB&sid=72db8d4c9db160b81ea15c01dadac7d8&aid=304142&ucfs=1&arphpl=1&group_adults=2&req_adults=2&no_rooms=1&group_children=0&req_children=0&hpos=20&hapos=95&sr_order=popularity&srpvid=13db396b8af8000d&srepoch=1667981401&from=searchresults#hotelTmpl'}\n",
      "{'city': 'Mont Saint Michel', 'hotel_name': 'Semi detached house, Bacilly', 'hotel_score': None, 'hotel_description': None, 'hotel_url': 'https://www.booking.com/hotel/fr/semi-detached-house-bacilly-nmd041007-l.fr.html?label=gen173nr-1FCAEoggI46AdIDVgEaE2IAQGYAQ24ARfIAQzYAQHoAQH4AQKIAgGoAgO4AqHArZsGwAIB0gIkZjNmNWU2NzAtYzY4MS00YTllLTgyYTEtYzg3OWM1MjUxMzdk2AIF4AIB&sid=72db8d4c9db160b81ea15c01dadac7d8&aid=304142&ucfs=1&arphpl=1&group_adults=2&req_adults=2&no_rooms=1&group_children=0&req_children=0&hpos=11&hapos=136&sr_order=popularity&srpvid=cd2e397451a1001d&srepoch=1667981418&from=searchresults#hotelTmpl'}\n",
      "{'city': 'Mont Saint Michel', 'hotel_name': 'Semi detached house, Bacilly', 'hotel_score': None, 'hotel_description': None, 'hotel_url': 'https://www.booking.com/hotel/fr/semi-detached-house-bacilly-nmd041006-l.fr.html?label=gen173nr-1FCAEoggI46AdIDVgEaE2IAQGYAQ24ARfIAQzYAQHoAQH4AQKIAgGoAgO4AqHArZsGwAIB0gIkZjNmNWU2NzAtYzY4MS00YTllLTgyYTEtYzg3OWM1MjUxMzdk2AIF4AIB&sid=72db8d4c9db160b81ea15c01dadac7d8&aid=304142&ucfs=1&arphpl=1&group_adults=2&req_adults=2&no_rooms=1&group_children=0&req_children=0&hpos=12&hapos=137&sr_order=popularity&srpvid=cd2e397451a1001d&srepoch=1667981418&from=searchresults#hotelTmpl'}\n",
      "{'city': 'St Malo', 'hotel_name': \"L'Emeraude\", 'hotel_score': '9,2', 'hotel_description': None, 'hotel_url': 'https://www.booking.com/hotel/fr/l-39-emeraude-saint-malo.fr.html?label=gen173nr-1FCAEoggI46AdIDVgEaE2IAQGYAQ24ARfIAQzYAQHoAQH4AQKIAgGoAgO4AqHArZsGwAIB0gIkZjNmNWU2NzAtYzY4MS00YTllLTgyYTEtYzg3OWM1MjUxMzdk2AIF4AIB&sid=72db8d4c9db160b81ea15c01dadac7d8&aid=304142&ucfs=1&arphpl=1&group_adults=2&req_adults=2&no_rooms=1&group_children=0&req_children=0&hpos=24&hapos=174&sr_order=popularity&srpvid=8893397925fa0034&srepoch=1667981427&from_beach_sr=1&beach_sr_walking_distance=219&from=searchresults#hotelTmpl'}\n",
      "{'city': 'Lille', 'hotel_name': 'Old Lille - Lovely typical apartment!', 'hotel_score': '7,7', 'hotel_description': None, 'hotel_url': 'https://www.booking.com/hotel/fr/old-lille-lovely-typical-apartment.fr.html?label=gen173nr-1FCAEoggI46AdIDVgEaE2IAQGYAQ24ARfIAQzYAQHoAQH4AQKIAgGoAgO4AqHArZsGwAIB0gIkZjNmNWU2NzAtYzY4MS00YTllLTgyYTEtYzg3OWM1MjUxMzdk2AIF4AIB&sid=72db8d4c9db160b81ea15c01dadac7d8&aid=304142&ucfs=1&arphpl=1&group_adults=2&req_adults=2&no_rooms=1&group_children=0&req_children=0&hpos=6&hapos=181&sr_order=popularity&srpvid=b3b739804cb5002f&srepoch=1667981441&from=searchresults#hotelTmpl'}\n",
      "{'city': 'Lille', 'hotel_name': 'Old Town - Nice cozy and functional ap Terrace', 'hotel_score': '8,7', 'hotel_description': None, 'hotel_url': 'https://www.booking.com/hotel/fr/old-town-nice-cozy-and-functional-ap-terrace.fr.html?label=gen173nr-1FCAEoggI46AdIDVgEaE2IAQGYAQ24ARfIAQzYAQHoAQH4AQKIAgGoAgO4AqHArZsGwAIB0gIkZjNmNWU2NzAtYzY4MS00YTllLTgyYTEtYzg3OWM1MjUxMzdk2AIF4AIB&sid=72db8d4c9db160b81ea15c01dadac7d8&aid=304142&ucfs=1&arphpl=1&group_adults=2&req_adults=2&no_rooms=1&group_children=0&req_children=0&hpos=20&hapos=195&sr_order=popularity&srpvid=b3b739804cb5002f&srepoch=1667981441&from=searchresults#hotelTmpl'}\n",
      "{'city': 'Toulouse', 'hotel_name': 'Hotel Victor Hugo', 'hotel_score': '7,8', 'hotel_description': None, 'hotel_url': 'https://www.booking.com/hotel/fr/victor-hugo.fr.html?label=gen173nr-1FCAEoggI46AdIDVgEaE2IAQGYAQ24ARfIAQzYAQHoAQH4AQKIAgGoAgO4AqHArZsGwAIB0gIkZjNmNWU2NzAtYzY4MS00YTllLTgyYTEtYzg3OWM1MjUxMzdk2AIF4AIB&sid=72db8d4c9db160b81ea15c01dadac7d8&aid=304142&ucfs=1&arphpl=1&group_adults=2&req_adults=2&no_rooms=1&group_children=0&req_children=0&hpos=6&hapos=6&sr_order=popularity&srpvid=2af33980abcd0030&srepoch=1667981442&from_sustainable_property_sr=1&from=searchresults#hotelTmpl'}\n",
      "{'city': 'Lille', 'hotel_name': 'Vieux Lille - Beautiful neat and bright apartment', 'hotel_score': '8,0', 'hotel_description': None, 'hotel_url': 'https://www.booking.com/hotel/fr/vieux-lille-bel-appartement-soigne-et-lumineux.fr.html?label=gen173nr-1FCAEoggI46AdIDVgEaE2IAQGYAQ24ARfIAQzYAQHoAQH4AQKIAgGoAgO4AqHArZsGwAIB0gIkZjNmNWU2NzAtYzY4MS00YTllLTgyYTEtYzg3OWM1MjUxMzdk2AIF4AIB&sid=72db8d4c9db160b81ea15c01dadac7d8&aid=304142&ucfs=1&arphpl=1&group_adults=2&req_adults=2&no_rooms=1&group_children=0&req_children=0&hpos=10&hapos=210&sr_order=popularity&srpvid=5dc73984b01d0034&srepoch=1667981449&from=searchresults#hotelTmpl'}\n",
      "{'city': 'Lille', 'hotel_name': 'Lille Centre - Nice cozy and functional ap', 'hotel_score': '8,2', 'hotel_description': None, 'hotel_url': 'https://www.booking.com/hotel/fr/lille-centre-nice-cozy-and-functional-ap-lille.fr.html?label=gen173nr-1FCAEoggI46AdIDVgEaE2IAQGYAQ24ARfIAQzYAQHoAQH4AQKIAgGoAgO4AqHArZsGwAIB0gIkZjNmNWU2NzAtYzY4MS00YTllLTgyYTEtYzg3OWM1MjUxMzdk2AIF4AIB&sid=72db8d4c9db160b81ea15c01dadac7d8&aid=304142&ucfs=1&arphpl=1&group_adults=2&req_adults=2&no_rooms=1&group_children=0&req_children=0&hpos=22&hapos=222&sr_order=popularity&srpvid=5dc73984b01d0034&srepoch=1667981449&from=searchresults#hotelTmpl'}\n",
      "{'city': 'Amiens', 'hotel_name': 'Studio avec wifi a Amiens', 'hotel_score': None, 'hotel_description': None, 'hotel_url': 'https://www.booking.com/hotel/fr/studio-avec-wifi-a-amiens-amiens.fr.html?label=gen173nr-1FCAEoggI46AdIDVgEaE2IAQGYAQ24ARfIAQzYAQHoAQH4AQKIAgGoAgO4AqHArZsGwAIB0gIkZjNmNWU2NzAtYzY4MS00YTllLTgyYTEtYzg3OWM1MjUxMzdk2AIF4AIB&sid=72db8d4c9db160b81ea15c01dadac7d8&aid=304142&ucfs=1&arphpl=1&group_adults=2&req_adults=2&no_rooms=1&group_children=0&req_children=0&hpos=25&hapos=225&sr_order=popularity&srpvid=ab903984ded8002c&srepoch=1667981450&from=searchresults#hotelTmpl'}\n",
      "{'city': 'Amiens', 'hotel_name': 'Studio avec vue sur la ville et wifi a Amiens', 'hotel_score': None, 'hotel_description': None, 'hotel_url': 'https://www.booking.com/hotel/fr/studio-avec-vue-sur-la-ville-et-wifi-a-amiens-amiens.fr.html?label=gen173nr-1FCAEoggI46AdIDVgEaE2IAQGYAQ24ARfIAQzYAQHoAQH4AQKIAgGoAgO4AqHArZsGwAIB0gIkZjNmNWU2NzAtYzY4MS00YTllLTgyYTEtYzg3OWM1MjUxMzdk2AIF4AIB&sid=72db8d4c9db160b81ea15c01dadac7d8&aid=304142&ucfs=1&arphpl=1&group_adults=2&req_adults=2&no_rooms=1&group_children=0&req_children=0&hpos=12&hapos=237&sr_order=popularity&srpvid=f626398969e0000b&srepoch=1667981460&from=searchresults#hotelTmpl'}\n",
      "{'city': 'Ariege', 'hotel_name': 'Artbnb', 'hotel_score': '8,6', 'hotel_description': None, 'hotel_url': 'https://www.booking.com/hotel/fr/artbnb-lezat-sur-leze.fr.html?label=gen173nr-1FCAEoggI46AdIDVgEaE2IAQGYAQ24ARfIAQzYAQHoAQH4AQKIAgGoAgO4AqHArZsGwAIB0gIkZjNmNWU2NzAtYzY4MS00YTllLTgyYTEtYzg3OWM1MjUxMzdk2AIF4AIB&sid=72db8d4c9db160b81ea15c01dadac7d8&aid=304142&ucfs=1&arphpl=1&group_adults=2&req_adults=2&no_rooms=1&group_children=0&req_children=0&hpos=13&hapos=38&sr_order=popularity&srpvid=0b98398a9d060023&srepoch=1667981461&from_sustainable_property_sr=1&from=searchresults#hotelTmpl'}\n",
      "{'city': 'Strasbourg', 'hotel_name': 'Appartement Mozart', 'hotel_score': '6,7', 'hotel_description': None, 'hotel_url': 'https://www.booking.com/hotel/fr/appartement-mozart-strasbourg.fr.html?label=gen173nr-1FCAEoggI46AdIDVgEaE2IAQGYAQ24ARfIAQzYAQHoAQH4AQKIAgGoAgO4AqHArZsGwAIB0gIkZjNmNWU2NzAtYzY4MS00YTllLTgyYTEtYzg3OWM1MjUxMzdk2AIF4AIB&sid=72db8d4c9db160b81ea15c01dadac7d8&aid=304142&ucfs=1&arphpl=1&group_adults=2&req_adults=2&no_rooms=1&group_children=0&req_children=0&hpos=2&hapos=227&sr_order=popularity&srpvid=6d31398a39ec0036&srepoch=1667981463&from=searchresults#hotelTmpl'}\n",
      "{'city': 'Mont Saint Michel', 'hotel_name': 'Le Boudoir', 'hotel_score': '8,3', 'hotel_description': None, 'hotel_url': 'https://www.booking.com/hotel/fr/appartement-de-la-constitution.fr.html?label=gen173nr-1FCAEoggI46AdIDVgEaE2IAQGYAQ24ARfIAQzYAQHoAQH4AQKIAgGoAgO4AqHArZsGwAIB0gIkZjNmNWU2NzAtYzY4MS00YTllLTgyYTEtYzg3OWM1MjUxMzdk2AIF4AIB&sid=72db8d4c9db160b81ea15c01dadac7d8&aid=304142&ucfs=1&arphpl=1&group_adults=2&req_adults=2&no_rooms=1&group_children=0&req_children=0&hpos=14&hapos=264&sr_order=popularity&srpvid=77b2398dba8f0012&srepoch=1667981467&from=searchresults#hotelTmpl'}\n",
      "{'city': 'Mont Saint Michel', 'hotel_name': 'gîte Le Bien-être des Marais', 'hotel_score': None, 'hotel_description': None, 'hotel_url': 'https://www.booking.com/hotel/fr/gite-le-bien-etre-des-marais.fr.html?label=gen173nr-1FCAEoggI46AdIDVgEaE2IAQGYAQ24ARfIAQzYAQHoAQH4AQKIAgGoAgO4AqHArZsGwAIB0gIkZjNmNWU2NzAtYzY4MS00YTllLTgyYTEtYzg3OWM1MjUxMzdk2AIF4AIB&sid=72db8d4c9db160b81ea15c01dadac7d8&aid=304142&ucfs=1&arphpl=1&group_adults=2&req_adults=2&no_rooms=1&group_children=0&req_children=0&hpos=21&hapos=271&sr_order=popularity&srpvid=77b2398dba8f0012&srepoch=1667981467&from=searchresults#hotelTmpl'}\n",
      "{'city': 'Montauban', 'hotel_name': 'Le Studio', 'hotel_score': '9,5', 'hotel_description': None, 'hotel_url': 'https://www.booking.com/hotel/fr/le-studio-montauban.fr.html?label=gen173nr-1FCAEoggI46AdIDVgEaE2IAQGYAQ24ARfIAQzYAQHoAQH4AQKIAgGoAgO4AqHArZsGwAIB0gIkZjNmNWU2NzAtYzY4MS00YTllLTgyYTEtYzg3OWM1MjUxMzdk2AIF4AIB&sid=72db8d4c9db160b81ea15c01dadac7d8&aid=304142&ucfs=1&arphpl=1&group_adults=2&req_adults=2&no_rooms=1&group_children=0&req_children=0&hpos=12&hapos=87&sr_order=popularity&srpvid=e644398e744e002c&srepoch=1667981469&from=searchresults#hotelTmpl'}\n",
      "{'city': 'Amiens', 'hotel_name': 'Hotel Victor Hugo', 'hotel_score': '7,7', 'hotel_description': None, 'hotel_url': 'https://www.booking.com/hotel/fr/victor-hugo-amiens.fr.html?label=gen173nr-1FCAEoggI46AdIDVgEaE2IAQGYAQ24ARfIAQzYAQHoAQH4AQKIAgGoAgO4AqHArZsGwAIB0gIkZjNmNWU2NzAtYzY4MS00YTllLTgyYTEtYzg3OWM1MjUxMzdk2AIF4AIB&sid=72db8d4c9db160b81ea15c01dadac7d8&aid=304142&ucfs=1&arphpl=1&group_adults=2&req_adults=2&no_rooms=1&group_children=0&req_children=0&hpos=1&hapos=251&sr_order=popularity&srpvid=7321398e6ddd0037&srepoch=1667981470&from_sustainable_property_sr=1&from=searchresults#hotelTmpl'}\n",
      "{'city': 'Mont Saint Michel', 'hotel_name': 'Le Domaine de Pivette', 'hotel_score': '9,7', 'hotel_description': None, 'hotel_url': 'https://www.booking.com/hotel/fr/le-domaine-de-pivette.fr.html?label=gen173nr-1FCAEoggI46AdIDVgEaE2IAQGYAQ24ARfIAQzYAQHoAQH4AQKIAgGoAgO4AqHArZsGwAIB0gIkZjNmNWU2NzAtYzY4MS00YTllLTgyYTEtYzg3OWM1MjUxMzdk2AIF4AIB&sid=72db8d4c9db160b81ea15c01dadac7d8&aid=304142&ucfs=1&arphpl=1&group_adults=2&req_adults=2&no_rooms=1&group_children=0&req_children=0&hpos=7&hapos=282&sr_order=popularity&srpvid=39173991345e002c&srepoch=1667981476&from=searchresults#hotelTmpl'}\n",
      "{'city': 'Biarritz', 'hotel_name': 'Apartment Clémenceau', 'hotel_score': '7,0', 'hotel_description': None, 'hotel_url': 'https://www.booking.com/hotel/fr/apartment-clemenceau-biarritz.fr.html?label=gen173nr-1FCAEoggI46AdIDVgEaE2IAQGYAQ24ARfIAQzYAQHoAQH4AQKIAgGoAgO4AqHArZsGwAIB0gIkZjNmNWU2NzAtYzY4MS00YTllLTgyYTEtYzg3OWM1MjUxMzdk2AIF4AIB&sid=72db8d4c9db160b81ea15c01dadac7d8&aid=304142&ucfs=1&arphpl=1&group_adults=2&req_adults=2&no_rooms=1&group_children=0&req_children=0&hpos=6&hapos=181&sr_order=popularity&srpvid=00a33992199d003e&srepoch=1667981477&from_beach_sr=1&beach_sr_walking_distance=152&from=searchresults#hotelTmpl'}\n",
      "{'city': 'Biarritz', 'hotel_name': 'Le Pavillon Paul', 'hotel_score': '8,8', 'hotel_description': None, 'hotel_url': 'https://www.booking.com/hotel/fr/le-pavillon-paul.fr.html?label=gen173nr-1FCAEoggI46AdIDVgEaE2IAQGYAQ24ARfIAQzYAQHoAQH4AQKIAgGoAgO4AqHArZsGwAIB0gIkZjNmNWU2NzAtYzY4MS00YTllLTgyYTEtYzg3OWM1MjUxMzdk2AIF4AIB&sid=72db8d4c9db160b81ea15c01dadac7d8&aid=304142&ucfs=1&arphpl=1&group_adults=2&req_adults=2&no_rooms=1&group_children=0&req_children=0&hpos=25&hapos=200&sr_order=popularity&srpvid=00a33992199d003e&srepoch=1667981477&from_beach_sr=1&beach_sr_walking_distance=100&from=searchresults#hotelTmpl'}\n",
      "{'city': 'Toulouse', 'hotel_name': 'Le Prieuré', 'hotel_score': '9,0', 'hotel_description': None, 'hotel_url': 'https://www.booking.com/hotel/fr/le-prieure-toulouse.fr.html?label=gen173nr-1FCAEoggI46AdIDVgEaE2IAQGYAQ24ARfIAQzYAQHoAQH4AQKIAgGoAgO4AqHArZsGwAIB0gIkZjNmNWU2NzAtYzY4MS00YTllLTgyYTEtYzg3OWM1MjUxMzdk2AIF4AIB&sid=72db8d4c9db160b81ea15c01dadac7d8&aid=304142&ucfs=1&arphpl=1&group_adults=2&req_adults=2&no_rooms=1&group_children=0&req_children=0&hpos=14&hapos=114&sr_order=popularity&srpvid=933f3993635c000d&srepoch=1667981479&from=searchresults#hotelTmpl'}\n",
      "{'city': 'Dijon', 'hotel_name': 'Suite Romantique & Spa', 'hotel_score': '8,0', 'hotel_description': None, 'hotel_url': 'https://www.booking.com/hotel/fr/suite-romantique-amp-spa.fr.html?label=gen173nr-1FCAEoggI46AdIDVgEaE2IAQGYAQ24ARfIAQzYAQHoAQH4AQKIAgGoAgO4AqHArZsGwAIB0gIkZjNmNWU2NzAtYzY4MS00YTllLTgyYTEtYzg3OWM1MjUxMzdk2AIF4AIB&sid=72db8d4c9db160b81ea15c01dadac7d8&aid=304142&ucfs=1&arphpl=1&group_adults=2&req_adults=2&no_rooms=1&group_children=0&req_children=0&hpos=12&hapos=287&sr_order=popularity&srpvid=894f3994fac10028&srepoch=1667981482&from=searchresults#hotelTmpl'}\n",
      "{'city': 'Lille', 'hotel_name': 'Lille Centre - Nice cozy and functional studio', 'hotel_score': '5,0', 'hotel_description': None, 'hotel_url': 'https://www.booking.com/hotel/fr/lille-grand-place-superbe-studio-cozy-et-equipe.fr.html?label=gen173nr-1FCAEoggI46AdIDVgEaE2IAQGYAQ24ARfIAQzYAQHoAQH4AQKIAgGoAgO4AqHArZsGwAIB0gIkZjNmNWU2NzAtYzY4MS00YTllLTgyYTEtYzg3OWM1MjUxMzdk2AIF4AIB&sid=72db8d4c9db160b81ea15c01dadac7d8&aid=304142&ucfs=1&arphpl=1&group_adults=2&req_adults=2&no_rooms=1&group_children=0&req_children=0&hpos=18&hapos=318&sr_order=popularity&srpvid=582b3997476a00a9&srepoch=1667981487&from=searchresults#hotelTmpl'}\n",
      "{'city': 'Lille', 'hotel_name': 'Lille Centre - Nice cozy and functional ap', 'hotel_score': '7,6', 'hotel_description': None, 'hotel_url': 'https://www.booking.com/hotel/fr/joli-appart-proche-gares-tout-se-fait-a-pied.fr.html?label=gen173nr-1FCAEoggI46AdIDVgEaE2IAQGYAQ24ARfIAQzYAQHoAQH4AQKIAgGoAgO4AqHArZsGwAIB0gIkZjNmNWU2NzAtYzY4MS00YTllLTgyYTEtYzg3OWM1MjUxMzdk2AIF4AIB&sid=72db8d4c9db160b81ea15c01dadac7d8&aid=304142&ucfs=1&arphpl=1&group_adults=2&req_adults=2&no_rooms=1&group_children=0&req_children=0&hpos=21&hapos=321&sr_order=popularity&srpvid=582b3997476a00a9&srepoch=1667981487&from=searchresults#hotelTmpl'}\n",
      "{'city': 'Dijon', 'hotel_name': 'Appartement centre ville avec parking privatif', 'hotel_score': None, 'hotel_description': None, 'hotel_url': 'https://www.booking.com/hotel/fr/appartement-centre-ville-avec-parking-privatif.fr.html?label=gen173nr-1FCAEoggI46AdIDVgEaE2IAQGYAQ24ARfIAQzYAQHoAQH4AQKIAgGoAgO4AqHArZsGwAIB0gIkZjNmNWU2NzAtYzY4MS00YTllLTgyYTEtYzg3OWM1MjUxMzdk2AIF4AIB&sid=72db8d4c9db160b81ea15c01dadac7d8&aid=304142&ucfs=1&arphpl=1&group_adults=2&req_adults=2&no_rooms=1&group_children=0&req_children=0&hpos=7&hapos=307&sr_order=popularity&srpvid=bf6e3999d00b0041&srepoch=1667981491&from=searchresults#hotelTmpl'}\n",
      "{'city': 'Rouen', 'hotel_name': 'Appart Rouen Centre', 'hotel_score': '7,9', 'hotel_description': None, 'hotel_url': 'https://www.booking.com/hotel/fr/rouenapparthotel.fr.html?label=gen173nr-1FCAEoggI46AdIDVgEaE2IAQGYAQ24ARfIAQzYAQHoAQH4AQKIAgGoAgO4AqHArZsGwAIB0gIkZjNmNWU2NzAtYzY4MS00YTllLTgyYTEtYzg3OWM1MjUxMzdk2AIF4AIB&sid=72db8d4c9db160b81ea15c01dadac7d8&aid=304142&ucfs=1&arphpl=1&group_adults=2&req_adults=2&no_rooms=1&group_children=0&req_children=0&hpos=20&hapos=295&sr_order=popularity&srpvid=82be399918d3003a&srepoch=1667981492&from=searchresults#hotelTmpl'}\n",
      "{'city': 'Lille', 'hotel_name': 'Lille Centre - Nice cozy and functional ap', 'hotel_score': '6,6', 'hotel_description': None, 'hotel_url': 'https://www.booking.com/hotel/fr/lille-hypercentre-superbe-t2-cozy-et-equipe.fr.html?label=gen173nr-1FCAEoggI46AdIDVgEaE2IAQGYAQ24ARfIAQzYAQHoAQH4AQKIAgGoAgO4AqHArZsGwAIB0gIkZjNmNWU2NzAtYzY4MS00YTllLTgyYTEtYzg3OWM1MjUxMzdk2AIF4AIB&sid=72db8d4c9db160b81ea15c01dadac7d8&aid=304142&ucfs=1&arphpl=1&group_adults=2&req_adults=2&no_rooms=1&group_children=0&req_children=0&hpos=2&hapos=327&sr_order=popularity&srpvid=4586399cacee0058&srepoch=1667981497&from=searchresults#hotelTmpl'}\n",
      "{'city': 'Lille', 'hotel_name': 'Lille Centre - Nice cozy and functional ap', 'hotel_score': '6,8', 'hotel_description': None, 'hotel_url': 'https://www.booking.com/hotel/fr/lille-grand-place-petite-suite.fr.html?label=gen173nr-1FCAEoggI46AdIDVgEaE2IAQGYAQ24ARfIAQzYAQHoAQH4AQKIAgGoAgO4AqHArZsGwAIB0gIkZjNmNWU2NzAtYzY4MS00YTllLTgyYTEtYzg3OWM1MjUxMzdk2AIF4AIB&sid=72db8d4c9db160b81ea15c01dadac7d8&aid=304142&ucfs=1&arphpl=1&group_adults=2&req_adults=2&no_rooms=1&group_children=0&req_children=0&hpos=4&hapos=329&sr_order=popularity&srpvid=4586399cacee0058&srepoch=1667981497&from=searchresults#hotelTmpl'}\n",
      "{'city': 'Lille', 'hotel_name': 'Old Town - Nice cozy and functional ap', 'hotel_score': '7,5', 'hotel_description': None, 'hotel_url': 'https://www.booking.com/hotel/fr/vieux-lille-superbe-appart-pour-decouvrir-lille.fr.html?label=gen173nr-1FCAEoggI46AdIDVgEaE2IAQGYAQ24ARfIAQzYAQHoAQH4AQKIAgGoAgO4AqHArZsGwAIB0gIkZjNmNWU2NzAtYzY4MS00YTllLTgyYTEtYzg3OWM1MjUxMzdk2AIF4AIB&sid=72db8d4c9db160b81ea15c01dadac7d8&aid=304142&ucfs=1&arphpl=1&group_adults=2&req_adults=2&no_rooms=1&group_children=0&req_children=0&hpos=6&hapos=331&sr_order=popularity&srpvid=4586399cacee0058&srepoch=1667981497&from=searchresults#hotelTmpl'}\n",
      "{'city': 'Lille', 'hotel_name': 'Lille Centre - Nice cozy and functional studio', 'hotel_score': '8,6', 'hotel_description': None, 'hotel_url': 'https://www.booking.com/hotel/fr/lille-centre-superbe-studio-cozy-et-equipe-lille1.fr.html?label=gen173nr-1FCAEoggI46AdIDVgEaE2IAQGYAQ24ARfIAQzYAQHoAQH4AQKIAgGoAgO4AqHArZsGwAIB0gIkZjNmNWU2NzAtYzY4MS00YTllLTgyYTEtYzg3OWM1MjUxMzdk2AIF4AIB&sid=72db8d4c9db160b81ea15c01dadac7d8&aid=304142&ucfs=1&arphpl=1&group_adults=2&req_adults=2&no_rooms=1&group_children=0&req_children=0&hpos=18&hapos=343&sr_order=popularity&srpvid=4586399cacee0058&srepoch=1667981497&from=searchresults#hotelTmpl'}\n",
      "{'city': 'Collioure', 'hotel_name': 'Collioure', 'hotel_score': '8,4', 'hotel_description': None, 'hotel_url': 'https://www.booking.com/hotel/fr/collioure-1-et-etage.fr.html?label=gen173nr-1FCAEoggI46AdIDVgEaE2IAQGYAQ24ARfIAQzYAQHoAQH4AQKIAgGoAgO4AqHArZsGwAIB0gIkZjNmNWU2NzAtYzY4MS00YTllLTgyYTEtYzg3OWM1MjUxMzdk2AIF4AIB&sid=72db8d4c9db160b81ea15c01dadac7d8&aid=304142&ucfs=1&arphpl=1&group_adults=2&req_adults=2&no_rooms=1&group_children=0&req_children=0&hpos=20&hapos=120&sr_order=popularity&srpvid=b348399ca32c0011&srepoch=1667981497&from_beach_sr=1&beach_sr_walking_distance=54&from=searchresults#hotelTmpl'}\n",
      "{'city': 'Aigues Mortes', 'hotel_name': 'Nice home in Aigues-Mortes with 3 Bedrooms and WiFi', 'hotel_score': None, 'hotel_description': None, 'hotel_url': 'https://www.booking.com/hotel/fr/three-bedroom-holiday-home-in-aigues-mortes-aigues-mortes123.fr.html?label=gen173nr-1FCAEoggI46AdIDVgEaE2IAQGYAQ24ARfIAQzYAQHoAQH4AQKIAgGoAgO4AqHArZsGwAIB0gIkZjNmNWU2NzAtYzY4MS00YTllLTgyYTEtYzg3OWM1MjUxMzdk2AIF4AIB&sid=72db8d4c9db160b81ea15c01dadac7d8&aid=304142&ucfs=1&arphpl=1&group_adults=2&req_adults=2&no_rooms=1&group_children=0&req_children=0&hpos=22&hapos=72&sr_order=popularity&srpvid=94dc399dae990037&srepoch=1667981500&from=searchresults#hotelTmpl'}\n",
      "{'city': 'La Rochelle', 'hotel_name': 'Appartements Les Rochelais', 'hotel_score': '9,2', 'hotel_description': None, 'hotel_url': 'https://www.booking.com/hotel/fr/appartements-les-rochelais.fr.html?label=gen173nr-1FCAEoggI46AdIDVgEaE2IAQGYAQ24ARfIAQzYAQHoAQH4AQKIAgGoAgO4AqHArZsGwAIB0gIkZjNmNWU2NzAtYzY4MS00YTllLTgyYTEtYzg3OWM1MjUxMzdk2AIF4AIB&sid=72db8d4c9db160b81ea15c01dadac7d8&aid=304142&ucfs=1&arphpl=1&group_adults=2&req_adults=2&no_rooms=1&group_children=0&req_children=0&hpos=20&hapos=345&sr_order=popularity&srpvid=6e01399f5978004c&srepoch=1667981504&from_sustainable_property_sr=1&from=searchresults#hotelTmpl'}\n",
      "{'city': 'Saintes Maries de la mer', 'hotel_name': 'Le Tau', 'hotel_score': None, 'hotel_description': None, 'hotel_url': 'https://www.booking.com/hotel/fr/le-tau-saintes-maries-de-la-mer1.fr.html?label=gen173nr-1FCAEoggI46AdIDVgEaE2IAQGYAQ24ARfIAQzYAQHoAQH4AQKIAgGoAgO4AqHArZsGwAIB0gIkZjNmNWU2NzAtYzY4MS00YTllLTgyYTEtYzg3OWM1MjUxMzdk2AIF4AIB&sid=72db8d4c9db160b81ea15c01dadac7d8&aid=304142&ucfs=1&arphpl=1&group_adults=2&req_adults=2&no_rooms=1&group_children=0&req_children=0&hpos=17&hapos=92&sr_order=popularity&srpvid=fd6e39a0bbbd003b&srepoch=1667981505&from_beach_sr=1&beach_sr_walking_distance=345&from=searchresults#hotelTmpl'}\n",
      "{'city': 'Collioure', 'hotel_name': 'La Frégate', 'hotel_score': '8,2', 'hotel_description': None, 'hotel_url': 'https://www.booking.com/hotel/fr/la-fra-c-gate-collioure.fr.html?label=gen173nr-1FCAEoggI46AdIDVgEaE2IAQGYAQ24ARfIAQzYAQHoAQH4AQKIAgGoAgO4AqHArZsGwAIB0gIkZjNmNWU2NzAtYzY4MS00YTllLTgyYTEtYzg3OWM1MjUxMzdk2AIF4AIB&sid=72db8d4c9db160b81ea15c01dadac7d8&aid=304142&ucfs=1&arphpl=1&group_adults=2&req_adults=2&no_rooms=1&group_children=0&req_children=0&hpos=21&hapos=146&sr_order=popularity&srpvid=b3b239a073a50061&srepoch=1667981506&from_beach_sr=1&beach_sr_walking_distance=161&from=searchresults#hotelTmpl'}\n",
      "{'city': 'Lille', 'hotel_name': 'Lille Centre - Nice cozy and functional studio', 'hotel_score': '8,1', 'hotel_description': None, 'hotel_url': 'https://www.booking.com/hotel/fr/lille-centre-superbe-studio-bien-equipe.fr.html?label=gen173nr-1FCAEoggI46AdIDVgEaE2IAQGYAQ24ARfIAQzYAQHoAQH4AQKIAgGoAgO4AqHArZsGwAIB0gIkZjNmNWU2NzAtYzY4MS00YTllLTgyYTEtYzg3OWM1MjUxMzdk2AIF4AIB&sid=72db8d4c9db160b81ea15c01dadac7d8&aid=304142&ucfs=1&arphpl=1&group_adults=2&req_adults=2&no_rooms=1&group_children=0&req_children=0&hpos=2&hapos=352&sr_order=popularity&srpvid=0fab39a0ffa00051&srepoch=1667981507&from=searchresults#hotelTmpl'}\n",
      "{'city': 'Lille', 'hotel_name': 'Lille Centre - Nice cozy and functional studio', 'hotel_score': '7,5', 'hotel_description': None, 'hotel_url': 'https://www.booking.com/hotel/fr/lille-centre-superbe-studio-cozy-et-equipe.fr.html?label=gen173nr-1FCAEoggI46AdIDVgEaE2IAQGYAQ24ARfIAQzYAQHoAQH4AQKIAgGoAgO4AqHArZsGwAIB0gIkZjNmNWU2NzAtYzY4MS00YTllLTgyYTEtYzg3OWM1MjUxMzdk2AIF4AIB&sid=72db8d4c9db160b81ea15c01dadac7d8&aid=304142&ucfs=1&arphpl=1&group_adults=2&req_adults=2&no_rooms=1&group_children=0&req_children=0&hpos=8&hapos=358&sr_order=popularity&srpvid=0fab39a0ffa00051&srepoch=1667981507&from=searchresults#hotelTmpl'}\n",
      "{'city': 'Lille', 'hotel_name': 'Lille Centre - Nice and functional studio', 'hotel_score': '6,7', 'hotel_description': None, 'hotel_url': 'https://www.booking.com/hotel/fr/lille-centre-superbe-studio-cozy-pour-2.fr.html?label=gen173nr-1FCAEoggI46AdIDVgEaE2IAQGYAQ24ARfIAQzYAQHoAQH4AQKIAgGoAgO4AqHArZsGwAIB0gIkZjNmNWU2NzAtYzY4MS00YTllLTgyYTEtYzg3OWM1MjUxMzdk2AIF4AIB&sid=72db8d4c9db160b81ea15c01dadac7d8&aid=304142&ucfs=1&arphpl=1&group_adults=2&req_adults=2&no_rooms=1&group_children=0&req_children=0&hpos=12&hapos=362&sr_order=popularity&srpvid=0fab39a0ffa00051&srepoch=1667981507&from=searchresults#hotelTmpl'}\n",
      "{'city': 'Lille', 'hotel_name': 'Lille Centre - Nice cozy and functional studio', 'hotel_score': '5,6', 'hotel_description': None, 'hotel_url': 'https://www.booking.com/hotel/fr/lille-hypercentre-studio-cozy-et-fonctionnel.fr.html?label=gen173nr-1FCAEoggI46AdIDVgEaE2IAQGYAQ24ARfIAQzYAQHoAQH4AQKIAgGoAgO4AqHArZsGwAIB0gIkZjNmNWU2NzAtYzY4MS00YTllLTgyYTEtYzg3OWM1MjUxMzdk2AIF4AIB&sid=72db8d4c9db160b81ea15c01dadac7d8&aid=304142&ucfs=1&arphpl=1&group_adults=2&req_adults=2&no_rooms=1&group_children=0&req_children=0&hpos=15&hapos=365&sr_order=popularity&srpvid=0fab39a0ffa00051&srepoch=1667981507&from=searchresults#hotelTmpl'}\n",
      "{'city': 'Lille', 'hotel_name': 'Old Town - Nice cozy and functional ap', 'hotel_score': '7,6', 'hotel_description': None, 'hotel_url': 'https://www.booking.com/hotel/fr/vieux-lille-superbe-appartement-cozy-et-equipe.fr.html?label=gen173nr-1FCAEoggI46AdIDVgEaE2IAQGYAQ24ARfIAQzYAQHoAQH4AQKIAgGoAgO4AqHArZsGwAIB0gIkZjNmNWU2NzAtYzY4MS00YTllLTgyYTEtYzg3OWM1MjUxMzdk2AIF4AIB&sid=72db8d4c9db160b81ea15c01dadac7d8&aid=304142&ucfs=1&arphpl=1&group_adults=2&req_adults=2&no_rooms=1&group_children=0&req_children=0&hpos=18&hapos=368&sr_order=popularity&srpvid=0fab39a0ffa00051&srepoch=1667981507&from=searchresults#hotelTmpl'}\n",
      "{'city': 'Lille', 'hotel_name': 'Lille Centre - Nice cozy and functional studio', 'hotel_score': '7,1', 'hotel_description': None, 'hotel_url': 'https://www.booking.com/hotel/fr/hypercentre-gares-superbe-studio-cozy-lille.fr.html?label=gen173nr-1FCAEoggI46AdIDVgEaE2IAQGYAQ24ARfIAQzYAQHoAQH4AQKIAgGoAgO4AqHArZsGwAIB0gIkZjNmNWU2NzAtYzY4MS00YTllLTgyYTEtYzg3OWM1MjUxMzdk2AIF4AIB&sid=72db8d4c9db160b81ea15c01dadac7d8&aid=304142&ucfs=1&arphpl=1&group_adults=2&req_adults=2&no_rooms=1&group_children=0&req_children=0&hpos=23&hapos=373&sr_order=popularity&srpvid=0fab39a0ffa00051&srepoch=1667981507&from=searchresults#hotelTmpl'}\n",
      "{'city': 'Lille', 'hotel_name': 'Lille Centre - Nice cozy and functional ap', 'hotel_score': '7,9', 'hotel_description': None, 'hotel_url': 'https://www.booking.com/hotel/fr/hypercentre-gares-superbe-t2-cozy.fr.html?label=gen173nr-1FCAEoggI46AdIDVgEaE2IAQGYAQ24ARfIAQzYAQHoAQH4AQKIAgGoAgO4AqHArZsGwAIB0gIkZjNmNWU2NzAtYzY4MS00YTllLTgyYTEtYzg3OWM1MjUxMzdk2AIF4AIB&sid=72db8d4c9db160b81ea15c01dadac7d8&aid=304142&ucfs=1&arphpl=1&group_adults=2&req_adults=2&no_rooms=1&group_children=0&req_children=0&hpos=3&hapos=378&sr_order=popularity&srpvid=8aa139a57cdf0017&srepoch=1667981516&from=searchresults#hotelTmpl'}\n",
      "{'city': 'Lille', 'hotel_name': 'Old Town - Nice cozy and functional ap', 'hotel_score': '6,8', 'hotel_description': None, 'hotel_url': 'https://www.booking.com/hotel/fr/vieux-lille-superbe-appart-pour-4-personnes.fr.html?label=gen173nr-1FCAEoggI46AdIDVgEaE2IAQGYAQ24ARfIAQzYAQHoAQH4AQKIAgGoAgO4AqHArZsGwAIB0gIkZjNmNWU2NzAtYzY4MS00YTllLTgyYTEtYzg3OWM1MjUxMzdk2AIF4AIB&sid=72db8d4c9db160b81ea15c01dadac7d8&aid=304142&ucfs=1&arphpl=1&group_adults=2&req_adults=2&no_rooms=1&group_children=0&req_children=0&hpos=4&hapos=379&sr_order=popularity&srpvid=8aa139a57cdf0017&srepoch=1667981516&from=searchresults#hotelTmpl'}\n",
      "{'city': 'Lille', 'hotel_name': 'Lille Centre - Nice cozy and functional ap', 'hotel_score': '7,9', 'hotel_description': None, 'hotel_url': 'https://www.booking.com/hotel/fr/lille-centre-superbe-duplex-cozy-et-equipe.fr.html?label=gen173nr-1FCAEoggI46AdIDVgEaE2IAQGYAQ24ARfIAQzYAQHoAQH4AQKIAgGoAgO4AqHArZsGwAIB0gIkZjNmNWU2NzAtYzY4MS00YTllLTgyYTEtYzg3OWM1MjUxMzdk2AIF4AIB&sid=72db8d4c9db160b81ea15c01dadac7d8&aid=304142&ucfs=1&arphpl=1&group_adults=2&req_adults=2&no_rooms=1&group_children=0&req_children=0&hpos=6&hapos=381&sr_order=popularity&srpvid=8aa139a57cdf0017&srepoch=1667981516&from=searchresults#hotelTmpl'}\n",
      "{'city': 'Lille', 'hotel_name': 'Old Town - Nice cozy and functional ap', 'hotel_score': '7,7', 'hotel_description': None, 'hotel_url': 'https://www.booking.com/hotel/fr/vieux-lille-superbe-appartement-cozy.fr.html?label=gen173nr-1FCAEoggI46AdIDVgEaE2IAQGYAQ24ARfIAQzYAQHoAQH4AQKIAgGoAgO4AqHArZsGwAIB0gIkZjNmNWU2NzAtYzY4MS00YTllLTgyYTEtYzg3OWM1MjUxMzdk2AIF4AIB&sid=72db8d4c9db160b81ea15c01dadac7d8&aid=304142&ucfs=1&arphpl=1&group_adults=2&req_adults=2&no_rooms=1&group_children=0&req_children=0&hpos=10&hapos=385&sr_order=popularity&srpvid=8aa139a57cdf0017&srepoch=1667981516&from=searchresults#hotelTmpl'}\n",
      "{'city': 'Lille', 'hotel_name': 'Lille Centre - Nice cozy and functional ap', 'hotel_score': '7,6', 'hotel_description': None, 'hotel_url': 'https://www.booking.com/hotel/fr/lille-grand-place-superbe-appart-avec-cachet.fr.html?label=gen173nr-1FCAEoggI46AdIDVgEaE2IAQGYAQ24ARfIAQzYAQHoAQH4AQKIAgGoAgO4AqHArZsGwAIB0gIkZjNmNWU2NzAtYzY4MS00YTllLTgyYTEtYzg3OWM1MjUxMzdk2AIF4AIB&sid=72db8d4c9db160b81ea15c01dadac7d8&aid=304142&ucfs=1&arphpl=1&group_adults=2&req_adults=2&no_rooms=1&group_children=0&req_children=0&hpos=11&hapos=386&sr_order=popularity&srpvid=8aa139a57cdf0017&srepoch=1667981516&from=searchresults#hotelTmpl'}\n",
      "{'city': 'Lille', 'hotel_name': 'Lille Centre - Nice cozy and functional ap', 'hotel_score': '7,9', 'hotel_description': None, 'hotel_url': 'https://www.booking.com/hotel/fr/euralille-superbe-appartement-avec-vue.fr.html?label=gen173nr-1FCAEoggI46AdIDVgEaE2IAQGYAQ24ARfIAQzYAQHoAQH4AQKIAgGoAgO4AqHArZsGwAIB0gIkZjNmNWU2NzAtYzY4MS00YTllLTgyYTEtYzg3OWM1MjUxMzdk2AIF4AIB&sid=72db8d4c9db160b81ea15c01dadac7d8&aid=304142&ucfs=1&arphpl=1&group_adults=2&req_adults=2&no_rooms=1&group_children=0&req_children=0&hpos=12&hapos=387&sr_order=popularity&srpvid=8aa139a57cdf0017&srepoch=1667981516&from=searchresults#hotelTmpl'}\n",
      "{'city': 'Lille', 'hotel_name': 'Lille Hypercentre - Beautiful design studio!', 'hotel_score': None, 'hotel_description': None, 'hotel_url': 'https://www.booking.com/hotel/fr/lille-hypercentre-beautiful-design-studio.fr.html?label=gen173nr-1FCAEoggI46AdIDVgEaE2IAQGYAQ24ARfIAQzYAQHoAQH4AQKIAgGoAgO4AqHArZsGwAIB0gIkZjNmNWU2NzAtYzY4MS00YTllLTgyYTEtYzg3OWM1MjUxMzdk2AIF4AIB&sid=72db8d4c9db160b81ea15c01dadac7d8&aid=304142&ucfs=1&arphpl=1&group_adults=2&req_adults=2&no_rooms=1&group_children=0&req_children=0&hpos=24&hapos=399&sr_order=popularity&srpvid=8aa139a57cdf0017&srepoch=1667981516&from=searchresults#hotelTmpl'}\n",
      "{'city': 'Rouen', 'hotel_name': 'Le Bohème', 'hotel_score': None, 'hotel_description': None, 'hotel_url': 'https://www.booking.com/hotel/fr/le-boheme-rouen.fr.html?label=gen173nr-1FCAEoggI46AdIDVgEaE2IAQGYAQ24ARfIAQzYAQHoAQH4AQKIAgGoAgO4AqHArZsGwAIB0gIkZjNmNWU2NzAtYzY4MS00YTllLTgyYTEtYzg3OWM1MjUxMzdk2AIF4AIB&sid=72db8d4c9db160b81ea15c01dadac7d8&aid=304142&ucfs=1&arphpl=1&group_adults=2&req_adults=2&no_rooms=1&group_children=0&req_children=0&hpos=24&hapos=374&sr_order=popularity&srpvid=10d839a77223002f&srepoch=1667981520&from=searchresults#hotelTmpl'}\n",
      "{'city': 'St Malo', 'hotel_name': 'Marguerite', 'hotel_score': '8,2', 'hotel_description': None, 'hotel_url': 'https://www.booking.com/hotel/fr/marguerite-saint-malo.fr.html?label=gen173nr-1FCAEoggI46AdIDVgEaE2IAQGYAQ24ARfIAQzYAQHoAQH4AQKIAgGoAgO4AqHArZsGwAIB0gIkZjNmNWU2NzAtYzY4MS00YTllLTgyYTEtYzg3OWM1MjUxMzdk2AIF4AIB&sid=72db8d4c9db160b81ea15c01dadac7d8&aid=304142&ucfs=1&arphpl=1&group_adults=2&req_adults=2&no_rooms=1&group_children=0&req_children=0&hpos=19&hapos=419&sr_order=popularity&srpvid=bf2c39a82f2b0047&srepoch=1667981522&from_beach_sr=1&beach_sr_walking_distance=188&from=searchresults#hotelTmpl'}\n",
      "{'city': 'Paris', 'hotel_name': 'Hotel Victoria', 'hotel_score': '7,0', 'hotel_description': None, 'hotel_url': 'https://www.booking.com/hotel/fr/victoria-paris.fr.html?label=gen173nr-1FCAEoggI46AdIDVgEaE2IAQGYAQ24ARfIAQzYAQHoAQH4AQKIAgGoAgO4AqHArZsGwAIB0gIkZjNmNWU2NzAtYzY4MS00YTllLTgyYTEtYzg3OWM1MjUxMzdk2AIF4AIB&sid=72db8d4c9db160b81ea15c01dadac7d8&aid=304142&ucfs=1&arphpl=1&group_adults=2&req_adults=2&no_rooms=1&group_children=0&req_children=0&hpos=23&hapos=348&sr_order=popularity&srpvid=cd0b39a948d90026&srepoch=1667981523&from=searchresults#hotelTmpl'}\n",
      "{'city': 'Lille', 'hotel_name': 'Lille Centre - Beautiful apartment with character', 'hotel_score': None, 'hotel_description': None, 'hotel_url': 'https://www.booking.com/hotel/fr/lille-centre-beautiful-apartment-with-character.fr.html?label=gen173nr-1FCAEoggI46AdIDVgEaE2IAQGYAQ24ARfIAQzYAQHoAQH4AQKIAgGoAgO4AqHArZsGwAIB0gIkZjNmNWU2NzAtYzY4MS00YTllLTgyYTEtYzg3OWM1MjUxMzdk2AIF4AIB&sid=72db8d4c9db160b81ea15c01dadac7d8&aid=304142&ucfs=1&arphpl=1&group_adults=2&req_adults=2&no_rooms=1&group_children=0&req_children=0&hpos=25&hapos=425&sr_order=popularity&srpvid=a3f639aa6bda004d&srepoch=1667981526&from=searchresults#hotelTmpl'}\n",
      "{'city': 'Nimes', 'hotel_name': 'Jasmin', 'hotel_score': '10', 'hotel_description': None, 'hotel_url': 'https://www.booking.com/hotel/fr/jasmin-nimes.fr.html?label=gen173nr-1FCAEoggI46AdIDVgEaE2IAQGYAQ24ARfIAQzYAQHoAQH4AQKIAgGoAgO4AqHArZsGwAIB0gIkZjNmNWU2NzAtYzY4MS00YTllLTgyYTEtYzg3OWM1MjUxMzdk2AIF4AIB&sid=72db8d4c9db160b81ea15c01dadac7d8&aid=304142&ucfs=1&arphpl=1&group_adults=2&req_adults=2&no_rooms=1&group_children=0&req_children=0&hpos=18&hapos=143&sr_order=popularity&srpvid=ad7339acbf260076&srepoch=1667981530&from=searchresults#hotelTmpl'}\n",
      "{'city': 'Lille', 'hotel_name': 'Lille Centre - Nice cozy and functional ap', 'hotel_score': '7,9', 'hotel_description': None, 'hotel_url': 'https://www.booking.com/hotel/fr/lille-grand-place-bel-appartement-avec-cachet.fr.html?label=gen173nr-1FCAEoggI46AdIDVgEaE2IAQGYAQ24ARfIAQzYAQHoAQH4AQKIAgGoAgO4AqHArZsGwAIB0gIkZjNmNWU2NzAtYzY4MS00YTllLTgyYTEtYzg3OWM1MjUxMzdk2AIF4AIB&sid=72db8d4c9db160b81ea15c01dadac7d8&aid=304142&ucfs=1&arphpl=1&group_adults=2&req_adults=2&no_rooms=1&group_children=0&req_children=0&hpos=1&hapos=426&sr_order=popularity&srpvid=746739afc3d0003e&srepoch=1667981536&from=searchresults#hotelTmpl'}\n",
      "{'city': 'Lille', 'hotel_name': 'Lille Grand Place - cozy and equipped studio!', 'hotel_score': '8,0', 'hotel_description': None, 'hotel_url': 'https://www.booking.com/hotel/fr/lille-grand-place-cozy-and-equipped-studio.fr.html?label=gen173nr-1FCAEoggI46AdIDVgEaE2IAQGYAQ24ARfIAQzYAQHoAQH4AQKIAgGoAgO4AqHArZsGwAIB0gIkZjNmNWU2NzAtYzY4MS00YTllLTgyYTEtYzg3OWM1MjUxMzdk2AIF4AIB&sid=72db8d4c9db160b81ea15c01dadac7d8&aid=304142&ucfs=1&arphpl=1&group_adults=2&req_adults=2&no_rooms=1&group_children=0&req_children=0&hpos=6&hapos=431&sr_order=popularity&srpvid=746739afc3d0003e&srepoch=1667981536&from=searchresults#hotelTmpl'}\n",
      "{'city': 'Lille', 'hotel_name': 'Lille Centre - Nice cozy and functional ap', 'hotel_score': '6,7', 'hotel_description': None, 'hotel_url': 'https://www.booking.com/hotel/fr/hypercentre-gares-superbe-studio-cozy.fr.html?label=gen173nr-1FCAEoggI46AdIDVgEaE2IAQGYAQ24ARfIAQzYAQHoAQH4AQKIAgGoAgO4AqHArZsGwAIB0gIkZjNmNWU2NzAtYzY4MS00YTllLTgyYTEtYzg3OWM1MjUxMzdk2AIF4AIB&sid=72db8d4c9db160b81ea15c01dadac7d8&aid=304142&ucfs=1&arphpl=1&group_adults=2&req_adults=2&no_rooms=1&group_children=0&req_children=0&hpos=12&hapos=437&sr_order=popularity&srpvid=746739afc3d0003e&srepoch=1667981536&from=searchresults#hotelTmpl'}\n",
      "{'city': 'Colmar', 'hotel_name': 'Le Loft', 'hotel_score': '9,5', 'hotel_description': None, 'hotel_url': 'https://www.booking.com/hotel/fr/le-loft-colmar.fr.html?label=gen173nr-1FCAEoggI46AdIDVgEaE2IAQGYAQ24ARfIAQzYAQHoAQH4AQKIAgGoAgO4AqHArZsGwAIB0gIkZjNmNWU2NzAtYzY4MS00YTllLTgyYTEtYzg3OWM1MjUxMzdk2AIF4AIB&sid=72db8d4c9db160b81ea15c01dadac7d8&aid=304142&ucfs=1&arphpl=1&group_adults=2&req_adults=2&no_rooms=1&group_children=0&req_children=0&hpos=23&hapos=448&sr_order=popularity&srpvid=40fe39b093bb003c&srepoch=1667981537&from=searchresults#hotelTmpl'}\n",
      "{'city': 'Annecy', 'hotel_name': 'Le Colombier', 'hotel_score': None, 'hotel_description': None, 'hotel_url': 'https://www.booking.com/hotel/fr/le-colombier-seynod.fr.html?label=gen173nr-1FCAEoggI46AdIDVgEaE2IAQGYAQ24ARfIAQzYAQHoAQH4AQKIAgGoAgO4AqHArZsGwAIB0gIkZjNmNWU2NzAtYzY4MS00YTllLTgyYTEtYzg3OWM1MjUxMzdk2AIF4AIB&sid=72db8d4c9db160b81ea15c01dadac7d8&aid=304142&ucfs=1&arphpl=1&group_adults=2&req_adults=2&no_rooms=1&group_children=0&req_children=0&hpos=1&hapos=426&sr_order=popularity&srpvid=b8fa39b242e2003e&srepoch=1667981541&from=searchresults#hotelTmpl'}\n",
      "{'city': 'Annecy', 'hotel_name': 'Le Cocon', 'hotel_score': '8,1', 'hotel_description': None, 'hotel_url': 'https://www.booking.com/hotel/fr/le-cocon-annecy.fr.html?label=gen173nr-1FCAEoggI46AdIDVgEaE2IAQGYAQ24ARfIAQzYAQHoAQH4AQKIAgGoAgO4AqHArZsGwAIB0gIkZjNmNWU2NzAtYzY4MS00YTllLTgyYTEtYzg3OWM1MjUxMzdk2AIF4AIB&sid=72db8d4c9db160b81ea15c01dadac7d8&aid=304142&ucfs=1&arphpl=1&group_adults=2&req_adults=2&no_rooms=1&group_children=0&req_children=0&hpos=22&hapos=447&sr_order=popularity&srpvid=b8fa39b242e2003e&srepoch=1667981541&from=searchresults#hotelTmpl'}\n",
      "{'city': 'Annecy', 'hotel_name': 'La Tournette', 'hotel_score': '6,5', 'hotel_description': None, 'hotel_url': 'https://www.booking.com/hotel/fr/studio-vieille-ville-annecy.fr.html?label=gen173nr-1FCAEoggI46AdIDVgEaE2IAQGYAQ24ARfIAQzYAQHoAQH4AQKIAgGoAgO4AqHArZsGwAIB0gIkZjNmNWU2NzAtYzY4MS00YTllLTgyYTEtYzg3OWM1MjUxMzdk2AIF4AIB&sid=72db8d4c9db160b81ea15c01dadac7d8&aid=304142&ucfs=1&arphpl=1&group_adults=2&req_adults=2&no_rooms=1&group_children=0&req_children=0&hpos=19&hapos=469&sr_order=popularity&srpvid=80cb39b6edf3004b&srepoch=1667981550&from=searchresults#hotelTmpl'}\n",
      "{'city': 'Ariege', 'hotel_name': 'Comfortable home with terrace in a pleasant holiday village', 'hotel_score': '8,3', 'hotel_description': None, 'hotel_url': 'https://www.booking.com/hotel/fr/residence-chateau-cazaleres.fr.html?label=gen173nr-1FCAEoggI46AdIDVgEaE2IAQGYAQ24ARfIAQzYAQHoAQH4AQKIAgGoAgO4AqHArZsGwAIB0gIkZjNmNWU2NzAtYzY4MS00YTllLTgyYTEtYzg3OWM1MjUxMzdk2AIF4AIB&sid=72db8d4c9db160b81ea15c01dadac7d8&aid=304142&ucfs=1&arphpl=1&group_adults=2&req_adults=2&no_rooms=1&group_children=0&req_children=0&hpos=16&hapos=291&sr_order=popularity&srpvid=e05039ba195f0067&srepoch=1667981558&from=searchresults#hotelTmpl'}\n",
      "{'city': 'Gorges du Verdon', 'hotel_name': 'Hôtel des Alpes', 'hotel_score': '8,7', 'hotel_description': None, 'hotel_url': 'https://www.booking.com/hotel/fr/des-alpes-gra-c-oux-les-bains.fr.html?label=gen173nr-1FCAEoggI46AdIDVgEaE2IAQGYAQ24ARfIAQzYAQHoAQH4AQKIAgGoAgO4AqHArZsGwAIB0gIkZjNmNWU2NzAtYzY4MS00YTllLTgyYTEtYzg3OWM1MjUxMzdk2AIF4AIB&sid=72db8d4c9db160b81ea15c01dadac7d8&aid=304142&ucfs=1&arphpl=1&group_adults=2&req_adults=2&no_rooms=1&group_children=0&req_children=0&hpos=22&hapos=47&sr_order=popularity&srpvid=9a0939bdab1e003a&srepoch=1667981563&from=searchresults#hotelTmpl'}\n",
      "{'city': 'Ariege', 'hotel_name': 'The Nest', 'hotel_score': '9,4', 'hotel_description': None, 'hotel_url': 'https://www.booking.com/hotel/fr/the-nest-montaut.fr.html?label=gen173nr-1FCAEoggI46AdIDVgEaE2IAQGYAQ24ARfIAQzYAQHoAQH4AQKIAgGoAgO4AqHArZsGwAIB0gIkZjNmNWU2NzAtYzY4MS00YTllLTgyYTEtYzg3OWM1MjUxMzdk2AIF4AIB&sid=72db8d4c9db160b81ea15c01dadac7d8&aid=304142&ucfs=1&arphpl=1&group_adults=2&req_adults=2&no_rooms=1&group_children=0&req_children=0&hpos=24&hapos=324&sr_order=popularity&srpvid=424239bfca2c0254&srepoch=1667981567&from=searchresults#hotelTmpl'}\n",
      "{'city': 'Ariege', 'hotel_name': 'Comfortable home with terrace in a pleasant holiday village', 'hotel_score': None, 'hotel_description': None, 'hotel_url': 'https://www.booking.com/hotel/fr/residence-chateau-cazaleres-daumazan-sur-arize1.fr.html?label=gen173nr-1FCAEoggI46AdIDVgEaE2IAQGYAQ24ARfIAQzYAQHoAQH4AQKIAgGoAgO4AqHArZsGwAIB0gIkZjNmNWU2NzAtYzY4MS00YTllLTgyYTEtYzg3OWM1MjUxMzdk2AIF4AIB&sid=72db8d4c9db160b81ea15c01dadac7d8&aid=304142&ucfs=1&arphpl=1&group_adults=2&req_adults=2&no_rooms=1&group_children=0&req_children=0&hpos=15&hapos=340&sr_order=popularity&srpvid=061539c3b5b901cf&srepoch=1667981576&from=searchresults#hotelTmpl'}\n",
      "{'city': 'Annecy', 'hotel_name': 'Le Pélican', 'hotel_score': '8,6', 'hotel_description': None, 'hotel_url': 'https://www.booking.com/hotel/fr/le-pelican-annecy1.fr.html?label=gen173nr-1FCAEoggI46AdIDVgEaE2IAQGYAQ24ARfIAQzYAQHoAQH4AQKIAgGoAgO4AqHArZsGwAIB0gIkZjNmNWU2NzAtYzY4MS00YTllLTgyYTEtYzg3OWM1MjUxMzdk2AIF4AIB&sid=72db8d4c9db160b81ea15c01dadac7d8&aid=304142&ucfs=1&arphpl=1&group_adults=2&req_adults=2&no_rooms=1&group_children=0&req_children=0&hpos=10&hapos=535&sr_order=popularity&srpvid=8d4239c4ef300029&srepoch=1667981578&from=searchresults#hotelTmpl'}\n",
      "{'city': 'Mont Saint Michel', 'hotel_name': 'Awesome home in Mont-Dol with 1 Bedrooms and WiFi', 'hotel_score': None, 'hotel_description': None, 'hotel_url': 'https://www.booking.com/hotel/fr/stunning-home-in-mont-dol-w-1-bedrooms.fr.html?label=gen173nr-1FCAEoggI46AdIDVgEaE2IAQGYAQ24ARfIAQzYAQHoAQH4AQKIAgGoAgO4AqHArZsGwAIB0gIkZjNmNWU2NzAtYzY4MS00YTllLTgyYTEtYzg3OWM1MjUxMzdk2AIF4AIB&sid=72db8d4c9db160b81ea15c01dadac7d8&aid=304142&ucfs=1&arphpl=1&group_adults=2&req_adults=2&no_rooms=1&group_children=0&req_children=0&hpos=23&hapos=523&sr_order=popularity&srpvid=47b039c6d1da009c&srepoch=1667981581&from=searchresults#hotelTmpl'}\n",
      "{'city': 'Avignon', 'hotel_name': 'les marchands', 'hotel_score': '7,8', 'hotel_description': None, 'hotel_url': 'https://www.booking.com/hotel/fr/les-marchands-avignon1.fr.html?label=gen173nr-1FCAEoggI46AdIDVgEaE2IAQGYAQ24ARfIAQzYAQHoAQH4AQKIAgGoAgO4AqHArZsGwAIB0gIkZjNmNWU2NzAtYzY4MS00YTllLTgyYTEtYzg3OWM1MjUxMzdk2AIF4AIB&sid=72db8d4c9db160b81ea15c01dadac7d8&aid=304142&ucfs=1&arphpl=1&group_adults=2&req_adults=2&no_rooms=1&group_children=0&req_children=0&hpos=23&hapos=148&sr_order=popularity&srpvid=a66e39c695ec0230&srepoch=1667981582&from=searchresults#hotelTmpl'}\n",
      "{'city': 'Aix en Provence', 'hotel_name': 'La petite maison', 'hotel_score': '9,4', 'hotel_description': None, 'hotel_url': 'https://www.booking.com/hotel/fr/la-petite-maison-aix-en-provence.fr.html?label=gen173nr-1FCAEoggI46AdIDVgEaE2IAQGYAQ24ARfIAQzYAQHoAQH4AQKIAgGoAgO4AqHArZsGwAIB0gIkZjNmNWU2NzAtYzY4MS00YTllLTgyYTEtYzg3OWM1MjUxMzdk2AIF4AIB&sid=72db8d4c9db160b81ea15c01dadac7d8&aid=304142&ucfs=1&arphpl=1&group_adults=2&req_adults=2&no_rooms=1&group_children=0&req_children=0&hpos=10&hapos=135&sr_order=popularity&srpvid=42f339c7b17d00d6&srepoch=1667981583&from_sustainable_property_sr=1&from=searchresults#hotelTmpl'}\n",
      "{'city': 'Ariege', 'hotel_name': 'Maison de vacances', 'hotel_score': '7,8', 'hotel_description': None, 'hotel_url': 'https://www.booking.com/hotel/fr/maison-de-vacances-bompas.fr.html?label=gen173nr-1FCAEoggI46AdIDVgEaE2IAQGYAQ24ARfIAQzYAQHoAQH4AQKIAgGoAgO4AqHArZsGwAIB0gIkZjNmNWU2NzAtYzY4MS00YTllLTgyYTEtYzg3OWM1MjUxMzdk2AIF4AIB&sid=72db8d4c9db160b81ea15c01dadac7d8&aid=304142&ucfs=1&arphpl=1&group_adults=2&req_adults=2&no_rooms=1&group_children=0&req_children=0&hpos=7&hapos=357&sr_order=popularity&srpvid=17c639c79e1c000c&srepoch=1667981584&from_sustainable_property_sr=1&from=searchresults#hotelTmpl'}\n",
      "{'city': 'Bormes les Mimosas', 'hotel_name': 'Studio', 'hotel_score': None, 'hotel_description': None, 'hotel_url': 'https://www.booking.com/hotel/fr/studio-bormes-les-mimosas12.fr.html?label=gen173nr-1FCAEoggI46AdIDVgEaE2IAQGYAQ24ARfIAQzYAQHoAQH4AQKIAgGoAgO4AqHArZsGwAIB0gIkZjNmNWU2NzAtYzY4MS00YTllLTgyYTEtYzg3OWM1MjUxMzdk2AIF4AIB&sid=72db8d4c9db160b81ea15c01dadac7d8&aid=304142&ucfs=1&arphpl=1&group_adults=2&req_adults=2&no_rooms=1&group_children=0&req_children=0&hpos=23&hapos=148&sr_order=popularity&srpvid=cac239c875770060&srepoch=1667981586&from_beach_sr=1&beach_sr_walking_distance=207&from=searchresults#hotelTmpl'}\n",
      "{'city': 'Carcassonne', 'hotel_name': 'Le Passage', 'hotel_score': '8,5', 'hotel_description': None, 'hotel_url': 'https://www.booking.com/hotel/fr/le-passage.fr.html?label=gen173nr-1FCAEoggI46AdIDVgEaE2IAQGYAQ24ARfIAQzYAQHoAQH4AQKIAgGoAgO4AqHArZsGwAIB0gIkZjNmNWU2NzAtYzY4MS00YTllLTgyYTEtYzg3OWM1MjUxMzdk2AIF4AIB&sid=72db8d4c9db160b81ea15c01dadac7d8&aid=304142&ucfs=1&arphpl=1&group_adults=2&req_adults=2&no_rooms=1&group_children=0&req_children=0&hpos=2&hapos=352&sr_order=popularity&srpvid=0bc039c982d3027d&srepoch=1667981587&from=searchresults#hotelTmpl'}\n",
      "{'city': 'Nimes', 'hotel_name': 'Villa Bohème', 'hotel_score': None, 'hotel_description': None, 'hotel_url': 'https://www.booking.com/hotel/fr/villa-boheme-nimes.fr.html?label=gen173nr-1FCAEoggI46AdIDVgEaE2IAQGYAQ24ARfIAQzYAQHoAQH4AQKIAgGoAgO4AqHArZsGwAIB0gIkZjNmNWU2NzAtYzY4MS00YTllLTgyYTEtYzg3OWM1MjUxMzdk2AIF4AIB&sid=72db8d4c9db160b81ea15c01dadac7d8&aid=304142&ucfs=1&arphpl=1&group_adults=2&req_adults=2&no_rooms=1&group_children=0&req_children=0&hpos=9&hapos=309&sr_order=popularity&srpvid=a5b639ccae940088&srepoch=1667981593&from=searchresults#hotelTmpl'}\n",
      "{'city': 'Annecy', 'hotel_name': 'Hôtel des Alpes', 'hotel_score': '8,5', 'hotel_description': None, 'hotel_url': 'https://www.booking.com/hotel/fr/hotel-des-alpes.fr.html?label=gen173nr-1FCAEoggI46AdIDVgEaE2IAQGYAQ24ARfIAQzYAQHoAQH4AQKIAgGoAgO4AqHArZsGwAIB0gIkZjNmNWU2NzAtYzY4MS00YTllLTgyYTEtYzg3OWM1MjUxMzdk2AIF4AIB&sid=72db8d4c9db160b81ea15c01dadac7d8&aid=304142&ucfs=1&arphpl=1&group_adults=2&req_adults=2&no_rooms=1&group_children=0&req_children=0&hpos=10&hapos=585&sr_order=popularity&srpvid=45a539ccd85a005b&srepoch=1667981594&from=searchresults#hotelTmpl'}\n",
      "{'city': 'Mont Saint Michel', 'hotel_name': 'Studio centre ville', 'hotel_score': '8,9', 'hotel_description': None, 'hotel_url': 'https://www.booking.com/hotel/fr/studio-centre-ville-dol-de-bretagne.fr.html?label=gen173nr-1FCAEoggI46AdIDVgEaE2IAQGYAQ24ARfIAQzYAQHoAQH4AQKIAgGoAgO4AqHArZsGwAIB0gIkZjNmNWU2NzAtYzY4MS00YTllLTgyYTEtYzg3OWM1MjUxMzdk2AIF4AIB&sid=72db8d4c9db160b81ea15c01dadac7d8&aid=304142&ucfs=1&arphpl=1&group_adults=2&req_adults=2&no_rooms=1&group_children=0&req_children=0&hpos=11&hapos=561&sr_order=popularity&srpvid=055b39ceea280057&srepoch=1667981597&from_sustainable_property_sr=1&from=searchresults#hotelTmpl'}\n",
      "{'city': 'Toulouse', 'hotel_name': 'Le Duplex', 'hotel_score': '8,3', 'hotel_description': None, 'hotel_url': 'https://www.booking.com/hotel/fr/le-duplex-toulouse.fr.html?label=gen173nr-1FCAEoggI46AdIDVgEaE2IAQGYAQ24ARfIAQzYAQHoAQH4AQKIAgGoAgO4AqHArZsGwAIB0gIkZjNmNWU2NzAtYzY4MS00YTllLTgyYTEtYzg3OWM1MjUxMzdk2AIF4AIB&sid=72db8d4c9db160b81ea15c01dadac7d8&aid=304142&ucfs=1&arphpl=1&group_adults=2&req_adults=2&no_rooms=1&group_children=0&req_children=0&hpos=17&hapos=442&sr_order=popularity&srpvid=e5ae39ce32650084&srepoch=1667981598&from=searchresults#hotelTmpl'}\n",
      "{'city': 'Gorges du Verdon', 'hotel_name': 'Studio', 'hotel_score': None, 'hotel_description': None, 'hotel_url': 'https://www.booking.com/hotel/fr/studio-greoux-les-bains2.fr.html?label=gen173nr-1FCAEoggI46AdIDVgEaE2IAQGYAQ24ARfIAQzYAQHoAQH4AQKIAgGoAgO4AqHArZsGwAIB0gIkZjNmNWU2NzAtYzY4MS00YTllLTgyYTEtYzg3OWM1MjUxMzdk2AIF4AIB&sid=72db8d4c9db160b81ea15c01dadac7d8&aid=304142&ucfs=1&arphpl=1&group_adults=2&req_adults=2&no_rooms=1&group_children=0&req_children=0&hpos=10&hapos=185&sr_order=popularity&srpvid=9c5c39d5c261008a&srepoch=1667981611&from=searchresults#hotelTmpl'}\n",
      "{'city': 'Lyon', 'hotel_name': 'Chez Marie', 'hotel_score': '9,3', 'hotel_description': None, 'hotel_url': 'https://www.booking.com/hotel/fr/les-jardins-sainte-blandine.fr.html?label=gen173nr-1FCAEoggI46AdIDVgEaE2IAQGYAQ24ARfIAQzYAQHoAQH4AQKIAgGoAgO4AqHArZsGwAIB0gIkZjNmNWU2NzAtYzY4MS00YTllLTgyYTEtYzg3OWM1MjUxMzdk2AIF4AIB&sid=72db8d4c9db160b81ea15c01dadac7d8&aid=304142&ucfs=1&arphpl=1&group_adults=2&req_adults=2&no_rooms=1&group_children=0&req_children=0&hpos=5&hapos=155&sr_order=popularity&srpvid=b97139d55a5a004d&srepoch=1667981612&from=searchresults#hotelTmpl'}\n",
      "{'city': 'Aix en Provence', 'hotel_name': 'Hôtel Vendôme', 'hotel_score': '7,4', 'hotel_description': None, 'hotel_url': 'https://www.booking.com/hotel/fr/ha-tel-vendome.fr.html?label=gen173nr-1FCAEoggI46AdIDVgEaE2IAQGYAQ24ARfIAQzYAQHoAQH4AQKIAgGoAgO4AqHArZsGwAIB0gIkZjNmNWU2NzAtYzY4MS00YTllLTgyYTEtYzg3OWM1MjUxMzdk2AIF4AIB&sid=72db8d4c9db160b81ea15c01dadac7d8&aid=304142&ucfs=1&arphpl=1&group_adults=2&req_adults=2&no_rooms=1&group_children=0&req_children=0&hpos=24&hapos=249&sr_order=popularity&srpvid=55c539d68943012e&srepoch=1667981614&from=searchresults#hotelTmpl'}\n",
      "{'city': 'Cassis', 'hotel_name': 'Les Terrasses', 'hotel_score': '7,0', 'hotel_description': None, 'hotel_url': 'https://www.booking.com/hotel/fr/les-terrasses-cassis.fr.html?label=gen173nr-1FCAEoggI46AdIDVgEaE2IAQGYAQ24ARfIAQzYAQHoAQH4AQKIAgGoAgO4AqHArZsGwAIB0gIkZjNmNWU2NzAtYzY4MS00YTllLTgyYTEtYzg3OWM1MjUxMzdk2AIF4AIB&sid=72db8d4c9db160b81ea15c01dadac7d8&aid=304142&ucfs=1&arphpl=1&group_adults=2&req_adults=2&no_rooms=1&group_children=0&req_children=0&hpos=2&hapos=227&sr_order=popularity&srpvid=b70e39d7479901ee&srepoch=1667981615&from_beach_sr=1&beach_sr_walking_distance=1636&from=searchresults#hotelTmpl'}\n",
      "{'city': 'Mont Saint Michel', 'hotel_name': 'Chez Emile', 'hotel_score': '7,8', 'hotel_description': None, 'hotel_url': 'https://www.booking.com/hotel/fr/chez-emile-granville.fr.html?label=gen173nr-1FCAEoggI46AdIDVgEaE2IAQGYAQ24ARfIAQzYAQHoAQH4AQKIAgGoAgO4AqHArZsGwAIB0gIkZjNmNWU2NzAtYzY4MS00YTllLTgyYTEtYzg3OWM1MjUxMzdk2AIF4AIB&sid=72db8d4c9db160b81ea15c01dadac7d8&aid=304142&ucfs=1&arphpl=1&group_adults=2&req_adults=2&no_rooms=1&group_children=0&req_children=0&hpos=12&hapos=637&sr_order=popularity&srpvid=033639d812f30058&srepoch=1667981618&from=searchresults#hotelTmpl'}\n",
      "{'city': 'Avignon', 'hotel_name': \"Au fil de l'eau\", 'hotel_score': '9,4', 'hotel_description': None, 'hotel_url': 'https://www.booking.com/hotel/fr/au-fil-de-l-39-eau-avignon.fr.html?label=gen173nr-1FCAEoggI46AdIDVgEaE2IAQGYAQ24ARfIAQzYAQHoAQH4AQKIAgGoAgO4AqHArZsGwAIB0gIkZjNmNWU2NzAtYzY4MS00YTllLTgyYTEtYzg3OWM1MjUxMzdk2AIF4AIB&sid=72db8d4c9db160b81ea15c01dadac7d8&aid=304142&ucfs=1&arphpl=1&group_adults=2&req_adults=2&no_rooms=1&group_children=0&req_children=0&hpos=11&hapos=261&sr_order=popularity&srpvid=311639d9c84e0082&srepoch=1667981619&from=searchresults#hotelTmpl'}\n",
      "{'city': 'Aix en Provence', 'hotel_name': 'Hôtel de France', 'hotel_score': '7,7', 'hotel_description': None, 'hotel_url': 'https://www.booking.com/hotel/fr/de-france-aix-en-provence.fr.html?label=gen173nr-1FCAEoggI46AdIDVgEaE2IAQGYAQ24ARfIAQzYAQHoAQH4AQKIAgGoAgO4AqHArZsGwAIB0gIkZjNmNWU2NzAtYzY4MS00YTllLTgyYTEtYzg3OWM1MjUxMzdk2AIF4AIB&sid=72db8d4c9db160b81ea15c01dadac7d8&aid=304142&ucfs=1&arphpl=1&group_adults=2&req_adults=2&no_rooms=1&group_children=0&req_children=0&hpos=7&hapos=257&sr_order=popularity&srpvid=ca9c39d9d6f602be&srepoch=1667981620&from=searchresults#hotelTmpl'}\n",
      "{'city': 'Cassis', 'hotel_name': 'Le Bellevue', 'hotel_score': '8,3', 'hotel_description': None, 'hotel_url': 'https://www.booking.com/hotel/fr/le-bellevue-cassis1.fr.html?label=gen173nr-1FCAEoggI46AdIDVgEaE2IAQGYAQ24ARfIAQzYAQHoAQH4AQKIAgGoAgO4AqHArZsGwAIB0gIkZjNmNWU2NzAtYzY4MS00YTllLTgyYTEtYzg3OWM1MjUxMzdk2AIF4AIB&sid=72db8d4c9db160b81ea15c01dadac7d8&aid=304142&ucfs=1&arphpl=1&group_adults=2&req_adults=2&no_rooms=1&group_children=0&req_children=0&hpos=7&hapos=257&sr_order=popularity&srpvid=9d2339da02520068&srepoch=1667981621&from_beach_sr=1&beach_sr_walking_distance=1690&from=searchresults#hotelTmpl'}\n",
      "{'city': 'Avignon', 'hotel_name': 'Appartement de charme', 'hotel_score': '9,5', 'hotel_description': None, 'hotel_url': 'https://www.booking.com/hotel/fr/aux-fourbisseurs.fr.html?label=gen173nr-1FCAEoggI46AdIDVgEaE2IAQGYAQ24ARfIAQzYAQHoAQH4AQKIAgGoAgO4AqHArZsGwAIB0gIkZjNmNWU2NzAtYzY4MS00YTllLTgyYTEtYzg3OWM1MjUxMzdk2AIF4AIB&sid=72db8d4c9db160b81ea15c01dadac7d8&aid=304142&ucfs=1&arphpl=1&group_adults=2&req_adults=2&no_rooms=1&group_children=0&req_children=0&hpos=13&hapos=388&sr_order=popularity&srpvid=3ce839e31a75008d&srepoch=1667981640&from=searchresults#hotelTmpl'}\n",
      "{'city': 'Mont Saint Michel', 'hotel_name': \"L'Annexe\", 'hotel_score': '9,6', 'hotel_description': None, 'hotel_url': 'https://www.booking.com/hotel/fr/l-39-annexe-donville-les-bains.fr.html?label=gen173nr-1FCAEoggI46AdIDVgEaE2IAQGYAQ24ARfIAQzYAQHoAQH4AQKIAgGoAgO4AqHArZsGwAIB0gIkZjNmNWU2NzAtYzY4MS00YTllLTgyYTEtYzg3OWM1MjUxMzdk2AIF4AIB&sid=72db8d4c9db160b81ea15c01dadac7d8&aid=304142&ucfs=1&arphpl=1&group_adults=2&req_adults=2&no_rooms=1&group_children=0&req_children=0&hpos=25&hapos=775&sr_order=popularity&srpvid=114239e493b700c3&srepoch=1667981641&from_sustainable_property_sr=1&from=searchresults#hotelTmpl'}\n",
      "{'city': 'Avignon', 'hotel_name': 'Hôtel Le Médiéval', 'hotel_score': '7,9', 'hotel_description': None, 'hotel_url': 'https://www.booking.com/hotel/fr/le-medieval-avignon.fr.html?label=gen173nr-1FCAEoggI46AdIDVgEaE2IAQGYAQ24ARfIAQzYAQHoAQH4AQKIAgGoAgO4AqHArZsGwAIB0gIkZjNmNWU2NzAtYzY4MS00YTllLTgyYTEtYzg3OWM1MjUxMzdk2AIF4AIB&sid=72db8d4c9db160b81ea15c01dadac7d8&aid=304142&ucfs=1&arphpl=1&group_adults=2&req_adults=2&no_rooms=1&group_children=0&req_children=0&hpos=2&hapos=452&sr_order=popularity&srpvid=cd2e39e9518e0074&srepoch=1667981651&from_sustainable_property_sr=1&from=searchresults#hotelTmpl'}\n",
      "{'city': 'Avignon', 'hotel_name': 'Hôtel Central', 'hotel_score': '7,9', 'hotel_description': None, 'hotel_url': 'https://www.booking.com/hotel/fr/central-avignon.fr.html?label=gen173nr-1FCAEoggI46AdIDVgEaE2IAQGYAQ24ARfIAQzYAQHoAQH4AQKIAgGoAgO4AqHArZsGwAIB0gIkZjNmNWU2NzAtYzY4MS00YTllLTgyYTEtYzg3OWM1MjUxMzdk2AIF4AIB&sid=72db8d4c9db160b81ea15c01dadac7d8&aid=304142&ucfs=1&arphpl=1&group_adults=2&req_adults=2&no_rooms=1&group_children=0&req_children=0&hpos=4&hapos=479&sr_order=popularity&srpvid=121939ea7bca0078&srepoch=1667981654&from_sustainable_property_sr=1&from=searchresults#hotelTmpl'}\n",
      "{'city': 'Avignon', 'hotel_name': \"Hotel d'Angleterre\", 'hotel_score': '7,5', 'hotel_description': None, 'hotel_url': 'https://www.booking.com/hotel/fr/d-angleterre-avignon.fr.html?label=gen173nr-1FCAEoggI46AdIDVgEaE2IAQGYAQ24ARfIAQzYAQHoAQH4AQKIAgGoAgO4AqHArZsGwAIB0gIkZjNmNWU2NzAtYzY4MS00YTllLTgyYTEtYzg3OWM1MjUxMzdk2AIF4AIB&sid=72db8d4c9db160b81ea15c01dadac7d8&aid=304142&ucfs=1&arphpl=1&group_adults=2&req_adults=2&no_rooms=1&group_children=0&req_children=0&hpos=15&hapos=490&sr_order=popularity&srpvid=121939ea7bca0078&srepoch=1667981654&from_sustainable_property_sr=1&from=searchresults#hotelTmpl'}\n",
      "{'city': 'Lyon', 'hotel_name': 'Les Capucins', 'hotel_score': '8,1', 'hotel_description': None, 'hotel_url': 'https://www.booking.com/hotel/fr/les-capucins-lyon.fr.html?label=gen173nr-1FCAEoggI46AdIDVgEaE2IAQGYAQ24ARfIAQzYAQHoAQH4AQKIAgGoAgO4AqHArZsGwAIB0gIkZjNmNWU2NzAtYzY4MS00YTllLTgyYTEtYzg3OWM1MjUxMzdk2AIF4AIB&sid=72db8d4c9db160b81ea15c01dadac7d8&aid=304142&ucfs=1&arphpl=1&group_adults=2&req_adults=2&no_rooms=1&group_children=0&req_children=0&hpos=6&hapos=456&sr_order=popularity&srpvid=a5bc39eca4f9008f&srepoch=1667981658&from=searchresults#hotelTmpl'}\n",
      "{'city': 'Marseille', 'hotel_name': 'Suite au coeur du panier', 'hotel_score': None, 'hotel_description': None, 'hotel_url': 'https://www.booking.com/hotel/fr/suite-au-coeur-du-panier-marseille.fr.html?label=gen173nr-1FCAEoggI46AdIDVgEaE2IAQGYAQ24ARfIAQzYAQHoAQH4AQKIAgGoAgO4AqHArZsGwAIB0gIkZjNmNWU2NzAtYzY4MS00YTllLTgyYTEtYzg3OWM1MjUxMzdk2AIF4AIB&sid=72db8d4c9db160b81ea15c01dadac7d8&aid=304142&ucfs=1&arphpl=1&group_adults=2&req_adults=2&no_rooms=1&group_children=0&req_children=0&hpos=16&hapos=541&sr_order=popularity&srpvid=9fa039ed66e60055&srepoch=1667981660&from_sustainable_property_sr=1&from=searchresults#hotelTmpl'}\n",
      "{'city': 'Lyon', 'hotel_name': 'Hotel de Paris', 'hotel_score': '7,2', 'hotel_description': None, 'hotel_url': 'https://www.booking.com/hotel/fr/de-paris-lyon.fr.html?label=gen173nr-1FCAEoggI46AdIDVgEaE2IAQGYAQ24ARfIAQzYAQHoAQH4AQKIAgGoAgO4AqHArZsGwAIB0gIkZjNmNWU2NzAtYzY4MS00YTllLTgyYTEtYzg3OWM1MjUxMzdk2AIF4AIB&sid=72db8d4c9db160b81ea15c01dadac7d8&aid=304142&ucfs=1&arphpl=1&group_adults=2&req_adults=2&no_rooms=1&group_children=0&req_children=0&hpos=17&hapos=667&sr_order=popularity&srpvid=0bc039f382940178&srepoch=1667981671&from_sustainable_property_sr=1&from=searchresults#hotelTmpl'}\n",
      "{'city': 'Marseille', 'hotel_name': 'Appartement coquet', 'hotel_score': '9,7', 'hotel_description': None, 'hotel_url': 'https://www.booking.com/hotel/fr/appartement-coquet-marseille.fr.html?label=gen173nr-1FCAEoggI46AdIDVgEaE2IAQGYAQ24ARfIAQzYAQHoAQH4AQKIAgGoAgO4AqHArZsGwAIB0gIkZjNmNWU2NzAtYzY4MS00YTllLTgyYTEtYzg3OWM1MjUxMzdk2AIF4AIB&sid=72db8d4c9db160b81ea15c01dadac7d8&aid=304142&ucfs=1&arphpl=1&group_adults=2&req_adults=2&no_rooms=1&group_children=0&req_children=0&hpos=6&hapos=781&sr_order=popularity&srpvid=b3b239f5738e006a&srepoch=1667981677&from=searchresults#hotelTmpl'}\n",
      "{'city': 'Marseille', 'hotel_name': 'Appartement les pieds dans l’eau', 'hotel_score': '8,5', 'hotel_description': None, 'hotel_url': 'https://www.booking.com/hotel/fr/appartement-les-pieds-dans-l-eau-marseille123.fr.html?label=gen173nr-1FCAEoggI46AdIDVgEaE2IAQGYAQ24ARfIAQzYAQHoAQH4AQKIAgGoAgO4AqHArZsGwAIB0gIkZjNmNWU2NzAtYzY4MS00YTllLTgyYTEtYzg3OWM1MjUxMzdk2AIF4AIB&sid=72db8d4c9db160b81ea15c01dadac7d8&aid=304142&ucfs=1&arphpl=1&group_adults=2&req_adults=2&no_rooms=1&group_children=0&req_children=0&hpos=1&hapos=951&sr_order=popularity&srpvid=186739fb9932010e&srepoch=1667981687&from=searchresults#hotelTmpl'}\n"
     ]
    }
   ],
   "source": [
    "with open(\"/Users/pryda/Documents/Projets_Jedha/1_Kayak/Scrapping/hotelsbooking/hotels.json\", \"r\") as f:\n",
    "    # find duplicates in the dictionnary\n",
    "    hotels = json.load(f)\n",
    "    hotels = [hotel for hotel in hotels]\n",
    "    unique_hotels = []\n",
    "    for hotel in hotels:\n",
    "        if hotel['hotel_name'] not in unique_hotels:\n",
    "            unique_hotels.append(hotel['hotel_name'])\n",
    "        else:\n",
    "            print(hotel)\n",
    "\n",
    "    with open(\"/Users/pryda/Documents/Projets_Jedha/1_Kayak/Scrapping/hotelsbooking/unique_hotels.json\", \"w\") as f:\n",
    "        json.dump(unique_hotels, f)\n",
    "\n",
    "\n"
   ],
   "metadata": {
    "collapsed": false,
    "pycharm": {
     "name": "#%%\n"
    }
   }
  },
  {
   "cell_type": "code",
   "execution_count": 21,
   "outputs": [],
   "source": [
    "import pandas as pd\n",
    "df = pd.DataFrame.from_dict(hotels)"
   ],
   "metadata": {
    "collapsed": false,
    "pycharm": {
     "name": "#%%\n"
    }
   }
  },
  {
   "cell_type": "code",
   "execution_count": 26,
   "outputs": [
    {
     "data": {
      "text/plain": "Empty DataFrame\nColumns: [city, hotel_name, hotel_score, hotel_description, hotel_url]\nIndex: []",
      "text/html": "<div>\n<style scoped>\n    .dataframe tbody tr th:only-of-type {\n        vertical-align: middle;\n    }\n\n    .dataframe tbody tr th {\n        vertical-align: top;\n    }\n\n    .dataframe thead th {\n        text-align: right;\n    }\n</style>\n<table border=\"1\" class=\"dataframe\">\n  <thead>\n    <tr style=\"text-align: right;\">\n      <th></th>\n      <th>city</th>\n      <th>hotel_name</th>\n      <th>hotel_score</th>\n      <th>hotel_description</th>\n      <th>hotel_url</th>\n    </tr>\n  </thead>\n  <tbody>\n  </tbody>\n</table>\n</div>"
     },
     "execution_count": 26,
     "metadata": {},
     "output_type": "execute_result"
    }
   ],
   "source": [
    "# find duplicates in \"hotel_name\" column\n",
    "df[df.duplicated(subset=['hotel_url'], keep=False)]"
   ],
   "metadata": {
    "collapsed": false,
    "pycharm": {
     "name": "#%%\n"
    }
   }
  },
  {
   "cell_type": "code",
   "execution_count": 10,
   "outputs": [
    {
     "name": "stderr",
     "output_type": "stream",
     "text": [
      "IOPub data rate exceeded.\n",
      "The notebook server will temporarily stop sending output\n",
      "to the client in order to avoid crashing it.\n",
      "To change this limit, set the config variable\n",
      "`--NotebookApp.iopub_data_rate_limit`.\n",
      "\n",
      "Current values:\n",
      "NotebookApp.iopub_data_rate_limit=1000000.0 (bytes/sec)\n",
      "NotebookApp.rate_limit_window=3.0 (secs)\n",
      "\n"
     ]
    }
   ],
   "source": [
    "print(hotels)"
   ],
   "metadata": {
    "collapsed": false,
    "pycharm": {
     "name": "#%%\n"
    }
   }
  }
 ],
 "metadata": {
  "kernelspec": {
   "display_name": "Python 3",
   "language": "python",
   "name": "python3"
  },
  "language_info": {
   "codemirror_mode": {
    "name": "ipython",
    "version": 2
   },
   "file_extension": ".py",
   "mimetype": "text/x-python",
   "name": "python",
   "nbconvert_exporter": "python",
   "pygments_lexer": "ipython2",
   "version": "2.7.6"
  }
 },
 "nbformat": 4,
 "nbformat_minor": 0
}