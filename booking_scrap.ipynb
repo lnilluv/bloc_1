{
 "cells": [
  {
   "cell_type": "code",
   "execution_count": 3,
   "metadata": {
    "collapsed": true,
    "pycharm": {
     "name": "#%%\n"
    }
   },
   "outputs": [
    {
     "name": "stderr",
     "output_type": "stream",
     "text": [
      "2022-11-06 23:58:49 [scrapy.utils.log] INFO: Scrapy 2.7.1 started (bot: scrapybot)\n",
      "2022-11-06 23:58:49 [scrapy.utils.log] INFO: Versions: lxml 4.9.1.0, libxml2 2.9.13, cssselect 1.2.0, parsel 1.7.0, w3lib 2.0.1, Twisted 22.10.0, Python 3.11.0rc2 (v3.11.0rc2:ed7c3ff156, Sep 11 2022, 16:22:22) [Clang 13.0.0 (clang-1300.0.29.30)], pyOpenSSL 22.1.0 (OpenSSL 3.0.7 1 Nov 2022), cryptography 38.0.3, Platform macOS-13.0-arm64-arm-64bit\n",
      "2022-11-06 23:58:49 [scrapy.crawler] INFO: Overridden settings:\n",
      "{'LOG_LEVEL': 20, 'USER_AGENT': 'Chrome/97.0'}\n",
      "2022-11-06 23:58:49 [py.warnings] WARNING: /Users/pryda/Jedha/lib/python3.11/site-packages/scrapy/utils/request.py:231: ScrapyDeprecationWarning: '2.6' is a deprecated value for the 'REQUEST_FINGERPRINTER_IMPLEMENTATION' setting.\n",
      "\n",
      "It is also the default value. In other words, it is normal to get this warning if you have not defined a value for the 'REQUEST_FINGERPRINTER_IMPLEMENTATION' setting. This is so for backward compatibility reasons, but it will change in a future version of Scrapy.\n",
      "\n",
      "See the documentation of the 'REQUEST_FINGERPRINTER_IMPLEMENTATION' setting for information on how to handle this deprecation.\n",
      "  return cls(crawler)\n",
      "\n",
      "2022-11-06 23:58:49 [scrapy.extensions.telnet] INFO: Telnet Password: a2c0acdf89ad5518\n",
      "2022-11-06 23:58:49 [scrapy.middleware] INFO: Enabled extensions:\n",
      "['scrapy.extensions.corestats.CoreStats',\n",
      " 'scrapy.extensions.telnet.TelnetConsole',\n",
      " 'scrapy.extensions.memusage.MemoryUsage',\n",
      " 'scrapy.extensions.feedexport.FeedExporter',\n",
      " 'scrapy.extensions.logstats.LogStats']\n",
      "2022-11-06 23:58:49 [scrapy.middleware] INFO: Enabled downloader middlewares:\n",
      "['scrapy.downloadermiddlewares.httpauth.HttpAuthMiddleware',\n",
      " 'scrapy.downloadermiddlewares.downloadtimeout.DownloadTimeoutMiddleware',\n",
      " 'scrapy.downloadermiddlewares.defaultheaders.DefaultHeadersMiddleware',\n",
      " 'scrapy.downloadermiddlewares.useragent.UserAgentMiddleware',\n",
      " 'scrapy.downloadermiddlewares.retry.RetryMiddleware',\n",
      " 'scrapy.downloadermiddlewares.redirect.MetaRefreshMiddleware',\n",
      " 'scrapy.downloadermiddlewares.httpcompression.HttpCompressionMiddleware',\n",
      " 'scrapy.downloadermiddlewares.redirect.RedirectMiddleware',\n",
      " 'scrapy.downloadermiddlewares.cookies.CookiesMiddleware',\n",
      " 'scrapy.downloadermiddlewares.httpproxy.HttpProxyMiddleware',\n",
      " 'scrapy.downloadermiddlewares.stats.DownloaderStats']\n",
      "2022-11-06 23:58:49 [scrapy.middleware] INFO: Enabled spider middlewares:\n",
      "['scrapy.spidermiddlewares.httperror.HttpErrorMiddleware',\n",
      " 'scrapy.spidermiddlewares.offsite.OffsiteMiddleware',\n",
      " 'scrapy.spidermiddlewares.referer.RefererMiddleware',\n",
      " 'scrapy.spidermiddlewares.urllength.UrlLengthMiddleware',\n",
      " 'scrapy.spidermiddlewares.depth.DepthMiddleware']\n",
      "2022-11-06 23:58:49 [scrapy.middleware] INFO: Enabled item pipelines:\n",
      "[]\n",
      "2022-11-06 23:58:49 [scrapy.core.engine] INFO: Spider opened\n",
      "2022-11-06 23:58:49 [scrapy.extensions.logstats] INFO: Crawled 0 pages (at 0 pages/min), scraped 0 items (at 0 items/min)\n",
      "2022-11-06 23:58:49 [scrapy.extensions.telnet] INFO: Telnet console listening on 127.0.0.1:6023\n",
      "2022-11-06 23:58:50 [scrapy.core.engine] INFO: Closing spider (finished)\n",
      "2022-11-06 23:58:50 [scrapy.extensions.feedexport] INFO: Stored json feed (25 items) in: /Users/pryda/Documents/Projets_Jedha/1_Kayak/booking.json\n",
      "2022-11-06 23:58:50 [scrapy.statscollectors] INFO: Dumping Scrapy stats:\n",
      "{'downloader/request_bytes': 609,\n",
      " 'downloader/request_count': 1,\n",
      " 'downloader/request_method_count/GET': 1,\n",
      " 'downloader/response_bytes': 206522,\n",
      " 'downloader/response_count': 1,\n",
      " 'downloader/response_status_count/200': 1,\n",
      " 'elapsed_time_seconds': 1.301211,\n",
      " 'feedexport/success_count/FileFeedStorage': 1,\n",
      " 'finish_reason': 'finished',\n",
      " 'finish_time': datetime.datetime(2022, 11, 6, 22, 58, 50, 626960),\n",
      " 'httpcompression/response_bytes': 1283030,\n",
      " 'httpcompression/response_count': 1,\n",
      " 'item_scraped_count': 25,\n",
      " 'log_count/INFO': 11,\n",
      " 'log_count/WARNING': 1,\n",
      " 'memusage/max': 116178944,\n",
      " 'memusage/startup': 116178944,\n",
      " 'response_received_count': 1,\n",
      " 'scheduler/dequeued': 1,\n",
      " 'scheduler/dequeued/memory': 1,\n",
      " 'scheduler/enqueued': 1,\n",
      " 'scheduler/enqueued/memory': 1,\n",
      " 'start_time': datetime.datetime(2022, 11, 6, 22, 58, 49, 325749)}\n",
      "2022-11-06 23:58:50 [scrapy.core.engine] INFO: Spider closed (finished)\n"
     ]
    }
   ],
   "source": [
    "# Import os => Library used to easily manipulate operating systems\n",
    "## More info => https://docs.python.org/3/library/os.html\n",
    "import os\n",
    "\n",
    "# Import logging => Library used for logs manipulation\n",
    "## More info => https://docs.python.org/3/library/logging.html\n",
    "import logging\n",
    "\n",
    "# Import scrapy and scrapy.crawler\n",
    "import scrapy\n",
    "from scrapy.crawler import CrawlerProcess\n",
    "\n",
    "class Booking(scrapy.Spider):\n",
    "\n",
    "    # Name of your spider\n",
    "    name = \"booking\"\n",
    "\n",
    "    # Url to start your spider from\n",
    "    start_urls = ['https://www.booking.com/searchresults.en-gb.html?ss=Saint+Malo&ssne=Saint+Malo&ssne_untouched=Saint+Malo&label=gen173nr-1BCAEoggI46AdIM1gEaE2IAQGYAQm4AQfIAQ3YAQHoAQGIAgGoAgO4AvaKn5sGwAIB0gIkZDA1ZWVmZWMtZDRjZC00MTE2LWJiMjYtMjExYjRkZTk0OTkz2AIF4AIB&sid=23a518c7ec42d36326de5495ff341597&aid=304142&lang=en-gb&sb=1&src_elem=sb&src=searchresults&dest_id=-1466824&dest_type=city&group_adults=2&no_rooms=1&group_children=0&sb_travel_purpose=leisure']\n",
    "\n",
    "    # Callback function that will be called when starting your spider\n",
    "    # It will get text, author and tags of all <div> with class=\"quote\"\n",
    "    def parse(self, response):\n",
    "        r = response.css('div.a826ba81c4.fe821aea6c.fa2f36ad22.afd256fc79.d08f526e0d.ed11e24d01.ef9845d4b3.da89aeb942')\n",
    "        for hotel in r:\n",
    "            yield {\n",
    "                \"name\": hotel.css('.d10a6220b4::text').get(),\n",
    "                \"score\": hotel.css('div.b5cd09854e.d10a6220b4::text').get(),\n",
    "                \"description\": hotel.css('.aacd9d0b0a .ef8295f3e6 .d8eab2cf7f::text').get()\n",
    "            }\n",
    "\n",
    "\n",
    "# Name of the file where the results will be saved\n",
    "filename = \"booking.json\"\n",
    "\n",
    "# If file already exists, delete it before crawling (because Scrapy will\n",
    "# concatenate the last and new results otherwise)\n",
    "if filename in os.listdir():\n",
    "    os.remove(f\"/Users/pryda/Documents/Projets_Jedha/1_Kayak/{filename}\")\n",
    "\n",
    "# Declare a new CrawlerProcess with some settings\n",
    "## USER_AGENT => Simulates a browser on an OS\n",
    "## LOG_LEVEL => Minimal Level of Log\n",
    "## FEEDS => Where the file will be stored\n",
    "## More info on built-in settings => https://docs.scrapy.org/en/latest/topics/settings.html?highlight=settings#settings\n",
    "process = CrawlerProcess(settings = {\n",
    "    'USER_AGENT': 'Chrome/97.0',\n",
    "    'LOG_LEVEL': logging.INFO,\n",
    "    \"FEEDS\": {\n",
    "        '/Users/pryda/Documents/Projets_Jedha/1_Kayak/' + filename: {\"format\": \"json\"},\n",
    "    }\n",
    "})\n",
    "\n",
    "# Start the crawling using the spider you defined above\n",
    "process.crawl(Booking)\n",
    "process.start()"
   ]
  },
  {
   "cell_type": "code",
   "execution_count": 1,
   "outputs": [
    {
     "data": {
      "text/plain": "'/Users/pryda/Documents/Projets_Jedha/1_Kayak'"
     },
     "execution_count": 1,
     "metadata": {},
     "output_type": "execute_result"
    }
   ],
   "source": [
    "pwd()"
   ],
   "metadata": {
    "collapsed": false,
    "pycharm": {
     "name": "#%%\n"
    }
   }
  }
 ],
 "metadata": {
  "kernelspec": {
   "display_name": "Python 3",
   "language": "python",
   "name": "python3"
  },
  "language_info": {
   "codemirror_mode": {
    "name": "ipython",
    "version": 2
   },
   "file_extension": ".py",
   "mimetype": "text/x-python",
   "name": "python",
   "nbconvert_exporter": "python",
   "pygments_lexer": "ipython2",
   "version": "2.7.6"
  }
 },
 "nbformat": 4,
 "nbformat_minor": 0
}